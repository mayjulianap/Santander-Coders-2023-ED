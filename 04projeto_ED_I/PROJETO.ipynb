{
 "cells": [
  {
   "cell_type": "markdown",
   "metadata": {
    "application/vnd.databricks.v1+cell": {
     "cellMetadata": {},
     "inputWidgets": {},
     "nuid": "33bad7bd-ba8a-4fdb-9d9e-5951efa9ab2d",
     "showTitle": false,
     "title": ""
    }
   },
   "source": [
    "# Projeto - Extração de Dados I\n",
    "\n",
    "## Sistema de Monitoramento de Avanços no Campo da Genômica\n",
    "\n",
    "### Contexto:\n",
    "\n",
    "O grupo trabalha no time de engenharia de dados na HealthGen, uma empresa especializada em genômica e pesquisa de medicina personalizada. A genômica é o estudo do conjunto completo de genes de um organismo, desempenha um papel fundamental na medicina personalizada e na pesquisa biomédica. Permite a análise do DNA para identificar variantes genéticas e mutações associadas a doenças e facilita a personalização de tratamentos com base nas características genéticas individuais dos pacientes.\n",
    "\n",
    "A empresa precisa se manter atualizada sobre os avanços mais recentes na genômica, identificar oportunidades para pesquisa e desenvolvimento de tratamentos personalizados e acompanhar as tendências em genômica que podem influenciar estratégias de pesquisa e desenvolvimento. Pensando nisso, o time de dados apresentou uma proposta de desenvolvimento de um sistema que coleta, analisa e apresenta as últimas notícias relacionadas à genômica e à medicina personalizada, e também estuda o avanço do campo nos últimos anos.\n",
    "\n",
    "O time de engenharia de dados tem como objetivo desenvolver e garantir um pipeline de dados confiável e estável. As principais atividades são:\n",
    "\n",
    "1. **Consumo de dados com a News API**:\n",
    "    - Implementar um mecanismo para consumir dados de notícias de fontes confiáveis e especializadas em genômica e medicina personalizada, a partir da News API:\n",
    "      [https://newsapi.org/](https://newsapi.org/)\n",
    "\n",
    "2. **Definir Critérios de Relevância**:\n",
    "    - Desenvolver critérios precisos de relevância para filtrar as notícias. Por exemplo, o time pode se concentrar em notícias que mencionem avanços em sequenciamento de DNA, terapias genéticas personalizadas ou descobertas relacionadas a doenças genéticas específicas.\n",
    "\n",
    "3. **Cargas em Batches**:\n",
    "    - Armazenar as notícias relevantes em um formato estruturado e facilmente acessível para consultas e análises posteriores. Essa carga deve acontecer 1 vez por hora. Se as notícias extraídas já tiverem sido armazenadas na carga anterior, o processo deve ignorar e não armazenar as notícias novamente, os dados carregados não podem ficar duplicados.\n",
    "\n",
    "4. **Dados transformados para consulta do público final**:\n",
    "    - A partir dos dados carregados, aplicar as seguintes transformações e armazenar o resultado final para a consulta do público final:\n",
    "        - Quantidade de notícias por ano, mês e dia de publicação;\n",
    "        - Quantidade de notícias por fonte e autor;\n",
    "        - Quantidade de aparições de 3 palavras-chave por ano, mês e dia de publicação (as 3 palavras-chave serão as mesmas usadas para fazer os filtros de relevância do item 2 (2. Definir Critérios de Relevância)).\n",
    "    - Atualizar os dados transformados 1 vez por dia."
   ]
  },
  {
   "cell_type": "markdown",
   "metadata": {
    "application/vnd.databricks.v1+cell": {
     "cellMetadata": {},
     "inputWidgets": {},
     "nuid": "a8435c9a-6821-4974-a082-5146a48dc897",
     "showTitle": false,
     "title": ""
    }
   },
   "source": [
    "\n",
    "# Opcoes Extras\n",
    " \n",
    " - criar uma api para solicitar os dados\n",
    " - API para \"triggar\" um processo (processo da criação das tabelas do item 4)\n",
    " - criar um webhook (duas partes: criar api, criar o gerador de eventos)\n",
    "\n"
   ]
  },
  {
   "cell_type": "markdown",
   "metadata": {
    "application/vnd.databricks.v1+cell": {
     "cellMetadata": {},
     "inputWidgets": {},
     "nuid": "345049f6-58c4-406b-be9e-7b84e79be147",
     "showTitle": false,
     "title": ""
    }
   },
   "source": [
    "\n",
    "# Grupo 4\n",
    "\n",
    "- Jose Marchezi\n",
    "- Rafael Leite\n",
    "- Mayra Alves\n",
    "- Renato Freitas\n"
   ]
  },
  {
   "cell_type": "code",
   "execution_count": 0,
   "metadata": {
    "application/vnd.databricks.v1+cell": {
     "cellMetadata": {
      "byteLimit": 2048000,
      "rowLimit": 10000
     },
     "inputWidgets": {},
     "nuid": "8d764b00-5979-4aa3-8d41-3b81b4ca46b7",
     "showTitle": false,
     "title": ""
    }
   },
   "outputs": [],
   "source": [
    "import requests\n",
    "from pyspark.sql.functions import *\n",
    "\n",
    "def get_newsbase_url(base_url, key,query_params):\n",
    "  # url = f'{base_url}/everything?q={topic}&from={trange[0]}&to={trange[1]}&sortBy=popularity&apiKey={key}'\n",
    "\n",
    "  response = requests.get(base_url, params=query_params)\n",
    "  response_json = response.json()\n",
    "\n",
    "  return response_json\n",
    "\n",
    "\n",
    "\n",
    "def parse_data(response_json):\n",
    "\n",
    "    articles = response_json['articles']\n",
    "    structured = []\n",
    "    for item in articles:\n",
    "        dicts = {'publisher': item['source']['name'],\n",
    "                'author': item['author'],\n",
    "                'title': item['title'],\n",
    "                'description': item['description'],\n",
    "                'url': item['url'],\n",
    "                'publication_date': item['publishedAt'], \n",
    "                'content': item['content']}\n",
    "        structured.append(dicts)\n",
    "    return structured"
   ]
  },
  {
   "cell_type": "code",
   "execution_count": 0,
   "metadata": {
    "application/vnd.databricks.v1+cell": {
     "cellMetadata": {
      "byteLimit": 2048000,
      "rowLimit": 10000
     },
     "inputWidgets": {},
     "nuid": "c17dc417-0053-4a41-a144-ffce87dfff1c",
     "showTitle": false,
     "title": ""
    }
   },
   "outputs": [],
   "source": [
    "time = ['2024-02-01', '2024-04-01']\n",
    "\n",
    "base_url = \"https://newsapi.org/v2/everything\"\n",
    "key = \"ebe15579813549c58b1b1baafb1a4d68\"\n",
    "domains='nature.com,biomedcentral.com'\n",
    "\n",
    "query_params = {\n",
    "      \"q\": \"genomic OR genetic OR DNA\",\n",
    "      \"from\": trange[0],\n",
    "      \"to\": trange[1],\n",
    "      \"sortBy\": \"popularity\",\n",
    "      \"apiKey\": key\n",
    "    }\n",
    "\n",
    "\n",
    "response_json = get_newsbase_url(base_url, key, query_params)"
   ]
  },
  {
   "cell_type": "code",
   "execution_count": 0,
   "metadata": {
    "application/vnd.databricks.v1+cell": {
     "cellMetadata": {
      "byteLimit": 2048000,
      "rowLimit": 10000
     },
     "inputWidgets": {},
     "nuid": "25637821-ef42-4a3f-bfb1-82e6c374aeeb",
     "showTitle": false,
     "title": ""
    }
   },
   "outputs": [],
   "source": [
    "structured = parse_data(response_json)"
   ]
  },
  {
   "cell_type": "code",
   "execution_count": 0,
   "metadata": {
    "application/vnd.databricks.v1+cell": {
     "cellMetadata": {
      "byteLimit": 2048000,
      "rowLimit": 10000
     },
     "inputWidgets": {},
     "nuid": "9dcd312d-a40d-4375-a6ae-634c7a1bada6",
     "showTitle": false,
     "title": ""
    }
   },
   "outputs": [
    {
     "output_type": "stream",
     "name": "stdout",
     "output_type": "stream",
     "text": [
      "Out[85]: [{'publisher': 'The Verge',\n  'author': 'Charles Pulliam-Moore',\n  'title': 'The creators of 3 Body Problem want to have ‘a back and forth’ with the book',\n  'description': 'The executive producers of Netflix’s 3 Body Problem discuss the challenges of adapting the book for screen and their hopes for more seasons.',\n  'url': 'https://www.theverge.com/24111515/3-body-problem-interview-david-benioff-alexander-woo-db-weiss-season-2',\n  'publication_date': '2024-03-25T21:00:00Z',\n  'content': 'The creators of 3 Body Problem want to have a back and forth with the book\\r\\nThe creators of 3 Body Problem want to have a back and forth with the book\\r\\n / Though Netflixs 3 Body Problem is very diffe… [+5114 chars]'},\n {'publisher': 'BBC News',\n  'author': 'https://www.facebook.com/bbcnews',\n  'title': 'Scientists help save UK pint from climate change',\n  'description': 'Researchers are identifying genes in the hop plant to produce varieties that will be more resilient to climate change.',\n  'url': 'https://www.bbc.co.uk/news/science-environment-68636451',\n  'publication_date': '2024-03-26T06:30:01Z',\n  'content': 'Scientists fear climate change could \"call time\" on the great British pint and are helping the brewing industry to save it.\\r\\nHops give bitter its taste but the plant doesn\\'t like the hotter, drier co… [+3775 chars]'},\n {'publisher': 'BBC News',\n  'author': 'https://www.facebook.com/bbcnews',\n  'title': 'Moves to make it harder to repossess leasehold homes',\n  'description': 'Forfeiture means leaseholders can be threatened with losing their home if they do not pay service charges.',\n  'url': 'https://www.bbc.co.uk/news/uk-politics-68622126',\n  'publication_date': '2024-03-26T02:26:36Z',\n  'content': 'Ministers are facing calls to prevent leaseholders being threatened with losing their home over unpaid charges. \\r\\nUnder current laws, branded \"draconian\" by campaigners, a property can be repossessed… [+5591 chars]'},\n {'publisher': 'Ars Technica',\n  'author': 'Jonathan M. Gitlin',\n  'title': 'Genesis unveils its take on the big luxury EV—the Neolun Concept',\n  'description': \"Korea's luxury automaker brings five surprises to the New York International Auto Show.\",\n  'url': 'https://arstechnica.com/cars/2024/03/sporty-orange-and-big-luxury-genesis-brings-its-ev-game-to-ny/',\n  'publication_date': '2024-03-26T16:07:53Z',\n  'content': 'Enlarge/ This concept points the way to a future Genesis flagship SUV.\\r\\n12\\r\\nGenesis provided train tickets from Washington to New York and accommodation so Ars could attend its event. Ars does not ac… [+3136 chars]'},\n {'publisher': 'NPR',\n  'author': 'Rachel Treisman',\n  'title': 'Hurry up and wait: Servers speed-walk through Paris, reviving a century-old race',\n  'description': \"Some 200 servers speed-walked through Paris balancing trays of beverages and croissants on Sunday. Paris hasn't held a waiters race since 2011, but brought it back ahead of the Olympics.\",\n  'url': 'https://www.npr.org/2024/03/25/1240667647/paris-waiters-race-tradition-cafe-olympics',\n  'publication_date': '2024-03-25T16:13:33Z',\n  'content': 'Servers take off for the \"Course des Cafes\" in front of City Hall in central Paris on Sunday.\\r\\nDimitar Dilkoff/AFP via Getty Images\\r\\nForeign stereotypes of French restaurants tend to paint the servic… [+6508 chars]'},\n {'publisher': 'NPR',\n  'author': None,\n  'title': 'Russia marks a national day of mourning for victims of the concert hall attack',\n  'description': 'Russia paused for a day of mourning Sunday for the more than 130 people killed at a Moscow concert. The attack, claimed by an affiliate of the Islamic State, is the deadliest on Russian soil in years.',\n  'url': 'https://www.npr.org/2024/03/24/1240553741/russia-concert-hall-attack-day-of-mourning',\n  'publication_date': '2024-03-24T14:57:30Z',\n  'content': 'A woman places flowers in memory of the victims of the attack in Moscow, in the center of Simferopol, in Russian-held Crimea, Sunday, March 24, 2024.\\r\\nAP\\r\\nMOSCOW Family and friends of those still mis… [+6976 chars]'},\n {'publisher': 'Business Insider',\n  'author': 'Cameron Manley',\n  'title': 'Death toll from Moscow concert hall attack rises to 115. The FSB confirmed 11 suspects have been arrested.',\n  'description': \"Gunmen who attacked Moscow's Crocus City Hall  killed 115 dead, as Russian Federal Security Bureau confirms arrests.\",\n  'url': 'https://www.businessinsider.com/93-dead-11-arrested-terrorist-attack-moscow-russia-2024-3',\n  'publication_date': '2024-03-23T10:45:26Z',\n  'content': 'Russian Rosguardia national guard servicemen secure an area near the Crocus City Hall on the western edge of Moscow on March 22, 2024.AP Photo/Vitaly Smolnikov\\r\\n<ul><li>115 people are reported to hav… [+5707 chars]'},\n {'publisher': 'Hackaday',\n  'author': 'Maya Posch',\n  'title': 'Complex Organic Chemistry In Sulfuric Acid and Life on Venus',\n  'description': 'Finding extraterrestrial life in any form would be truly one of the largest discoveries in humankind’s history, yet after decades of scouring the surface of Mars and investigating other bodies …read more',\n  'url': 'https://hackaday.com/2024/03/25/complex-organic-chemistry-in-sulfuric-acid-and-life-on-venus/',\n  'publication_date': '2024-03-26T02:00:12Z',\n  'content': 'Finding extraterrestrial life in any form would be truly one of the largest discoveries in humankind’s history, yet after decades of scouring the surface of Mars and investigating other bodies like a… [+1788 chars]'},\n {'publisher': 'Time',\n  'author': 'Jamie Ducharme',\n  'title': 'Why Are So Many Young People Getting Cancer? It’s Complicated',\n  'description': \"Kate Middleton and Olivia Munn's cancer diagnoses spotlight a troubling trend: cancer is getting more common among younger adults.\",\n  'url': 'https://time.com/6960506/cancer-rates-young-people/',\n  'publication_date': '2024-03-26T15:57:11Z',\n  'content': 'Just this month, two young, high-profile public figures announced that they have cancer. First, Olivia Munn, 43, disclosed that she was treated for breast cancer after catching it early. Days later, … [+5380 chars]'},\n {'publisher': 'Time',\n  'author': 'Associated Press',\n  'title': 'Russia Concert Hall Attack Suspects Appear in a Moscow Courtroom',\n  'description': 'Suspects in the\\xa0Russia concert hall attack, which left more than 130 dead, arrived at a Moscow district court on Sunday night.',\n  'url': 'https://time.com/6960153/russia-concert-hall-attack-suspects-moscow-courtroom/',\n  'publication_date': '2024-03-24T20:42:08Z',\n  'content': 'MOSCOW Suspects in the Russia concert hall attack, which left more than 130 dead, arrived at a Moscow district court on Sunday night.\\r\\nThere was a heavy police presence around the Basmanny District C… [+6004 chars]'},\n {'publisher': 'CNN',\n  'author': 'Mindy Weisberger',\n  'title': \"Why don't humans have tails?\",\n  'description': 'Humans’ closest primate relatives lost their tails long ago, but exactly how has remained a mystery. A breakthrough in genetic research may finally offer answers.',\n  'url': 'https://www.cnn.com/2024/03/23/world/humans-tails-genetic-mutation-junk-dna-scn/index.html',\n  'publication_date': '2024-03-24T05:18:54Z',\n  'content': 'Sign up for CNNs Wonder Theory science newsletter.\\xa0Explore the universe with news on fascinating discoveries, scientific advancements and more.\\r\\nHumans have many wonderful qualities, but we lack some… [+8867 chars]'},\n {'publisher': 'AgWeb',\n  'author': 'Tyne Morgan',\n  'title': 'Illness Impacting Dairy Cattle Is Confirmed as Highly Pathogenic Avian Flu',\n  'description': \"USDA says genetic sequencing revealed the mystery illness impacting Texas dairies is the same strain of Highly Pathogenic Avian Influenza (HPAI) that's been in the U.S.\\xa0The virus is carried by wild waterfowl.\",\n  'url': 'https://www.agweb.com/news/livestock/dairy/breaking-mystery-illness-impacting-texas-kansas-dairy-cattle-confirmed-highly',\n  'publication_date': '2024-03-25T23:29:45Z',\n  'content': \"A mystery illness that's impacted dairy herds in the Texas Panhandle, New Mexico and Kansas now has a diagnosis: Influenza A.\\xa0\\xa0USDA says genetic sequencing revealed it's the same strain of Highly Pat… [+10037 chars]\"},\n {'publisher': 'Wikipedia.org',\n  'author': 'Contributors to Wikimedia projects',\n  'title': 'Jamie Zawinski',\n  'description': 'Comments',\n  'url': 'https://en.wikipedia.org/wiki/Jamie_Zawinski',\n  'publication_date': '2024-03-26T18:53:00Z',\n  'content': 'Jamie Werner Zawinski (born November 3, 1968), commonly known as jwz, is an American computer programmer, blogger and impresario. He is best known for his role in the creation of Netscape Navigator, … [+10724 chars]'},\n {'publisher': 'Frontiersin.org',\n  'author': None,\n  'title': 'Acetate Revisited: A Key Biomolecule at the Nexus of Metabolism, Epigenetics',\n  'description': 'Acetate, the shortest chain fatty acid, has been implicated in providing health benefits whether it is derived from the diet or is generated from microbial f...',\n  'url': 'https://www.frontiersin.org/journals/physiology/articles/10.3389/fphys.2020.580171/full',\n  'publication_date': '2024-03-26T11:46:02Z',\n  'content': 'Introduction\\r\\nDiabetes, obesity, heart disease, cancer, and liver disease have all been linked in various ways to acetate availability, metabolism, and signaling. Acetate supplementation induces phys… [+163834 chars]'},\n {'publisher': 'Scientific American',\n  'author': 'H. Irene Su',\n  'title': 'Alabama’s Embryo Personhood Decision Threatens Patients, Medicine and Advances in IVF',\n  'description': 'A state court ruling that embryos from in vitro fertilization are unborn children harms access to care for fertility patients, as well as medical innovations',\n  'url': 'https://www.scientificamerican.com/article/alabamas-embryo-personhood-decision-threatens-patients-medicine-and-advances/',\n  'publication_date': '2024-03-25T11:00:00Z',\n  'content': 'Alabama’s Supreme Court ruled in February that frozen embryos from in vitro fertilization (IVF) are considered “unborn children.” The decision allowed for lawsuits when the loss of an embryo was caus… [+7113 chars]'},\n {'publisher': 'AppleInsider',\n  'author': 'news@appleinsider.com (Daniel Eran Dilger)',\n  'title': \"Does Apple's platform need to be opened up?\",\n  'description': \"Does the European Union, the United States, or other governments need to intervene to fix potential problems in competitive markets for personal computing?Apple has a monopoly on the Steve Jobs TheaterApple's App Store, iPhone and its services including Messa…\",\n  'url': 'https://appleinsider.com/articles/24/03/25/does-apples-platform-need-to-be-opened-up',\n  'publication_date': '2024-03-25T15:03:39Z',\n  'content': 'Apple has a monopoly on the Steve Jobs Theater\\r\\nDoes the European Union, the United States, or other governments need to intervene to fix potential problems in competitive markets for personal comput… [+25696 chars]'},\n {'publisher': 'Cheezburger.com',\n  'author': 'RemyMill, RemyMill',\n  'title': \"'If I were your wife I’d ask for an IQ test': Podcast advice causes new father to ruin his marriage\",\n  'description': \"This dude wants to know if he ruined his marriage… And it seems like he easily could have done permanent damage.\\xa0\\r\\nThere's nothing the internet loves more than a good trend. Some trends come and stay for a while, like certain Tiktok dances or cooking trends. …\",\n  'url': 'https://cheezburger.com/25106181/if-i-were-your-wife-id-ask-for-an-iq-test-podcast-advice-causes-new-father-to-ruin-his-marriage',\n  'publication_date': '2024-03-23T19:00:00Z',\n  'content': \"This dude wants to know if he ruined his marriage And it seems like he easily could have done permanent damage.\\xa0\\r\\nThere's nothing the internet loves more than a good trend. Some trends come and stay … [+1323 chars]\"},\n {'publisher': 'Yanko Design',\n  'author': 'Srishti Mitra',\n  'title': 'Top 10 Electric Bikes That Fuse Lethal Good Looks, Speed & An Eco-Friendly Ethos',\n  'description': 'Top 10 Electric Bikes That Fuse Lethal Good Looks, Speed & An Eco-Friendly EthosA lethal and menacing electric bike can set any automotive lover’s heart thumping! Bikes are pretty thrilling themselves, but when you make them electric, they...',\n  'url': 'https://www.yankodesign.com/2024/03/26/top-10-electric-bikes-that-fuse-lethal-good-looks-speed-an-eco-friendly-ethos/',\n  'publication_date': '2024-03-26T11:40:51Z',\n  'content': 'A lethal and menacing electric bike can set any automotive lover’s heart thumping! Bikes are pretty thrilling themselves, but when you make them electric, they become a match made in heaven. They’re … [+5169 chars]'},\n {'publisher': 'Science Daily',\n  'author': None,\n  'title': 'New genetic analysis tool tracks risks tied to CRISPR edits',\n  'description': \"While CRISPR has shown immense promise as a next-generation therapeutic tool, the gene editing technology's edits are still imperfect. Researchers have developed a new system to test and analyze CRISPR-based DNA repair and related risks from unintended but ha…\",\n  'url': 'https://www.sciencedaily.com/releases/2024/03/240326170107.htm',\n  'publication_date': '2024-03-26T21:01:07Z',\n  'content': \"Since its breakthrough development more than a decade ago, CRISPR has revolutionized DNA editing across a broad range of fields. Now scientists are applying the technology's immense potential to huma… [+3698 chars]\"},\n {'publisher': 'Science Daily',\n  'author': None,\n  'title': 'Severe hurricanes boost influx of juveniles and gene flow in a coral reef sponge',\n  'description': 'A study is the first to evaluate substrate recolonization by sponges in the U.S. Virgin Islands after two catastrophic storms using genetic analyses to understand how much clonality verses sexual recruitment occurs on coral reefs post-storms. Results show tha…',\n  'url': 'https://www.sciencedaily.com/releases/2024/03/240326103948.htm',\n  'publication_date': '2024-03-26T14:39:48Z',\n  'content': 'Named for its ropy-looking long branches, Aplysina cauliformis, a coral reef sponge, provides a critical 3D habitat for marine organisms and helps to stabilize the foundation of coral reefs. However,… [+5419 chars]'},\n {'publisher': 'Science Daily',\n  'author': None,\n  'title': 'Genetically engineered dendritic cells enhance the power of immunotherapy against lung cancer',\n  'description': 'A new study suggest that using CXCL9 and CXCL10-producing dendritic cells alongside immunotherapy can be a promising strategy to overcome treatment resistance and improve clinical outcomes for patients with non-small cell lung cancer.',\n  'url': 'https://www.sciencedaily.com/releases/2024/03/240326124548.htm',\n  'publication_date': '2024-03-26T16:45:48Z',\n  'content': 'A study by researchers at the UCLA Health Jonsson Comprehensive Cancer Center suggests that injecting engineered dendritic cells directly into cancerous lung tumors can help promote a stronger immune… [+2429 chars]'},\n {'publisher': 'Science Daily',\n  'author': None,\n  'title': 'Researchers a step closer to a cure for HIV',\n  'description': \"A new study shows virus-like particle can effectively 'shock and kill' latent HIV reservoir in those living with chronic HIV.\",\n  'url': 'https://www.sciencedaily.com/releases/2024/03/240326124555.htm',\n  'publication_date': '2024-03-26T16:45:55Z',\n  'content': 'By 2030, the World Health Organization (WHO), the Global Fund and UNAIDS are hoping to end the human immunodeficiency virus (HIV) and AIDS epidemic. An international team of researchers led by Eric A… [+5141 chars]'},\n {'publisher': 'Science Daily',\n  'author': None,\n  'title': \"Researchers discover evolutionary 'tipping point' in fungi\",\n  'description': \"Scientists have found a 'tipping point' in the evolution of fungi that throttles their growth and sculpts their shapes. The findings demonstrate how small changes in environmental factors can lead to huge changes in evolutionary outcomes.\",\n  'url': 'https://www.sciencedaily.com/releases/2024/03/240325112930.htm',\n  'publication_date': '2024-03-25T15:29:30Z',\n  'content': 'Scientists have found a \"tipping point\" in the evolution of fungi that throttles their growth and sculpts their shapes. The findings, published in the journal Cell Reports, demonstrate how small chan… [+4299 chars]'},\n {'publisher': 'Science Daily',\n  'author': None,\n  'title': 'New testing approach improves detection of rare but emerging Powassan virus spread by deer ticks',\n  'description': 'Researchers have come up with a new, more accurate method for detecting in ticks the emerging Powassan virus, which can cause life-threatening neuroinvasive disease, including encephalitis and meningitis.',\n  'url': 'https://www.sciencedaily.com/releases/2024/03/240326170114.htm',\n  'publication_date': '2024-03-26T21:01:14Z',\n  'content': 'Researchers at the New England Regional Center of Vector-Borne Diseases at the University of Massachusetts Amherst have come up with a new, more accurate method for detecting in ticks the emerging Po… [+5052 chars]'},\n {'publisher': 'Science Daily',\n  'author': None,\n  'title': 'Persian plateau unveiled as crucial hub for early human migration out of Africa',\n  'description': 'A new study combining genetic, palaeoecological, and archaeological evidence has unveiled the Persian Plateau as a pivotal geographic location serving as a hub for Homo sapiens during the early stages of their migration out of Africa. It highlights the period…',\n  'url': 'https://www.sciencedaily.com/releases/2024/03/240325114147.htm',\n  'publication_date': '2024-03-25T15:41:47Z',\n  'content': 'A new study combining genetic, palaeoecological, and archaeological evidence has unveiled the Persian Plateau as a pivotal geographic location serving as a hub for Homo sapiens during the early stage… [+2802 chars]'},\n {'publisher': 'Science Daily',\n  'author': None,\n  'title': 'Humans pass more viruses to other animals than we catch from them',\n  'description': 'Humans pass on more viruses to domestic and wild animals than we catch from them, according to a major new analysis of viral genomes.',\n  'url': 'https://www.sciencedaily.com/releases/2024/03/240325114138.htm',\n  'publication_date': '2024-03-25T15:41:38Z',\n  'content': 'Humans pass on more viruses to domestic and wild animals than we catch from them, according to a major new analysis of viral genomes by UCL researchers.For the new paper published in Nature Ecology &… [+4202 chars]'},\n {'publisher': 'Mental Floss',\n  'author': 'Stacey Marcus',\n  'title': '9 of the Best Eczema Treatments, According to Dermatologists',\n  'description': 'Discover the best eczema treatments that experts recommend, whether you’re dealing with sudden eczema flare-ups, itchiness, or just need a new facial moisturizer.',\n  'url': 'https://www.mentalfloss.com/posts/best-eczema-treatments-expert-picks',\n  'publication_date': '2024-03-25T20:00:01Z',\n  'content': 'If youre one of the 31.6 million Americans who has some form of eczema, youre probably itching for a solution. While potions work wonders for wizards, medical experts are more likely to recommend soo… [+10797 chars]'},\n {'publisher': 'HYPEBEAST',\n  'author': 'info@hypebeast.com (Hypebeast)',\n  'title': \"What's Happening at Valentino?\",\n  'description': \"Pierpaolo Piccioli bid farewell to Valentino on Friday, after 25 years at the Italian fashion house's helm. In a mutual agreement with the brand, the designer has already departed from the label, meaning his Fall 2024 collection, shown during Paris Fashion We…\",\n  'url': 'https://hypebeast.com/2024/3/valentino-alessandro-michele-june-shows-cancel-creative-director-pierpaolo-piccioli',\n  'publication_date': '2024-03-25T19:23:00Z',\n  'content': 'Pierpaolo Picciolibid farewell to Valentino on Friday, after 25 years at the Italian fashion house’s helm. In a mutual agreement with the brand, the designer has already departed from the label, mean… [+3466 chars]'},\n {'publisher': 'Die Zeit',\n  'author': 'ZEIT ONLINE: Umwelt - Sarah Vojta',\n  'title': 'Wolfsriss: Niedersachsens Umweltministerium will Wolf zum Abschuss freigeben',\n  'description': 'In Niedersachsen soll ein Wolf ein Rind gerissen haben. Die Behörden arbeitet nun an einer Ausnahmegenehmigung für den Abschuss – erstmals ohne vorherige DNA-Analyse.',\n  'url': 'https://www.zeit.de/wissen/umwelt/2024-03/niedersachsen-wolf-riss-abschuss',\n  'publication_date': '2024-03-25T17:37:06Z',\n  'content': 'In Niedersachsen soll erstmals ein\\xa0Wolf\\xa0nach einem neuen Schnellverfahren zum\\r\\nAbschuss freigeben werden. Die Behörden gehen davon aus, dass dieser am\\r\\nvergangenen Wochenende ein Rind in der Region g… [+3358 chars]'},\n {'publisher': 'Die Zeit',\n  'author': 'ZEIT ONLINE: News -',\n  'title': 'Niedersachsen: Schnellverfahren: Wolf soll zum Abschuss freigegeben werden',\n  'description': 'Hier finden Sie Informationen zu dem Thema „Niedersachsen“. Lesen Sie jetzt „Schnellverfahren: Wolf soll zum Abschuss freigegeben werden“.',\n  'url': 'https://www.zeit.de/news/2024-03/25/schnellverfahren-wolf-soll-zum-abschuss-freigegeben-werden',\n  'publication_date': '2024-03-25T17:56:05Z',\n  'content': 'Niedersachsen plant erstmals, einen Wolf nach einem neuen Schnellverfahren zum Abschuss freigeben zu lassen. Nachdem am vergangenen Wochenende ein Rind in der Region Hannover gerissen wurde, soll nun… [+2450 chars]'},\n {'publisher': 'Die Zeit',\n  'author': 'ZEIT ONLINE: News -',\n  'title': 'Ausnahmegenehmigung: Land will Wolf in Schnellverfahren zum Abschuss freigeben',\n  'description': 'Hier finden Sie Informationen zu dem Thema „Ausnahmegenehmigung“. Lesen Sie jetzt „Land will Wolf in Schnellverfahren zum Abschuss freigeben“.',\n  'url': 'https://www.zeit.de/news/2024-03/25/land-will-wolf-in-schnellverfahren-zum-abschuss-freigeben',\n  'publication_date': '2024-03-25T16:50:29Z',\n  'content': 'Niedersachsen plant erstmals, einen Wolf nach einem neuen Schnellverfahren zum Abschuss freigeben zu lassen. Nachdem am vergangenen Wochenende ein Rind in der Region Hannover gerissen wurde, soll nun… [+2454 chars]'},\n {'publisher': 'Cracked.com',\n  'author': 'Jesse',\n  'title': '15 Puns That Will Make You Mad at the Entire English Language',\n  'description': 'By Jesse Published: March 26th, 2024',\n  'url': 'https://trivia.cracked.com/article_41581_15-puns-that-will-make-you-mad-at-the-entire-english-language.html',\n  'publication_date': '2024-03-26T14:00:00Z',\n  'content': 'Everyone involved in this list and its contents myself included should be ashamed of themself. The English language should never be contorted into awful jokes like those youre about to read. May God … [+1242 chars]'},\n {'publisher': 'Cracked.com',\n  'author': 'Ryan Menezes',\n  'title': '15 Trivia Tidbits for Your Saturday, March 23, 2024',\n  'description': 'Featuring disgruntled priests and disgruntled hamsters',\n  'url': 'https://trivia.cracked.com/article_41532_15-trivia-tidbits-for-saturday-march-23-2024.html',\n  'publication_date': '2024-03-23T14:00:00Z',\n  'content': 'Lets say a security guard stops you, deeply suspicious. He pulls out a device and holds it up to you. You hear a buzzing from within. This isnt an electronic buzz that you hear. No this device contai… [+3980 chars]'},\n {'publisher': 'Faz.net',\n  'author': 'FAZ.NET',\n  'title': 'Arket-Kreativchefin Ella Soccorsi: „Ich bin eine große Verfechterin von Langlebigkeit“',\n  'description': 'Gerade hat in Berlin die zweite Dependance des schwedischen Labels „Arket“ eröffnet. Kreativchefin Ella Soccorsi erzählt im Gespräch vom Unterschied zu H&M und beantwortet die Frage, ob Arket nicht eigentlich auch Fast Fashion macht.',\n  'url': 'https://www.faz.net/aktuell/stil/mode-design/mode-label-arket-aus-schweden-eroeffnet-zweite-dependance-in-berlin-19608510.html',\n  'publication_date': '2024-03-25T08:07:57Z',\n  'content': 'Ella Soccorsi hat dieser Tage einen vollen Terminkalender. Mitte März reist sie zur Eröffnung der zweiten Berliner Dependance des skandinavischen Labels Arket in den Hackeschen Höfen an. Jetzt aber s… [+2895 chars]'},\n {'publisher': 'Faz.net',\n  'author': 'FAZ.NET',\n  'title': 'Arket-Kreativchefin Ella Soccorsi: „Ich bin eine große Verfechterin von Langlebigkeit“',\n  'description': 'Gerade hat in Berlin die zweite Dependance des schwedischen Labels „Arket“ eröffnet. Kreativchefin Ella Soccorsi erzählt im Gespräch vom Unterschied zu H&M und beantwortet die Frage, ob Arket nicht eigentlich auch Fast Fashion macht.',\n  'url': 'https://www.faz.net/aktuell/stil/mode-design/schwedisches-mode-label-arket-eroeffnet-neue-dependance-in-berlin-19608510.html',\n  'publication_date': '2024-03-25T08:07:57Z',\n  'content': 'Ella Soccorsi hat dieser Tage einen vollen Terminkalender. Mitte März reist sie zur Eröffnung der zweiten Berliner Dependance des skandinavischen Labels Arket in den Hackeschen Höfen an. Jetzt aber s… [+2895 chars]'},\n {'publisher': 'Futurity: Research News',\n  'author': 'UC Irvine',\n  'title': 'Team \n\n*** WARNING: max output size exceeded, skipping output. ***\n\n 07:03\\r\\n0\\r\\nPotocsnak·(Thomas Stoeger)\\r\\n321\\r\\nDNA\\r\\nDNADNA\\r\\nDNA\\r\\nNeuroscience NewsBALI\\r\\n (0)'},\n {'publisher': 'DIE WELT',\n  'author': 'Dietgard Stein',\n  'title': 'Mit neuen Rekorden will Dubai an die Weltspitze',\n  'description': 'Wolkenkratzer, künstliche Inseln, Wasser in der Wüste: Rekorde haben Dubai berühmt gemacht. 2023 zählte das Emirat so viele Gäste wie noch nie. Bis 2025 will die Stadt die meistbesuchte des Planeten werden. Wir haben uns vor Ort umgesehen, wie das gelingen so…',\n  'url': 'https://www.welt.de/reise/staedtereisen/article250699122/Dubai-Neue-Rekorde-sollen-das-Emirat-an-die-Weltspitze-bringen.html',\n  'publication_date': '2024-03-25T08:20:17Z',\n  'content': 'Gerade erst hat Dubai die Besucherzahlen für 2023 bekannt gegeben: 17,15 Millionen internationale Übernachtungsgäste zählte das Emirat so viele wie noch nie in seiner Geschichte. Der Spitzenwert pass… [+13627 chars]'},\n {'publisher': 'Focus',\n  'author': 'dpa',\n  'title': '„Das ist längst keine Spielerei mehr“ - Klima-Aktivisten wollen mit Hammer und Meißel Flughafen lahmlegen',\n  'description': 'Aktivisten der „Letzten Generation“ haben versucht, den Flughafen Braunschweig-Wolfsburg am Samstagmorgen stillzulegen. Mit dabei? Hammer und Meißel.',\n  'url': 'https://www.focus.de/panorama/welt/das-ist-laengst-keine-spielerei-mehr-klimaaktivisten-maltraetieren-flughafen-startbahn-mit-hammer-und-meissel_id_259790897.html',\n  'publication_date': '2024-03-23T11:03:53Z',\n  'content': '<ul><li>\\r\\nKommentare</li><li>\\r\\nE-Mail</li><li>\\r\\nTeilen</li><li>\\r\\nMehr</li><li>\\r\\nTwitter</li><li>\\r\\nDrucken</li><li>\\r\\nFeedback</li><li>\\r\\nFehler meldenSie haben einen Fehler gefunden?\\r\\nBitte markieren S… [+1773 chars]'},\n {'publisher': 'Focus',\n  'author': 'dpa',\n  'title': '„Das ist längst keine Spielerei mehr“ - Klima-Aktivisten wollen mit Hammer und Meißel Flughafen lahmlegen',\n  'description': 'Aktivisten der „Letzten Generation“ haben versucht, den Flughafen Braunschweig-Wolfsburg am Samstagmorgen stillzulegen. Mit dabei? Hammer und Meißel.',\n  'url': 'https://www.focus.de/panorama/welt/das-ist-laengst-keine-spielerei-mehr-klimaaktivisten-bearbeiten-startbahn-mit-hammer-und-meissel_id_259790897.html',\n  'publication_date': '2024-03-23T11:03:53Z',\n  'content': '<ul><li>\\r\\nKommentare</li><li>\\r\\nE-Mail</li><li>\\r\\nTeilen</li><li>\\r\\nMehr</li><li>\\r\\nTwitter</li><li>\\r\\nDrucken</li><li>\\r\\nFeedback</li><li>\\r\\nFehler meldenSie haben einen Fehler gefunden?\\r\\nBitte markieren S… [+1773 chars]'},\n {'publisher': 'Focus',\n  'author': 'FOCUS online',\n  'title': 'Familienkonflikte und baufällige Häuser - Traumhaftes Dorf in Italien verkauft Häuser für 1 Euro - keiner will sie',\n  'description': 'Das Projekt, leerstehende Häuser im italienischen Patrica für einen Euro zu verkaufen, trifft auf unvorhergesehene Probleme. Familienstreitigkeiten und der schlechte Zustand der Immobilien behindern das ambitionierte Projekt.',\n  'url': 'https://www.focus.de/panorama/welt/familienkonflikte-und-bauruinen-italienisches-dorf-verkauft-haeuser-fuer-einen-euro-aber-niemand-will-sie-haben_id_259794836.html',\n  'publication_date': '2024-03-25T11:47:41Z',\n  'content': '<ul><li>\\r\\nKommentare</li><li>\\r\\nE-Mail</li><li>\\r\\nTeilen</li><li>\\r\\nMehr</li><li>\\r\\nTwitter</li><li>\\r\\nDrucken</li><li>\\r\\nFeedback</li><li>\\r\\nFehler meldenSie haben einen Fehler gefunden?\\r\\nBitte markieren S… [+3340 chars]'},\n {'publisher': 'Focus',\n  'author': 'dpa',\n  'title': 'Major Tom - „Völlig losgelöst“: Plötzlich haben alle DFB-Fans nur noch ein Song im Ohr',\n  'description': 'Ein Hit aus der Zeit der Neuen Deutschen Welle begeistert aktuell die deutschen Fußball-Fans. Einige würden den Song gerne künftig im Stadion hören. Es gibt viele Unterstützer. Droht trotzdem am Ende die große Enttäuschung?',\n  'url': 'https://www.focus.de/sport/fussball/em/major-tom-voellig-losgeloest-ploetzlich-haben-alle-dfb-fans-nur-noch-einen-song-im-ohr_id_259796662.html',\n  'publication_date': '2024-03-25T16:31:55Z',\n  'content': 'Ein Hit aus der Zeit der Neuen Deutschen Welle begeistert aktuell die deutschen Fußball-Fans. Einige würden den Song gerne künftig im Stadion hören. Es gibt viele Unterstützer. Droht trotzdem am Ende… [+3032 chars]'},\n {'publisher': 'GQ Magazine',\n  'author': 'Jake Kring-Schreifels',\n  'title': '‘Immaculate’ Just Gave Us the Most Intense Scene of Sydney Sweeney’s Career',\n  'description': 'A spoiler-heavy chat with director Michael Mohan about crafting the year\\'s wildest movie ending: “It\\'s all about building to this moment of catharsis for her.\"',\n  'url': 'https://www.gq.com/story/immaculate-most-intense-scene',\n  'publication_date': '2024-03-25T15:11:25Z',\n  'content': 'This story contains major spoilers for Immaculate, including the ending.\\r\\nWhen Sydney Sweeney first approached Michael Mohan about directing Immaculate, the actress had one primary request: At the en… [+3084 chars]'},\n {'publisher': 'Nakedcapitalism.com',\n  'author': 'Lambert Strether',\n  'title': '2:00PM Water Cooler 3/25/2024',\n  'description': \"~ Today's Water Cooler: Politics, pandemics, Book collecting among the youth, Boeing executives auto-defenestrate, history of blotter, Starbucks map. ~\",\n  'url': 'https://www.nakedcapitalism.com/2024/03/200pm-water-cooler-3-25-2024.html',\n  'publication_date': '2024-03-25T18:00:37Z',\n  'content': 'By Lambert Strether of Corrente.\\r\\nPatient readers, I had to cope with Trump’s latest escape. They really shouldn’t break stories just as I’m starting Water Cooler. More soon. –lambert\\r\\nBird Song of t… [+25031 chars]'},\n {'publisher': 'Psychology Today',\n  'author': 'Susan Krauss Whitbourne PhD, ABPP',\n  'title': 'How Much Does Your Personality Determine Your Genes?',\n  'description': 'It’s common to think that your genes determine your personality, but new research shows how the opposite can actually occur, especially for creativity and self-awareness.',\n  'url': 'https://www.psychologytoday.com/intl/blog/fulfillment-at-any-age/202403/how-much-does-your-personality-determine-your-genes',\n  'publication_date': '2024-03-26T16:33:15Z',\n  'content': 'The traditional nature vs. nurture debate in psychology frames the question of whether its genes or the environment that determines your personal qualities, ranging from intelligence to personality. … [+7221 chars]'},\n {'publisher': 'Psychology Today',\n  'author': 'Robert T Muller Ph.D.',\n  'title': 'Multigenerational Hoarding an Enormous Stress on Families',\n  'description': 'Hoarding research has uncovered a genetic link and high heritability rates.',\n  'url': 'https://www.psychologytoday.com/intl/blog/talking-about-trauma/202403/multigenerational-hoarding-an-enormous-stress-on-families',\n  'publication_date': '2024-03-25T17:42:54Z',\n  'content': 'This post was co-authored by Autumn Bakhsh-Livingston and Robert T. Muller, Ph.D.\\r\\nHoarding is often mocked, stigmatized, and used as entertainment in shows like Hoarders. Previously regarded as a fo… [+3366 chars]'},\n {'publisher': 'Psychology Today',\n  'author': 'Scott G. Eberle Ph.D.',\n  'title': 'Deception as Play',\n  'description': 'A Personal Perspective: Tricks, tall tales, and revenge on conspiracy theories.',\n  'url': 'https://www.psychologytoday.com/intl/blog/play-in-mind/202403/deception-as-play',\n  'publication_date': '2024-03-25T01:39:55Z',\n  'content': 'For years on the morning of every April 1, I could count on my young daughters rigging the kitchen sink faucet to spritz anyone who turned it on. You rascals! Id yell as they looked on, cackling. You… [+5936 chars]'},\n {'publisher': 'Psychology Today',\n  'author': 'Janet Sasson Edgette Psy.D.',\n  'title': 'Growing Up Screen-Saturated: Teen Mental Health in the 2020s',\n  'description': 'How do the changes in adolescent lifestyle and culture over the past decade affect how we work with teenagers in therapy?',\n  'url': 'https://www.psychologytoday.com/intl/blog/modern-teen-therapy/202403/growing-up-screen-saturated-teen-mental-health-in-the-2020s',\n  'publication_date': '2024-03-26T18:07:02Z',\n  'content': 'ever has the adage I was a teenager once too, you know been more tone deaf to the experience of being a teenager than it is today. So much has changed in the past decade-plus, in ways that have alter… [+3758 chars]'},\n {'publisher': 'Corriere.it',\n  'author': 'Paolla Pollo',\n  'title': 'Valentino, stop alle sfilate: a giugno saltano le passerelle uomo e alta moda di Parigi',\n  'description': \"Dopo l'annuncio della fine della collaborazione con il direttore creativo Pierpaolo Piccioli, un'altra comunicazione: annullate le sfilate delal colelzion euomo e dell'0alta moda. In attessa di una nuova nomina al verticeDopo l'annuncio della fine della colla…\",\n  'url': 'https://www.corriere.it/moda/24_marzo_25/valentino-stop-alle-sfilate-a-giugno-saltano-l-uomo-e-l-alta-moda-di-parigi-59b7db0d-32c2-46b2-9f5c-871270344xlk.shtml',\n  'publication_date': '2024-03-25T15:09:44Z',\n  'content': \"Dopo l'annuncio della fine della collaborazione con il direttore creativo Pierpaolo Piccioli, un'altra comunicazione: annullate le sfilate della collezione uomo e dell'alta moda. In attesa di una nuo… [+918 chars]\"},\n {'publisher': 'Corriere.it',\n  'author': 'Fulvio Fiano',\n  'title': 'Falsi dossier, Striano cambia versione: «Da Laudati nessuna richiesta. Io investigatore modello»',\n  'description': 'Il finanziere intervistato da Le Iene: «Il numero di ricerche è inferiore a quello che si è detto. Fedez? Forse una mia curiosità»Il finanziere intervistato da Le Iene: «Il numero di ricerche è inferiore a quello che si è detto. Fedez? Forse una mia curiosità…',\n  'url': 'https://roma.corriere.it/notizie/cronaca/24_marzo_26/falsi-dossier-striano-cambia-versione-da-laudati-nessuna-richiesta-io-investigatore-modello-5bb0cc8a-be27-48bc-9b3b-d302ba36bxlk.shtml',\n  'publication_date': '2024-03-26T19:50:15Z',\n  'content': 'Il finanziere intervistato da Le Iene: «Il numero di ricerche è inferiore a quello che si è detto. Fedez? Forse una mia curiosità»\\r\\nPasquale Striano, il luogotenente della finanza accusato di aver cr… [+5746 chars]'},\n {'publisher': 'Corriere.it',\n  'author': 'Rinaldo Frignani',\n  'title': \"Roma, il giallo del cadavere soffocato con il gas al parco dell'Insugherata. Potrebbe essere il regista scomparso\",\n  'description': 'L’uomo è scomparso a fine gennaio. Il cadavere è in avanzato stato di decomposizioneSecondo \"Chi l\\'ha visto?\" sarebbe Philip Rogosky, sparito dalla sua abitazione a Castel Sant\\'Angelo il 29 gennaio scorso. La polizia smentisce qualsiasi riconoscimento: il cad…',\n  'url': 'https://roma.corriere.it/notizie/cronaca/24_marzo_26/roma-il-giallo-del-cadavere-soffocato-con-il-gas-al-parco-dell-insugherata-potrebbe-essere-il-regista-scomparso-8306990a-c2e7-4130-b965-f27406ca4xlk.shtml',\n  'publication_date': '2024-03-26T09:46:46Z',\n  'content': 'Secondo \"Chi l\\'ha visto?\" sarebbe il 60enne tedesco sparito dalla sua abitazione a Castel Sant\\'Angelo il 29 gennaio scorso. La polizia smentisce qualsiasi riconoscimento: il cadavere è in avanzato st… [+2970 chars]'},\n {'publisher': 'Corriere.it',\n  'author': 'Valentina Santarpia',\n  'title': \"«Non vogliamo le università con l'elmetto, ma bisogna saper dire di no»: ecco le linee guida degli atenei contro le occupazioni\",\n  'description': 'Dopo gli ultimi episodi, un pool di quattro rettori sta scrivendo le regole per affrontare i conflitti con i collettivi che chiedono di boicottare Israele: entro questa settimana il documento sarà presentato alla Crui e alla ministra BerniniDopo gli ultimi ep…',\n  'url': 'https://roma.corriere.it/notizie/politica/24_marzo_25/non-vogliamo-le-universita-con-l-elmetto-ma-bisogna-saper-dire-di-no-ecco-le-linee-guida-degli-atenei-contro-le-occupazioni-06d23826-a0cb-47c7-b4bf-a1b296abexlk.shtml',\n  'publication_date': '2024-03-25T10:20:06Z',\n  'content': 'Dopo gli ultimi episodi, un pool di quattro rettori sta scrivendo le regole per affrontare i conflitti con i collettivi che chiedono di boicottare Israele: entro questa settimana il documento sarà pr… [+5473 chars]'},\n {'publisher': 'Corriere.it',\n  'author': 'Alessia Cruciani, inviata a Redmond (Usa)',\n  'title': 'Nel campus dove Microsoft inventa il futuro con l’AI: dal lavoro alla salute, come sarà',\n  'description': 'Abbiamo provato gli ultimi aggiornamenti di Copilot. E si sono aperte le porte di un’altra rivoluzione: l’AI industrialeAbbiamo provato gli ultimi aggiornamenti di Copilot, l’intelligenza artificiale della società da 3 mila miliardi di dollari. E si sono aper…',\n  'url': 'https://www.corriere.it/economia/intelligenza-artificiale/24_marzo_25/siamo-andati-nel-campus-dove-microsoft-inventa-il-futuro-con-l-ai-dal-lavoro-alla-salute-ecco-come-sara-21919291-916f-4699-ae0d-178dff889xlk.shtml',\n  'publication_date': '2024-03-25T07:21:45Z',\n  'content': 'Lo chiamano solo per nome: Satya. Lo fa anche chi ci ha parlato appena una volta. Nel quartier generale di Microsoft a Redmond (a pochi chilometri da Seattle), nessuno nomina il ceo per cognome, Nade… [+8214 chars]'},\n {'publisher': 'Forbes',\n  'author': 'Scott Travers, Contributor, \\n Scott Travers, Contributor\\n https://www.forbes.com/sites/scotttravers/',\n  'title': 'A Biologist Reveals The One Animal That Is Theoretically ‘Immortal’',\n  'description': 'Jellyfish are among the ocean’s most incredible inhabitants. One unique species, through an astonishing biological process, has the potential to live forever.',\n  'url': 'https://www.forbes.com/sites/scotttravers/2024/03/23/a-biologist-reveals-the-one-animal-that-is-theoretically-immortal/',\n  'publication_date': '2024-03-23T12:30:00Z',\n  'content': 'Jellyfish are among the oceans most incredible inhabitants, boasting a wide array of forms and ... [+] abilities, including a unique species that, through an astonishing biological process, has the p… [+4625 chars]'},\n {'publisher': 'Forbes',\n  'author': 'William A. Haseltine, Contributor, \\n William A. Haseltine, Contributor\\n https://www.forbes.com/sites/williamhaseltine/',\n  'title': 'How Old Are You Really? New “Aging” Clock Provides Clues',\n  'description': 'We age along two clocks: a chronological clock and a biological clock. The two don’t always align: some people may be biologically \"younger\" than their chronological age would suggest, and others, older.',\n  'url': 'https://www.forbes.com/sites/williamhaseltine/2024/03/23/how-old-are-you-really-new-aging-clock-provides-clues/',\n  'publication_date': '2024-03-23T16:26:00Z',\n  'content': 'Clocks coming out of a large clock as a 3D illustration.\\r\\ngetty\\r\\nWe age along two clocks: a chronological clock and a biological clock. The former is just a measure of how many birthdays you have cel… [+6426 chars]'},\n {'publisher': 'Forbes',\n  'author': 'Victoria Forster, Contributor, \\n Victoria Forster, Contributor\\n https://www.forbes.com/sites/victoriaforster/',\n  'title': 'Molecule Found In Coffee Helps Aging Muscles, Says New Study',\n  'description': 'The molecule trigonelline has also been linked with improvements in memory and learning as well as anti-inflammatory effects.',\n  'url': 'https://www.forbes.com/sites/victoriaforster/2024/03/26/molecule-found-in-coffee-helps-aging-muscles-says-new-study/',\n  'publication_date': '2024-03-26T12:00:00Z',\n  'content': 'A molecule found in high concentrations in coffee may help keep muscles young according to a new ... [+] study led by researchers in Switzerland and Singapore.\\r\\ngetty\\r\\nA natural compound found in som… [+2955 chars]'},\n {'publisher': 'Forbes',\n  'author': 'Dan Pontefract, Contributor, \\n Dan Pontefract, Contributor\\n https://www.forbes.com/sites/danpontefract/',\n  'title': 'Leading In An Ever-Changing World',\n  'description': 'According to author Eddie Turner, the key to leadership is a blend of digital acumen and humane adaptive prowess.',\n  'url': 'https://www.forbes.com/sites/danpontefract/2024/03/23/leading-in-an-ever-changing-world/',\n  'publication_date': '2024-03-23T21:08:09Z',\n  'content': \"Gettu\\r\\ngetty\\r\\nLeadership today demands more than just guiding a team; it's about steering through the relentless waves of change with an eye for opportunity and the heart for doing things right.\\r\\nAcc… [+5593 chars]\"},\n {'publisher': 'Forbes',\n  'author': 'Alex Knapp, Forbes Staff, \\n Alex Knapp, Forbes Staff\\n https://www.forbes.com/sites/alexknapp/',\n  'title': 'FDA Approves Merck’s New Drug For A Rare Lung Disease',\n  'description': 'The pharmaceutical giant’s new treatment, sotatercept, showed significant benefits for the thousands of patients suffering from pulmonary arterial hypertension in clinical trials.',\n  'url': 'https://www.forbes.com/sites/alexknapp/2024/03/26/fda-approves-mercks-new-drug-for-a-rare-lung-disease/',\n  'publication_date': '2024-03-26T21:09:04Z',\n  'content': 'Pulmonary arterial hyptertension disproportionately impacts women of color, though its ultimate cause is still a mystery.\\r\\ngetty\\r\\nNearly 40,000 Americans are known to suffer from pulmonary arterial h… [+4751 chars]'},\n {'publisher': 'Forbes',\n  'author': 'Andrew Wight, Contributor, \\n Andrew Wight, Contributor\\n https://www.forbes.com/sites/andrewwight/',\n  'title': 'Helping Patients Access Sickle Cell Disease Treatments In West Africa',\n  'description': 'A researcher from Cameroon, working on sickle cell disease, is now aiming to help patients in low-income countries in west Africa afford the medicine that they need.',\n  'url': 'https://www.forbes.com/sites/andrewwight/2024/03/24/helping-patients-access-sickle-cell-disease-treatments-in-west-africa/',\n  'publication_date': '2024-03-24T21:54:08Z',\n  'content': \"A happy patient from NaYa network after obtaining her medicine through NaYa's network (left to ... [+] right NaYa's agent, the pharmacist, the patient, NaYa 's agent). Taken on July 13th 2020 in fron… [+5211 chars]\"},\n {'publisher': 'Forbes',\n  'author': 'Andrew Wight, Contributor, \\n Andrew Wight, Contributor\\n https://www.forbes.com/sites/andrewwight/',\n  'title': 'How Are Scientists Saving Colombia’s Delicious Native Palm Species',\n  'description': \"Colombia has a tenth of the world's palm species and scientists aim to preserve two key food species: Taparo palm (Attalea allenii) and Chontaduro (Bactris gasipaes).\",\n  'url': 'https://www.forbes.com/sites/andrewwight/2024/03/25/how-are-scientists-saving-colombias-delicious-native-palm-species/',\n  'publication_date': '2024-03-25T22:24:36Z',\n  'content': \"A Colombian farmer, climbing a peach palm tree, lowers a bunch of harvested chontaduro fruits on a ... [+] farm on near El Tambo, Colombia.\\r\\nGetty Images\\r\\nColombia has a tenth of the world's palm spe… [+4395 chars]\"},\n {'publisher': 'Forbes',\n  'author': 'Howard Yu, Contributor, \\n Howard Yu, Contributor\\n https://www.forbes.com/sites/howardhyu/',\n  'title': 'Musk In Hot Water: Can Tesla’s Simplicity Save Automakers?',\n  'description': 'Elon Musk’s once-unquestioned leadership faces scrutiny as Tesla bleeds value. But Tesla’s relentless simplification holds an even greater lesson.',\n  'url': 'https://www.forbes.com/sites/howardhyu/2024/03/26/musk-in-hot-water-can-teslas-simplicity-save-automakers/',\n  'publication_date': '2024-03-26T11:16:49Z',\n  'content': '(Photo by Odd ANDERSEN / AFP) (Photo by ODD ANDERSEN/AFP via Getty Images)\\r\\nAFP via Getty Images\\r\\nElon Musks once-unquestioned leadership faces scrutiny as Tesla bleeds value. But Teslas relentless s… [+5833 chars]'},\n {'publisher': 'Forbes',\n  'author': 'Ewan Spence, Senior Contributor, \\n Ewan Spence, Senior Contributor\\n https://www.forbes.com/sites/ewanspence/',\n  'title': 'Android Circuit: New Galaxy Z Fold 6 Leaks, Luxury Honor Magic6 Launch, Android 15 Secrets',\n  'description': 'This week’s Android headlines; Pixel 8a details, Qualcomm’s new Snapdragon, Samsung’s cheaper chip option, an affordable Galaxy Z Fold, Honor reveals luxury Magic6, ignoring the AI buzz, and more...',\n  'url': 'https://www.forbes.com/sites/ewanspence/2024/03/22/android-news-headlines-pixel-8a-galaxy-z-fold-6-honor-magic6-rsr-android-15/',\n  'publication_date': '2024-03-23T00:43:11Z',\n  'content': 'Taking a look back at this weeks news and headlines across the Android world, including Pixel 8a details, Qualcomms new Snapdragon, Samsungs cheaper chip option, an affordable Galaxy Z Fold, Honor re… [+5653 chars]'},\n {'publisher': 'Forbes',\n  'author': 'Maya Richard-Craven, Contributor, \\n Maya Richard-Craven, Contributor\\n https://www.forbes.com/sites/mayarichard-craven/',\n  'title': 'Grammy Award Winner Alicia Keys Has Advice For Up-And-Coming Artists',\n  'description': '“There’s an advantage to being what nobody else can be,” she told me.',\n  'url': 'https://www.forbes.com/sites/mayarichard-craven/2024/03/26/grammy-award-winner-alicia-keys-has-advice-for-up-and-coming-artists/',\n  'publication_date': '2024-03-26T15:48:01Z',\n  'content': 'Alicia Keys sings passionately on stage. \\r\\nNathan Congleton/NBC via Getty Images\\r\\nAmbitious. Admirable. Authentic. These are just a few words to describe Alicia Keys. It isnt a surprise that shes won… [+4299 chars]'},\n {'publisher': 'Forbes',\n  'author': 'Bill Springer, Senior Contributor, \\n Bill Springer, Senior Contributor\\n https://www.forbes.com/sites/billspringer/',\n  'title': 'Is The 262-Foot-Long Xplorer 80 The Ultimate Crossover Superyacht?',\n  'description': 'I love all of Damen Yachting’s newly rebranded Xplorer line of crossover superyachts that combine all the capabilities of an expedition yacht with all the over-the-top...',\n  'url': 'https://www.forbes.com/sites/billspringer/2024/03/26/is-the-262-foot-long-xplorer-80-the-ultimate-crossover-superyacht/',\n  'publication_date': '2024-03-26T20:21:37Z',\n  'content': \"Damen Yachting's Xplorer 80 is uniquely qualified to cruise in the tropics\\r\\nDamen Yachting\\r\\nFull disclosure. I love all of Damen Yachtings newly rebranded Xplorer line of crossover superyachts that c… [+4298 chars]\"},\n {'publisher': 'Forbes',\n  'author': 'Timothy Papandreou, Contributor, \\n Timothy Papandreou, Contributor\\n https://www.forbes.com/sites/timothypapandreou/',\n  'title': 'Generative AI Healthcare: From Treatment To Global Wellness',\n  'description': 'Here comes generative AI, and it’s coming to healthcare.',\n  'url': 'https://www.forbes.com/sites/timothypapandreou/2024/03/25/generative-ai-healthcare-from-treatment-to-global-wellness/',\n  'publication_date': '2024-03-26T02:42:30Z',\n  'content': \"A radiologist looks at a patient's brain images in an AI-based app on a tablet. Photo: Monika ... [+] Skolimowska/dpa (Photo by Monika Skolimowska/picture alliance via Getty Images)\\r\\ndpa/picture alli… [+7890 chars]\"},\n {'publisher': 'Forbes',\n  'author': 'Serenity Gibbons, Contributor, \\n Serenity Gibbons, Contributor\\n https://www.forbes.com/sites/serenitygibbons/',\n  'title': '4 Tips For Building A Sustainable Business As A Female Entrepreneur',\n  'description': 'Women are the heart of America’s small business community. Here’s how they’re building sustainable businesses right now.',\n  'url': 'https://www.forbes.com/sites/serenitygibbons/2024/03/26/4-tips-for-building-a-sustainable-business-as-a-female-entrepreneur/',\n  'publication_date': '2024-03-26T10:00:00Z',\n  'content': 'Female entrepreneurs face persistent challenges as they strive to grow their businesses. These include unequal access to capital, bias in contracting processes, and the fact that womenregardless of e… [+6912 chars]'},\n {'publisher': 'Forbes',\n  'author': 'Caroline Casey, Contributor, \\n Caroline Casey, Contributor\\n https://www.forbes.com/sites/carolinecasey/',\n  'title': 'More Than A Number: Making Every Disability Disclosure Count',\n  'description': \"Workforce representation isn't just a metric - it's a window into whether organizations are backing bold commitments to break down barriers to disability inclusion acr...\",\n  'url': 'https://www.forbes.com/sites/carolinecasey/2024/03/26/more-than-a-number-making-every-disability-disclosure-count/',\n  'publication_date': '2024-03-26T14:32:35Z',\n  'content': 'Two women communicating through sign language.\\r\\nGetty Images\\r\\nWith disability being experienced by over 16% of the global population, the workforce representation of people with disabilities is still… [+7224 chars]'},\n {'publisher': 'Forbes',\n  'author': 'Webroot Contributor, Brand Contributor, \\n Webroot Contributor, Brand Contributor\\n https://www.forbes.com/sites/webroot/people/webrootcontributor/',\n  'title': 'The Marvels And Challenges Of AI',\n  'description': 'Brace yourself for an extended journey through the marvels and challenges of artificial intelligence.',\n  'url': 'https://www.forbes.com/sites/webroot/2024/03/25/the-marvels-and-challenges-of-ai/',\n  'publication_date': '2024-03-25T15:47:27Z',\n  'content': 'Lets delve into the fascinating world of Artificial intelligence (AI), unpacking its concepts, implications, and real-world applications. Brace yourself for an extended journey through the marvels an… [+12024 chars]'}]"
     ]
    }
   ],
   "source": [
    "structured"
   ]
  },
  {
   "cell_type": "code",
   "execution_count": 0,
   "metadata": {
    "application/vnd.databricks.v1+cell": {
     "cellMetadata": {
      "byteLimit": 2048000,
      "rowLimit": 10000
     },
     "inputWidgets": {},
     "nuid": "8b4b5db4-8d7e-489d-81eb-0ba07c2f1efe",
     "showTitle": false,
     "title": ""
    }
   },
   "outputs": [],
   "source": [
    "df = spark.createDataFrame(structured)"
   ]
  },
  {
   "cell_type": "code",
   "execution_count": 0,
   "metadata": {
    "application/vnd.databricks.v1+cell": {
     "cellMetadata": {
      "byteLimit": 2048000,
      "rowLimit": 10000
     },
     "inputWidgets": {},
     "nuid": "c77e82ca-9561-4a48-8e8b-84a25317090a",
     "showTitle": false,
     "title": ""
    }
   },
   "outputs": [
    {
     "output_type": "display_data",
     "data": {
      "text/html": [
       "<style scoped>\n",
       "  .table-result-container {\n",
       "    max-height: 300px;\n",
       "    overflow: auto;\n",
       "  }\n",
       "  table, th, td {\n",
       "    border: 1px solid black;\n",
       "    border-collapse: collapse;\n",
       "  }\n",
       "  th, td {\n",
       "    padding: 5px;\n",
       "  }\n",
       "  th {\n",
       "    text-align: left;\n",
       "  }\n",
       "</style><div class='table-result-container'><table class='table-result'><thead style='background-color: white'><tr><th>author</th><th>content</th><th>description</th><th>publication_date</th><th>publisher</th><th>title</th><th>url</th></tr></thead><tbody><tr><td>Charles Pulliam-Moore</td><td>The creators of 3 Body Problem want to have a back and forth with the book\r\n",
       "The creators of 3 Body Problem want to have a back and forth with the book\r\n",
       " / Though Netflixs 3 Body Problem is very diffe… [+5114 chars]</td><td>The executive producers of Netflix’s 3 Body Problem discuss the challenges of adapting the book for screen and their hopes for more seasons.</td><td>2024-03-25T21:00:00Z</td><td>The Verge</td><td>The creators of 3 Body Problem want to have ‘a back and forth’ with the book</td><td>https://www.theverge.com/24111515/3-body-problem-interview-david-benioff-alexander-woo-db-weiss-season-2</td></tr><tr><td>https://www.facebook.com/bbcnews</td><td>Scientists fear climate change could \"call time\" on the great British pint and are helping the brewing industry to save it.\r\n",
       "Hops give bitter its taste but the plant doesn't like the hotter, drier co… [+3775 chars]</td><td>Researchers are identifying genes in the hop plant to produce varieties that will be more resilient to climate change.</td><td>2024-03-26T06:30:01Z</td><td>BBC News</td><td>Scientists help save UK pint from climate change</td><td>https://www.bbc.co.uk/news/science-environment-68636451</td></tr><tr><td>https://www.facebook.com/bbcnews</td><td>Ministers are facing calls to prevent leaseholders being threatened with losing their home over unpaid charges. \r\n",
       "Under current laws, branded \"draconian\" by campaigners, a property can be repossessed… [+5591 chars]</td><td>Forfeiture means leaseholders can be threatened with losing their home if they do not pay service charges.</td><td>2024-03-26T02:26:36Z</td><td>BBC News</td><td>Moves to make it harder to repossess leasehold homes</td><td>https://www.bbc.co.uk/news/uk-politics-68622126</td></tr><tr><td>Jonathan M. Gitlin</td><td>Enlarge/ This concept points the way to a future Genesis flagship SUV.\r\n",
       "12\r\n",
       "Genesis provided train tickets from Washington to New York and accommodation so Ars could attend its event. Ars does not ac… [+3136 chars]</td><td>Korea's luxury automaker brings five surprises to the New York International Auto Show.</td><td>2024-03-26T16:07:53Z</td><td>Ars Technica</td><td>Genesis unveils its take on the big luxury EV—the Neolun Concept</td><td>https://arstechnica.com/cars/2024/03/sporty-orange-and-big-luxury-genesis-brings-its-ev-game-to-ny/</td></tr><tr><td>Rachel Treisman</td><td>Servers take off for the \"Course des Cafes\" in front of City Hall in central Paris on Sunday.\r\n",
       "Dimitar Dilkoff/AFP via Getty Images\r\n",
       "Foreign stereotypes of French restaurants tend to paint the servic… [+6508 chars]</td><td>Some 200 servers speed-walked through Paris balancing trays of beverages and croissants on Sunday. Paris hasn't held a waiters race since 2011, but brought it back ahead of the Olympics.</td><td>2024-03-25T16:13:33Z</td><td>NPR</td><td>Hurry up and wait: Servers speed-walk through Paris, reviving a century-old race</td><td>https://www.npr.org/2024/03/25/1240667647/paris-waiters-race-tradition-cafe-olympics</td></tr><tr><td>null</td><td>A woman places flowers in memory of the victims of the attack in Moscow, in the center of Simferopol, in Russian-held Crimea, Sunday, March 24, 2024.\r\n",
       "AP\r\n",
       "MOSCOW Family and friends of those still mis… [+6976 chars]</td><td>Russia paused for a day of mourning Sunday for the more than 130 people killed at a Moscow concert. The attack, claimed by an affiliate of the Islamic State, is the deadliest on Russian soil in years.</td><td>2024-03-24T14:57:30Z</td><td>NPR</td><td>Russia marks a national day of mourning for victims of the concert hall attack</td><td>https://www.npr.org/2024/03/24/1240553741/russia-concert-hall-attack-day-of-mourning</td></tr><tr><td>Cameron Manley</td><td>Russian Rosguardia national guard servicemen secure an area near the Crocus City Hall on the western edge of Moscow on March 22, 2024.AP Photo/Vitaly Smolnikov\r\n",
       "<ul><li>115 people are reported to hav… [+5707 chars]</td><td>Gunmen who attacked Moscow's Crocus City Hall  killed 115 dead, as Russian Federal Security Bureau confirms arrests.</td><td>2024-03-23T10:45:26Z</td><td>Business Insider</td><td>Death toll from Moscow concert hall attack rises to 115. The FSB confirmed 11 suspects have been arrested.</td><td>https://www.businessinsider.com/93-dead-11-arrested-terrorist-attack-moscow-russia-2024-3</td></tr><tr><td>Maya Posch</td><td>Finding extraterrestrial life in any form would be truly one of the largest discoveries in humankind’s history, yet after decades of scouring the surface of Mars and investigating other bodies like a… [+1788 chars]</td><td>Finding extraterrestrial life in any form would be truly one of the largest discoveries in humankind’s history, yet after decades of scouring the surface of Mars and investigating other bodies …read more</td><td>2024-03-26T02:00:12Z</td><td>Hackaday</td><td>Complex Organic Chemistry In Sulfuric Acid and Life on Venus</td><td>https://hackaday.com/2024/03/25/complex-organic-chemistry-in-sulfuric-acid-and-life-on-venus/</td></tr><tr><td>Jamie Ducharme</td><td>Just this month, two young, high-profile public figures announced that they have cancer. First, Olivia Munn, 43, disclosed that she was treated for breast cancer after catching it early. Days later, … [+5380 chars]</td><td>Kate Middleton and Olivia Munn's cancer diagnoses spotlight a troubling trend: cancer is getting more common among younger adults.</td><td>2024-03-26T15:57:11Z</td><td>Time</td><td>Why Are So Many Young People Getting Cancer? It’s Complicated</td><td>https://time.com/6960506/cancer-rates-young-people/</td></tr><tr><td>Associated Press</td><td>MOSCOW Suspects in the Russia concert hall attack, which left more than 130 dead, arrived at a Moscow district court on Sunday night.\r\n",
       "There was a heavy police presence around the Basmanny District C… [+6004 chars]</td><td>Suspects in the Russia concert hall attack, which left more than 130 dead, arrived at a Moscow district court on Sunday night.</td><td>2024-03-24T20:42:08Z</td><td>Time</td><td>Russia Concert Hall Attack Suspects Appear in a Moscow Courtroom</td><td>https://time.com/6960153/russia-concert-hall-attack-suspects-moscow-courtroom/</td></tr><tr><td>Mindy Weisberger</td><td>Sign up for CNNs Wonder Theory science newsletter. Explore the universe with news on fascinating discoveries, scientific advancements and more.\r\n",
       "Humans have many wonderful qualities, but we lack some… [+8867 chars]</td><td>Humans’ closest primate relatives lost their tails long ago, but exactly how has remained a mystery. A breakthrough in genetic research may finally offer answers.</td><td>2024-03-24T05:18:54Z</td><td>CNN</td><td>Why don't humans have tails?</td><td>https://www.cnn.com/2024/03/23/world/humans-tails-genetic-mutation-junk-dna-scn/index.html</td></tr><tr><td>Tyne Morgan</td><td>A mystery illness that's impacted dairy herds in the Texas Panhandle, New Mexico and Kansas now has a diagnosis: Influenza A.  USDA says genetic sequencing revealed it's the same strain of Highly Pat… [+10037 chars]</td><td>USDA says genetic sequencing revealed the mystery illness impacting Texas dairies is the same strain of Highly Pathogenic Avian Influenza (HPAI) that's been in the U.S. The virus is carried by wild waterfowl.</td><td>2024-03-25T23:29:45Z</td><td>AgWeb</td><td>Illness Impacting Dairy Cattle Is Confirmed as Highly Pathogenic Avian Flu</td><td>https://www.agweb.com/news/livestock/dairy/breaking-mystery-illness-impacting-texas-kansas-dairy-cattle-confirmed-highly</td></tr><tr><td>Contributors to Wikimedia projects</td><td>Jamie Werner Zawinski (born November 3, 1968), commonly known as jwz, is an American computer programmer, blogger and impresario. He is best known for his role in the creation of Netscape Navigator, … [+10724 chars]</td><td>Comments</td><td>2024-03-26T18:53:00Z</td><td>Wikipedia.org</td><td>Jamie Zawinski</td><td>https://en.wikipedia.org/wiki/Jamie_Zawinski</td></tr><tr><td>null</td><td>Introduction\r\n",
       "Diabetes, obesity, heart disease, cancer, and liver disease have all been linked in various ways to acetate availability, metabolism, and signaling. Acetate supplementation induces phys… [+163834 chars]</td><td>Acetate, the shortest chain fatty acid, has been implicated in providing health benefits whether it is derived from the diet or is generated from microbial f...</td><td>2024-03-26T11:46:02Z</td><td>Frontiersin.org</td><td>Acetate Revisited: A Key Biomolecule at the Nexus of Metabolism, Epigenetics</td><td>https://www.frontiersin.org/journals/physiology/articles/10.3389/fphys.2020.580171/full</td></tr><tr><td>H. Irene Su</td><td>Alabama’s Supreme Court ruled in February that frozen embryos from in vitro fertilization (IVF) are considered “unborn children.” The decision allowed for lawsuits when the loss of an embryo was caus… [+7113 chars]</td><td>A state court ruling that embryos from in vitro fertilization are unborn children harms access to care for fertility patients, as well as medical innovations</td><td>2024-03-25T11:00:00Z</td><td>Scientific American</td><td>Alabama’s Embryo Personhood Decision Threatens Patients, Medicine and Advances in IVF</td><td>https://www.scientificamerican.com/article/alabamas-embryo-personhood-decision-threatens-patients-medicine-and-advances/</td></tr><tr><td>news@appleinsider.com (Daniel Eran Dilger)</td><td>Apple has a monopoly on the Steve Jobs Theater\r\n",
       "Does the European Union, the United States, or other governments need to intervene to fix potential problems in competitive markets for personal comput… [+25696 chars]</td><td>Does the European Union, the United States, or other governments need to intervene to fix potential problems in competitive markets for personal computing?Apple has a monopoly on the Steve Jobs TheaterApple's App Store, iPhone and its services including Messa…</td><td>2024-03-25T15:03:39Z</td><td>AppleInsider</td><td>Does Apple's platform need to be opened up?</td><td>https://appleinsider.com/articles/24/03/25/does-apples-platform-need-to-be-opened-up</td></tr><tr><td>RemyMill, RemyMill</td><td>This dude wants to know if he ruined his marriage And it seems like he easily could have done permanent damage. \r\n",
       "There's nothing the internet loves more than a good trend. Some trends come and stay … [+1323 chars]</td><td>This dude wants to know if he ruined his marriage… And it seems like he easily could have done permanent damage. \r\n",
       "There's nothing the internet loves more than a good trend. Some trends come and stay for a while, like certain Tiktok dances or cooking trends. …</td><td>2024-03-23T19:00:00Z</td><td>Cheezburger.com</td><td>'If I were your wife I’d ask for an IQ test': Podcast advice causes new father to ruin his marriage</td><td>https://cheezburger.com/25106181/if-i-were-your-wife-id-ask-for-an-iq-test-podcast-advice-causes-new-father-to-ruin-his-marriage</td></tr><tr><td>Srishti Mitra</td><td>A lethal and menacing electric bike can set any automotive lover’s heart thumping! Bikes are pretty thrilling themselves, but when you make them electric, they become a match made in heaven. They’re … [+5169 chars]</td><td>Top 10 Electric Bikes That Fuse Lethal Good Looks, Speed & An Eco-Friendly EthosA lethal and menacing electric bike can set any automotive lover’s heart thumping! Bikes are pretty thrilling themselves, but when you make them electric, they...</td><td>2024-03-26T11:40:51Z</td><td>Yanko Design</td><td>Top 10 Electric Bikes That Fuse Lethal Good Looks, Speed & An Eco-Friendly Ethos</td><td>https://www.yankodesign.com/2024/03/26/top-10-electric-bikes-that-fuse-lethal-good-looks-speed-an-eco-friendly-ethos/</td></tr><tr><td>null</td><td>Since its breakthrough development more than a decade ago, CRISPR has revolutionized DNA editing across a broad range of fields. Now scientists are applying the technology's immense potential to huma… [+3698 chars]</td><td>While CRISPR has shown immense promise as a next-generation therapeutic tool, the gene editing technology's edits are still imperfect. Researchers have developed a new system to test and analyze CRISPR-based DNA repair and related risks from unintended but ha…</td><td>2024-03-26T21:01:07Z</td><td>Science Daily</td><td>New genetic analysis tool tracks risks tied to CRISPR edits</td><td>https://www.sciencedaily.com/releases/2024/03/240326170107.htm</td></tr><tr><td>null</td><td>Named for its ropy-looking long branches, Aplysina cauliformis, a coral reef sponge, provides a critical 3D habitat for marine organisms and helps to stabilize the foundation of coral reefs. However,… [+5419 chars]</td><td>A study is the first to evaluate substrate recolonization by sponges in the U.S. Virgin Islands after two catastrophic storms using genetic analyses to understand how much clonality verses sexual recruitment occurs on coral reefs post-storms. Results show tha…</td><td>2024-03-26T14:39:48Z</td><td>Science Daily</td><td>Severe hurricanes boost influx of juveniles and gene flow in a coral reef sponge</td><td>https://www.sciencedaily.com/releases/2024/03/240326103948.htm</td></tr><tr><td>null</td><td>A study by researchers at the UCLA Health Jonsson Comprehensive Cancer Center suggests that injecting engineered dendritic cells directly into cancerous lung tumors can help promote a stronger immune… [+2429 chars]</td><td>A new study suggest that using CXCL9 and CXCL10-producing dendritic cells alongside immunotherapy can be a promising strategy to overcome treatment resistance and improve clinical outcomes for patients with non-small cell lung cancer.</td><td>2024-03-26T16:45:48Z</td><td>Science Daily</td><td>Genetically engineered dendritic cells enhance the power of immunotherapy against lung cancer</td><td>https://www.sciencedaily.com/releases/2024/03/240326124548.htm</td></tr><tr><td>null</td><td>By 2030, the World Health Organization (WHO), the Global Fund and UNAIDS are hoping to end the human immunodeficiency virus (HIV) and AIDS epidemic. An international team of researchers led by Eric A… [+5141 chars]</td><td>A new study shows virus-like particle can effectively 'shock and kill' latent HIV reservoir in those living with chronic HIV.</td><td>2024-03-26T16:45:55Z</td><td>Science Daily</td><td>Researchers a step closer to a cure for HIV</td><td>https://www.sciencedaily.com/releases/2024/03/240326124555.htm</td></tr><tr><td>null</td><td>Scientists have found a \"tipping point\" in the evolution of fungi that throttles their growth and sculpts their shapes. The findings, published in the journal Cell Reports, demonstrate how small chan… [+4299 chars]</td><td>Scientists have found a 'tipping point' in the evolution of fungi that throttles their growth and sculpts their shapes. The findings demonstrate how small changes in environmental factors can lead to huge changes in evolutionary outcomes.</td><td>2024-03-25T15:29:30Z</td><td>Science Daily</td><td>Researchers discover evolutionary 'tipping point' in fungi</td><td>https://www.sciencedaily.com/releases/2024/03/240325112930.htm</td></tr><tr><td>null</td><td>Researchers at the New England Regional Center of Vector-Borne Diseases at the University of Massachusetts Amherst have come up with a new, more accurate method for detecting in ticks the emerging Po… [+5052 chars]</td><td>Researchers have come up with a new, more accurate method for detecting in ticks the emerging Powassan virus, which can cause life-threatening neuroinvasive disease, including encephalitis and meningitis.</td><td>2024-03-26T21:01:14Z</td><td>Science Daily</td><td>New testing approach improves detection of rare but emerging Powassan virus spread by deer ticks</td><td>https://www.sciencedaily.com/releases/2024/03/240326170114.htm</td></tr><tr><td>null</td><td>A new study combining genetic, palaeoecological, and archaeological evidence has unveiled the Persian Plateau as a pivotal geographic location serving as a hub for Homo sapiens during the early stage… [+2802 chars]</td><td>A new study combining genetic, palaeoecological, and archaeological evidence has unveiled the Persian Plateau as a pivotal geographic location serving as a hub for Homo sapiens during the early stages of their migration out of Africa. It highlights the period…</td><td>2024-03-25T15:41:47Z</td><td>Science Daily</td><td>Persian plateau unveiled as crucial hub for early human migration out of Africa</td><td>https://www.sciencedaily.com/releases/2024/03/240325114147.htm</td></tr><tr><td>null</td><td>Humans pass on more viruses to domestic and wild animals than we catch from them, according to a major new analysis of viral genomes by UCL researchers.For the new paper published in Nature Ecology &… [+4202 chars]</td><td>Humans pass on more viruses to domestic and wild animals than we catch from them, according to a major new analysis of viral genomes.</td><td>2024-03-25T15:41:38Z</td><td>Science Daily</td><td>Humans pass more viruses to other animals than we catch from them</td><td>https://www.sciencedaily.com/releases/2024/03/240325114138.htm</td></tr><tr><td>Stacey Marcus</td><td>If youre one of the 31.6 million Americans who has some form of eczema, youre probably itching for a solution. While potions work wonders for wizards, medical experts are more likely to recommend soo… [+10797 chars]</td><td>Discover the best eczema treatments that experts recommend, whether you’re dealing with sudden eczema flare-ups, itchiness, or just need a new facial moisturizer.</td><td>2024-03-25T20:00:01Z</td><td>Mental Floss</td><td>9 of the Best Eczema Treatments, According to Dermatologists</td><td>https://www.mentalfloss.com/posts/best-eczema-treatments-expert-picks</td></tr><tr><td>info@hypebeast.com (Hypebeast)</td><td>Pierpaolo Picciolibid farewell to Valentino on Friday, after 25 years at the Italian fashion house’s helm. In a mutual agreement with the brand, the designer has already departed from the label, mean… [+3466 chars]</td><td>Pierpaolo Piccioli bid farewell to Valentino on Friday, after 25 years at the Italian fashion house's helm. In a mutual agreement with the brand, the designer has already departed from the label, meaning his Fall 2024 collection, shown during Paris Fashion We…</td><td>2024-03-25T19:23:00Z</td><td>HYPEBEAST</td><td>What's Happening at Valentino?</td><td>https://hypebeast.com/2024/3/valentino-alessandro-michele-june-shows-cancel-creative-director-pierpaolo-piccioli</td></tr><tr><td>ZEIT ONLINE: Umwelt - Sarah Vojta</td><td>In Niedersachsen soll erstmals ein Wolf nach einem neuen Schnellverfahren zum\r\n",
       "Abschuss freigeben werden. Die Behörden gehen davon aus, dass dieser am\r\n",
       "vergangenen Wochenende ein Rind in der Region g… [+3358 chars]</td><td>In Niedersachsen soll ein Wolf ein Rind gerissen haben. Die Behörden arbeitet nun an einer Ausnahmegenehmigung für den Abschuss – erstmals ohne vorherige DNA-Analyse.</td><td>2024-03-25T17:37:06Z</td><td>Die Zeit</td><td>Wolfsriss: Niedersachsens Umweltministerium will Wolf zum Abschuss freigeben</td><td>https://www.zeit.de/wissen/umwelt/2024-03/niedersachsen-wolf-riss-abschuss</td></tr><tr><td>ZEIT ONLINE: News -</td><td>Niedersachsen plant erstmals, einen Wolf nach einem neuen Schnellverfahren zum Abschuss freigeben zu lassen. Nachdem am vergangenen Wochenende ein Rind in der Region Hannover gerissen wurde, soll nun… [+2450 chars]</td><td>Hier finden Sie Informationen zu dem Thema „Niedersachsen“. Lesen Sie jetzt „Schnellverfahren: Wolf soll zum Abschuss freigegeben werden“.</td><td>2024-03-25T17:56:05Z</td><td>Die Zeit</td><td>Niedersachsen: Schnellverfahren: Wolf soll zum Abschuss freigegeben werden</td><td>https://www.zeit.de/news/2024-03/25/schnellverfahren-wolf-soll-zum-abschuss-freigegeben-werden</td></tr><tr><td>ZEIT ONLINE: News -</td><td>Niedersachsen plant erstmals, einen Wolf nach einem neuen Schnellverfahren zum Abschuss freigeben zu lassen. Nachdem am vergangenen Wochenende ein Rind in der Region Hannover gerissen wurde, soll nun… [+2454 chars]</td><td>Hier finden Sie Informationen zu dem Thema „Ausnahmegenehmigung“. Lesen Sie jetzt „Land will Wolf in Schnellverfahren zum Abschuss freigeben“.</td><td>2024-03-25T16:50:29Z</td><td>Die Zeit</td><td>Ausnahmegenehmigung: Land will Wolf in Schnellverfahren zum Abschuss freigeben</td><td>https://www.zeit.de/news/2024-03/25/land-will-wolf-in-schnellverfahren-zum-abschuss-freigeben</td></tr><tr><td>Jesse</td><td>Everyone involved in this list and its contents myself included should be ashamed of themself. The English language should never be contorted into awful jokes like those youre about to read. May God … [+1242 chars]</td><td>By Jesse Published: March 26th, 2024</td><td>2024-03-26T14:00:00Z</td><td>Cracked.com</td><td>15 Puns That Will Make You Mad at the Entire English Language</td><td>https://trivia.cracked.com/article_41581_15-puns-that-will-make-you-mad-at-the-entire-english-language.html</td></tr><tr><td>Ryan Menezes</td><td>Lets say a security guard stops you, deeply suspicious. He pulls out a device and holds it up to you. You hear a buzzing from within. This isnt an electronic buzz that you hear. No this device contai… [+3980 chars]</td><td>Featuring disgruntled priests and disgruntled hamsters</td><td>2024-03-23T14:00:00Z</td><td>Cracked.com</td><td>15 Trivia Tidbits for Your Saturday, March 23, 2024</td><td>https://trivia.cracked.com/article_41532_15-trivia-tidbits-for-saturday-march-23-2024.html</td></tr><tr><td>FAZ.NET</td><td>Ella Soccorsi hat dieser Tage einen vollen Terminkalender. Mitte März reist sie zur Eröffnung der zweiten Berliner Dependance des skandinavischen Labels Arket in den Hackeschen Höfen an. Jetzt aber s… [+2895 chars]</td><td>Gerade hat in Berlin die zweite Dependance des schwedischen Labels „Arket“ eröffnet. Kreativchefin Ella Soccorsi erzählt im Gespräch vom Unterschied zu H&M und beantwortet die Frage, ob Arket nicht eigentlich auch Fast Fashion macht.</td><td>2024-03-25T08:07:57Z</td><td>Faz.net</td><td>Arket-Kreativchefin Ella Soccorsi: „Ich bin eine große Verfechterin von Langlebigkeit“</td><td>https://www.faz.net/aktuell/stil/mode-design/mode-label-arket-aus-schweden-eroeffnet-zweite-dependance-in-berlin-19608510.html</td></tr><tr><td>FAZ.NET</td><td>Ella Soccorsi hat dieser Tage einen vollen Terminkalender. Mitte März reist sie zur Eröffnung der zweiten Berliner Dependance des skandinavischen Labels Arket in den Hackeschen Höfen an. Jetzt aber s… [+2895 chars]</td><td>Gerade hat in Berlin die zweite Dependance des schwedischen Labels „Arket“ eröffnet. Kreativchefin Ella Soccorsi erzählt im Gespräch vom Unterschied zu H&M und beantwortet die Frage, ob Arket nicht eigentlich auch Fast Fashion macht.</td><td>2024-03-25T08:07:57Z</td><td>Faz.net</td><td>Arket-Kreativchefin Ella Soccorsi: „Ich bin eine große Verfechterin von Langlebigkeit“</td><td>https://www.faz.net/aktuell/stil/mode-design/schwedisches-mode-label-arket-eroeffnet-neue-dependance-in-berlin-19608510.html</td></tr><tr><td>UC Irvine</td><td>Researchers have discovered the key role that the APOBEC3A and APOBEC3B enzymes play in driving cancer mutations by modifying the DNA in tumor genomes.\r\n",
       "The work offers potential new targets for inte… [+2562 chars]</td><td>Two enzymes that play a role in cancer mutation offer potential new targets for intervention strategies, researchers report.</td><td>2024-03-25T14:17:49Z</td><td>Futurity: Research News</td><td>Team cracks 2 enzymes’ role in cancer mutation</td><td>https://www.futurity.org/enzymes-cancer-mutation-3197292-2/</td></tr><tr><td>James Devitt-NYU</td><td>Historian Stefanos Geroulanos says we need to “take responsibility for what humanity is becoming,” rather than looking to prehistory for easy answers.\r\n",
       "Is war our genetic destiny as humans? And how d… [+2136 chars]</td><td>A historian argues we need to \"take responsibility for what humanity is becoming,\" rather than looking to prehistory for answers.</td><td>2024-03-26T18:21:05Z</td><td>Futurity: Research News</td><td>How ‘prehistory’ has shaped the way humans see ourselves</td><td>https://www.futurity.org/human-origins-prehistory-3198032/</td></tr><tr><td>staff@slashfilm.com (Witney Seibold)</td><td>Sadly, the new makeup design caused no small amount of headaches for Trekkies obsessed with continuity (which is to say, most Trekkies). In \"The Host,\" both Odan and the eventual second host of his s… [+1494 chars]</td><td>Star Trek: Deep Space Nine elected to do away with the Trill&amp;#39;s forehead ridges from The Next Generation in favor of less obtrusive spots.</td><td>2024-03-24T12:45:05Z</td><td>/FILM</td><td>Why Star Trek's Trill Mysteriously Sprouted Spots When It Came Time For Deep Space Nine</td><td>https://www.slashfilm.com/1541028/star-trek-deep-space-nine-trill-jadzia-dax-odan-spots-explained/</td></tr><tr><td>Rachel M. Cohen</td><td>US Sen. Tammy Duckworth speaks during a February news conference, on protections for access to in vitro fertilization. From left to right. Sens. Tammy Baldwin, Amy Klobuchar, Chuck Schumer, and Patty… [+16639 chars]</td><td>What the debate over IVF regulation misses.</td><td>2024-03-26T10:00:00Z</td><td>Vox</td><td>How the anti-abortion movement shaped the US fertility industry</td><td>https://www.vox.com/policy/2024/3/26/24104638/abortion-ivf-duckworth-regulation-reproductive-technology</td></tr><tr><td>TMZ Staff</td><td>For all you Mozart buffs out there, there's a piece of memorabilia up for grabs: his signature -- but here's the catch -- you need some seriously deep pockets if you want to snag it.\r\n",
       "Gotta Have Rock… [+917 chars]</td><td>For all you Mozart buffs out there, there's a piece of memorabilia up for grabs: his signature -- but here's the catch -- you need some seriously deep pockets if you want to snag it. Gotta Have Rock and Roll has the legendary composer's signature…</td><td>2024-03-24T07:20:19Z</td><td>TMZ</td><td>Mozart Signature Up For Auction, Expected To Fetch $100K</td><td>https://www.tmz.com/2024/03/24/mozart-signature-auction-memorabilia-100k/</td></tr><tr><td>Larisha Paul</td><td>After years of heart complications, Arnold Schwarzenegger has undergone surgery to receive a pacemaker. The 76-year-old actor detailed his decision to undergo the medical procedure in a recent newsle… [+2353 chars]</td><td>\"Some scar tissue from my previous surgery had made my heartbeat irregular,\" the actor explained in a statement about his decision to undergo the medical procedure at 76 years old</td><td>2024-03-25T20:31:55Z</td><td>Rolling Stone</td><td>Arnold Schwarzenegger Is ‘More of a Machine’ Following Surgery to Install Pacemaker</td><td>http://www.rollingstone.com/tv-movies/tv-movie-news/arnold-schwarzenegger-pacemaker-surgery-recovery-1234994083/</td></tr><tr><td>Tomás Mier</td><td>Euphoria Season 3 is coming — just not soon. In a new statement on Monday, HBO revealed that while creator Sam Levinson was still “committed” to making a third season of the hit drama, any projected … [+2527 chars]</td><td>HBO shared in a statement that Sam Levinson 'remains committed' to writing new episodes for 'Euphoria' Season 3, but that the season will be delayed.</td><td>2024-03-25T17:08:41Z</td><td>Rolling Stone</td><td>‘Euphoria’ Season 3 Is Delayed, But Sam Levinson Still ‘Committed’ to New Episodes</td><td>http://www.rollingstone.com/tv-movies/tv-movie-news/euphoria-season-3-delayed-sam-levinson-committed-new-episodes-1234993862/</td></tr><tr><td>Christopher Cruz</td><td>For nearly forty years, SXSW has been the premier festival destination for showcasing the greatest talent in music, film, tech and art. Each year, spectators, fans and industry professionals travel f… [+6335 chars]</td><td>Boi-1da and BACARDÍ  take SXSW by storm with a special tech and music crossover panel</td><td>2024-03-25T14:47:13Z</td><td>Rolling Stone</td><td>Changing Tunes: The Role of AI in Music Creation</td><td>http://www.rollingstone.com/music/music-features/changing-tunes-the-role-of-ai-in-music-creation-bacardi-1234991981/</td></tr><tr><td>Andrew Perez</td><td>The morning of the blockade, Emily Collins, co-founder of the climate group Rave Revolution, suits up in a pair of camo pants and combat boots, unaware of the conflict that lies ahead. In the garage,… [+30824 chars]</td><td>Disruptive protests capture clicks. But in a movement that cites mass mobilization as the goal, can activists turn eyeballs into bodies?</td><td>2024-03-23T13:00:00Z</td><td>Rolling Stone</td><td>Blocking Burning Man and Vandalizing Van Gogh: Climate Activists Are Done Playing Nice</td><td>http://www.rollingstone.com/politics/politics-features/climate-movement-rave-revolution-burning-man-1234992798/</td></tr><tr><td>tagesschau.de</td><td>Stand: 24.03.2024 21:08 Uhr\r\n",
       "Wer sind die Toten? Diese Frage quält viele Angehörige nach dem Terroranschlag bei Moskau - denn die meisten der Opfer sind noch nicht identifiziert. Unterdessen wurden d… [+5856 chars]</td><td>Wer sind die Toten? Diese Frage quält viele Angehörige nach dem Terroranschlag bei Moskau - denn die meisten der Opfer sind noch nicht identifiziert. Unterdessen wurden die ersten Tatverdächtigen angeklagt.</td><td>2024-03-24T20:08:32Z</td><td>tagesschau.de</td><td>Viele Tote nach Anschlag bei Moskau noch nicht identifiziert</td><td>https://www.tagesschau.de/ausland/europa/russland-staatstrauer-102.html</td></tr><tr><td>Ryan Lattanzio</td><td>[Editor’s note: The following story contains major spoilers for the ending of “Immaculate.”]\r\n",
       "If you’ve been praying to the genre movie gods for a pregnant final girl to wreak bloody havoc in the las… [+4745 chars]</td><td>Major spoilers ahead: \"Immaculate\" director Michael Mohan reveals how they pulled off the Neon horror movie's horrifying final take.</td><td>2024-03-25T15:00:00Z</td><td>IndieWire</td><td>‘Immaculate’: Inside the Film’s Gnarly Ending and Bloody Sydney Sweeney’s Scream Into the Void</td><td>https://www.indiewire.com/features/interviews/immaculate-ending-explained-spoilers-1234967699/</td></tr><tr><td>Juan Diego Polo</td><td>Desde que ChatGPT está en el mundo, el contenido en Internet se ha multiplicado. Artículos sin salsa con títulos SEO en busca de aparecer en primera posición cuando alguien busca recetas o planea via… [+4338 chars]</td><td>Desde que ChatGPT está en el mundo, el contenido en Internet se ha multiplicado. Artículos sin salsa con títulos SEO en busca de aparecer en primera posición cuando alguien busca recetas o planea viajes a Grecia. Google inicialmente dijo que no le importaba s…</td><td>2024-03-25T11:00:22Z</td><td>Wwwhatsnew.com</td><td>Sobre las herramientas que llenan de spam Internet con contenido generado por IA</td><td>https://wwwhatsnew.com/2024/03/25/sobre-las-herramientas-que-llenan-de-spam-internet-con-contenido-generado-por-ia/</td></tr><tr><td>Stereogum</td><td>We’ve Got A File On You features interviews in which artists share the stories behind the extracurricular activities that dot their careers: acting gigs, guest appearances, random internet ephemera, … [+32708 chars]</td><td>We’ve Got A File On You features interviews in which artists share the stories behind the extracurricular activities that dot their careers: acting gigs, guest appearances, random internet ephemera, etc.</td><td>2024-03-25T17:11:00Z</td><td>Stereogum</td><td>We’ve Got A File On You: The Jesus & Mary Chain’s Jim Reid</td><td>https://www.stereogum.com/2256801/the-jesus-mary-chain-jim-reid/interviews/weve-got-a-file-on-you/</td></tr><tr><td>Stephen On, Manpreet K Dhami</td><td>This article has been reviewed according to Science X's \r\n",
       "editorial process\r\n",
       "and policies.\r\n",
       "Editors have highlighted\r\n",
       "the following attributes while ensuring the content's credibility:\r\n",
       "fact-checked\r… [+5683 chars]</td><td>The far-reaching consequences of climate change inevitably include the production of foods and beverages, including wine.</td><td>2024-03-26T14:20:01Z</td><td>Phys.Org</td><td>How climate change could affect the microbes that ferment grapes and give wine its specific flavors</td><td>https://phys.org/news/2024-03-climate-affect-microbes-ferment-grapes.html</td></tr><tr><td>kalilacourban, kalilacourban</td><td>Hey, cool cats. It's no secret that we often refer to cats as adorable little weirdos. Likewise we also often refer to them as total and full-fledged drama queens (and kings, of course). But honestly… [+829 chars]</td><td>Hey, cool cats. It's no secret that we often refer to cats as adorable little weirdos. Likewise we also often refer to them as total and full-fledged drama queens (and kings, of course). But honestly, we find that they are constantly embracing both of these a…</td><td>2024-03-25T16:00:00Z</td><td>Cheezburger.com</td><td>Hissterical Series of Cute Cats Simultaneously Embracing Their Inner Weirdos and Drama Queens</td><td>https://cheezburger.com/25125125/hissterical-series-of-cute-cats-simultaneously-embracing-their-inner-weirdos-and-drama-queens</td></tr><tr><td>Al Jazeera</td><td>Indonesia is searching for evidence that the Javan tiger, classified as extinct, may actually still exist in the wild.\r\n",
       "The hunt for proof of the big cats survival, which will be conducted with camer… [+1866 chars]</td><td>Search for big cat prompted by strand of hair plucked from a fence in West Java.</td><td>2024-03-26T12:22:44Z</td><td>Al Jazeera English</td><td>Indonesia hunts ‘extinct’ Javan tiger</td><td>https://www.aljazeera.com/news/2024/3/26/indonesia-hunts-for-clues-that-javan-tiger-still-exists</td></tr><tr><td>null</td><td>WIRED VOL.52 FASHION FUTURE AH!\r\n",
       "Content Subheads\r\n",
       " The La FranceThe GaneshaThe PectoralThe OrbThe Desiderata\r\n",
       "199920011,500GardeniaWickerMockatonicRiddlerExousia\r\n",
       "ScienceNatureWIREDThe AtlanticThe W… [+683 chars]</td><td>ネクタイマニアにとって、結び目はアートであり、驚くほど難解な数学の問題でもある。</td><td>2024-03-26T22:00:55Z</td><td>Wired.jp</td><td>1,500通りのネクタイの結び目を発明した男</td><td>https://wired.jp/membership/2024/03/27/the-man-who-invented-fifteen-hundred-necktie-knots/</td></tr><tr><td>Vikki Blake</td><td>Resident Evil 9 is reportedly being developed as an open-world game.\r\n",
       "That's according to noted leaker Dusk Golem, who said that following Capcom's improvements to the RE Engine when developing open-… [+2237 chars]</td><td>Resident Evil 9 is reportedly being developed as an open-world game.That's according to noted leaker Dusk Golem, who said that following Capcom's improvements to the RE Engine when developing open-world experiences like Dragon's Dogma 2, Capcom is eager to ca…</td><td>2024-03-23T17:49:33Z</td><td>Eurogamer.net</td><td>Resident Evil 9 will be open-world, leaker suggests</td><td>https://www.eurogamer.net/resident-evil-9-will-be-open-world-leaker-suggests</td></tr><tr><td>Mario Aguilera</td><td>This article has been reviewed according to Science X's \r\n",
       "editorial process\r\n",
       "and policies.\r\n",
       "Editors have highlighted\r\n",
       "the following attributes while ensuring the content's credibility:\r\n",
       "fact-checked\r… [+4006 chars]</td><td>Since its breakthrough development more than a decade ago, CRISPR has revolutionized DNA editing across a broad range of fields. Now scientists are applying the technology's immense potential to human health and disease, targeting new therapies for an array o…</td><td>2024-03-26T21:15:03Z</td><td>Phys.Org</td><td>New genetic analysis tool tracks risks tied to CRISPR edits</td><td>https://phys.org/news/2024-03-genetic-analysis-tool-tracks-crispr.html</td></tr><tr><td>Science X</td><td>Indonesia is hunting for more clues that the extinct Javan tiger may still exist in the wild, a government official said Tuesday, after a new study suggested links between a DNA-tested hair and the b… [+2845 chars]</td><td>Indonesia is hunting for more clues that the extinct Javan tiger may still exist in the wild, a government official said Tuesday, after a new study suggested links between a DNA-tested hair and the big cat.</td><td>2024-03-26T08:37:18Z</td><td>Phys.Org</td><td>Indonesia hunts clues as study suggests Javan tiger may still exist</td><td>https://phys.org/news/2024-03-indonesia-clues-javan-tiger.html</td></tr><tr><td>Sarah Sharman</td><td>This article has been reviewed according to Science X's \r\n",
       "editorial process\r\n",
       "and policies.\r\n",
       "Editors have highlighted\r\n",
       "the following attributes while ensuring the content's credibility:\r\n",
       "fact-checked\r… [+6201 chars]</td><td>If you're wondering who holds the title of domestic cat royalty, look no further than the stunning Bengal breed. They take the prize for the most popular breed in The International Cat Association (TICA) registry due to their unique, exotic appearance and aff…</td><td>2024-03-25T18:00:04Z</td><td>Phys.Org</td><td>How wild is the Bengal cat genome?</td><td>https://phys.org/news/2024-03-wild-bengal-cat-genome.html</td></tr><tr><td>Adriane Koller</td><td>This article has been reviewed according to Science X's \r\n",
       "editorial process\r\n",
       "and policies.\r\n",
       "Editors have highlighted\r\n",
       "the following attributes while ensuring the content's credibility:\r\n",
       "fact-checked\r… [+596 chars]</td><td>During cell division, a ring forms around the cell equator, which contracts to divide the cell into two daughter cells. Together with researchers from Heidelberg, Dresden, T&uuml;bingen and Harvard, Professor Jan Kierfeld and Lukas Weise from the Department o…</td><td>2024-03-25T17:03:03Z</td><td>Phys.Org</td><td>DNA nanotube rings: Research team develops important building block for artificial cells</td><td>https://phys.org/news/2024-03-dna-nanotube-team-important-block.html</td></tr><tr><td>Science X</td><td>This article has been reviewed according to Science X's \r\n",
       "editorial process\r\n",
       "and policies.\r\n",
       "Editors have highlighted\r\n",
       "the following attributes while ensuring the content's credibility:\r\n",
       "fact-checked\r… [+2088 chars]</td><td>A new evaluation from The Australian National University (ANU) of the number of swift parrots left in the wild has confirmed their population size is likely only a few hundred and declining rapidly.</td><td>2024-03-25T15:21:39Z</td><td>Phys.Org</td><td>New data confirms swift parrot population fears</td><td>https://phys.org/news/2024-03-swift-parrot-population.html</td></tr><tr><td>Science X</td><td>This article has been reviewed according to Science X's \r\n",
       "editorial process\r\n",
       "and policies.\r\n",
       "Editors have highlighted\r\n",
       "the following attributes while ensuring the content's credibility:\r\n",
       "fact-checked\r… [+3323 chars]</td><td>A parasite that devastated long-spined sea urchins in the Caribbean and Florida in 2022 has caused another die-off more than 7,000 miles away in the Sea of Oman.</td><td>2024-03-25T17:01:06Z</td><td>Phys.Org</td><td>Sea urchin killer spreads to new species, region</td><td>https://phys.org/news/2024-03-sea-urchin-killer-species-region.html</td></tr><tr><td>Justin Agan, Alyson Chapman</td><td>This article has been reviewed according to Science X's \r\n",
       "editorial process\r\n",
       "and policies.\r\n",
       "Editors have highlighted\r\n",
       "the following attributes while ensuring the content's credibility:\r\n",
       "fact-checked\r… [+5984 chars]</td><td>When allergy season hits, many blame their reactions on the local flora in the spring. However, African Saharan-Sahelian dust plumes, large enough to register on weather radar, travel around the globe every summer, bringing their own form of air pollution.</td><td>2024-03-26T13:20:07Z</td><td>Phys.Org</td><td>Unseen travelers: Dust storms may spread bacteria and fungi around the world</td><td>https://phys.org/news/2024-03-unseen-storms-bacteria-fungi-world.html</td></tr><tr><td>Ben Thompson</td><td>First, there is the moment when the news hits the wires: U.S. Sues Apple, Alleges Tech Giant Exploits Illegal Monopoly.\r\n",
       "This, we know, is the beginning of a long journey: there will be months or yea… [+29183 chars]</td><td>Apple is being sued by the DOJ, but most of the complaints aren't about the App Store. I think, though, Apple's approach to the App Store is what led to this case.</td><td>2024-03-25T14:16:09Z</td><td>Stratechery.com</td><td>United States v. Apple</td><td>https://stratechery.com/2024/united-states-v-apple/</td></tr><tr><td>StudyFinds</td><td>PHILADELPHIA — Scientists at the University of Pennsylvania’s Perelman School of Medicine have developed a new method to create human artificial chromosomes (HACs) that could revolutionize gene thera… [+4715 chars]</td><td>Scientists at the University of Pennsylvania's Perelman School of Medicine have developed a new method to create human artificial chromosomes (HACs) that could revolutionize gene therapy and other biotechnology applications</td><td>2024-03-26T12:34:36Z</td><td>Study Finds</td><td>Scientists Create Artificial Human Chromosomes In Landmark Genetic Feat...</td><td>https://studyfinds.org/scientists-create-designer-chromosomes-in-landmark-genetic-engineering-feat/</td></tr><tr><td>New York Times</td><td>Most members of the band subscribed to a live-fast-die-young lifestyle. But as they partook in the drinking and drugging endemic to the 1990s grunge scene after shows at the Whiskey a Go Go, Roxy and… [+8535 chars]</td><td>Most members of the band subscribed to a live-fast-die-young lifestyle. But as they partook in the drinking and drugging endemic</td><td>2024-03-25T11:01:36Z</td><td>Dnyuz.com</td><td>To Live Past 100, Mangia a Lot Less: Italian Expert's Ideas on Aging...</td><td>https://dnyuz.com/2024/03/25/to-live-past-100-mangia-a-lot-less-italian-experts-ideas-on-aging/</td></tr><tr><td>Bárbara Giovani</td><td>Um retrovírus pode ter ajudado a tornar pensamentos rápidos e cérebros complexos possíveis. É o que sugere um novo estudo publicado na revista Cell, que descreve como o RetroMyelin — apelido do vírus… [+2079 chars]</td><td>Segundo pesquisa, o retrovírus foi essencial para o desenvolvimento da mielina, proteína que reveste células nervosas\n",
       "The post Um vírus antigo ajudou na evolução do cérebro de vertebrados, diz estudo appeared first on Giz Brasil.</td><td>2024-03-24T19:01:19Z</td><td>Uol.com.br</td><td>Um vírus antigo ajudou na evolução do cérebro de vertebrados, diz estudo</td><td>https://gizmodo.uol.com.br/um-virus-antigo-ajudou-na-evolucao-do-cerebro-de-vertebrados-diz-estudo/</td></tr><tr><td>Miss Cellania</td><td>Almost 150 years after the fact, future neurologist Dr. Kári Stefánsson heard his father talk about the shopkeeper in his hometown of Djúpivogur, Iceland, who was a Black man named Hans Jónatan. Jóna… [+1597 chars]</td><td>Almost 150 years after the fact, future neurologist Dr. Kári Stefánsson heard his father talk about the shopkeeper in his hometown of Djúpivogur, Iceland, who was a Black man named Hans Jónatan. Jónatan wasn't born in Iceland, but he settled there, married, b…</td><td>2024-03-24T01:54:01Z</td><td>Neatorama.com</td><td>Hans Jónatan, Iceland's Black Ancestor</td><td>https://www.neatorama.com/2024/03/23/Hans-Jnatan-Icelands-Black-Ancestor/</td></tr><tr><td>Exuperist</td><td>Frontotemporal dementia, or FTD, is a group of disorders which result from damage to neurons in the frontal and temporal lobes of the brain. Whereas Alzheimer's disease is characterized by memory los… [+1759 chars]</td><td>Frontotemporal dementia, or FTD, is a group of disorders which result from damage to neurons in the frontal and temporal lobes of the brain. Whereas Alzheimer's disease is characterized by memory loss, FTD is often linked to behavioral changes and can affect …</td><td>2024-03-26T13:21:24Z</td><td>Neatorama.com</td><td>The Disease Called FTD</td><td>https://www.neatorama.com/2024/03/26/The-Disease-Called-FTD/</td></tr><tr><td>Trends Desk</td><td>Netizens sparked a debate on animal cruelty after a video of a dog that entered the field during an Indian Premiere League (IPL) match between Gujarat Titans (GT) and Mumbai Indians (MI) on Sunday be… [+1886 chars]</td><td>The dog entered the field when MI captain Hardik Pandya geared up to bowl, causing a brief pause in the match.</td><td>2024-03-26T04:46:13Z</td><td>The Indian Express</td><td>‘Dog isn’t a football’: Varun Dhawan, Siddhanth Kapoor react as officials kick dog that strayed into field during IPL 2024</td><td>https://indianexpress.com/article/trending/trending-in-india/varun-dhawan-siddhant-kapoor-react-as-officials-kick-dog-that-strayed-into-field-during-ipl-2024-9233694/</td></tr><tr><td>news4vip2</td><td>1: 2023/07/16() 15:56:53.233 ID:QOFTddbTd\r\n",
       "https://mi.5ch.net/test/read.cgi/news4vip/1689490613/</td><td>1: 名無し  2023/07/16(日) 15:56:53.233 ID:QOFTddbTd  !」結果は第1子と第3子が実子でなかった    引用元：https://mi.5ch.net/test/read.cgi/news4vip/1689490613/</td><td>2024-03-23T21:30:05Z</td><td>Livedoor.biz</td><td>夫「塾の先生と息子顔にすぎてない？」妻逆ギレ「DNA鑑定すれば」→結果ｗｗｗｗ</td><td>http://news4vip.livedoor.biz/archives/52523266.html</td></tr><tr><td>BALI</td><td>BALI @ 2024.03.27 , 07:03\r\n",
       "0\r\n",
       "Potocsnak·(Thomas Stoeger)\r\n",
       "321\r\n",
       "DNA\r\n",
       "DNADNA\r\n",
       "DNA\r\n",
       "Neuroscience NewsBALI\r\n",
       " (0)</td><td>时间对长基因在衰老中流逝得更快</td><td>2024-03-26T23:03:50Z</td><td>Jandan.net</td><td>长基因与衰老之谜</td><td>http://jandan.net/p/116034</td></tr><tr><td>Dietgard Stein</td><td>Gerade erst hat Dubai die Besucherzahlen für 2023 bekannt gegeben: 17,15 Millionen internationale Übernachtungsgäste zählte das Emirat so viele wie noch nie in seiner Geschichte. Der Spitzenwert pass… [+13627 chars]</td><td>Wolkenkratzer, künstliche Inseln, Wasser in der Wüste: Rekorde haben Dubai berühmt gemacht. 2023 zählte das Emirat so viele Gäste wie noch nie. Bis 2025 will die Stadt die meistbesuchte des Planeten werden. Wir haben uns vor Ort umgesehen, wie das gelingen so…</td><td>2024-03-25T08:20:17Z</td><td>DIE WELT</td><td>Mit neuen Rekorden will Dubai an die Weltspitze</td><td>https://www.welt.de/reise/staedtereisen/article250699122/Dubai-Neue-Rekorde-sollen-das-Emirat-an-die-Weltspitze-bringen.html</td></tr><tr><td>dpa</td><td><ul><li>\r\n",
       "Kommentare</li><li>\r\n",
       "E-Mail</li><li>\r\n",
       "Teilen</li><li>\r\n",
       "Mehr</li><li>\r\n",
       "Twitter</li><li>\r\n",
       "Drucken</li><li>\r\n",
       "Feedback</li><li>\r\n",
       "Fehler meldenSie haben einen Fehler gefunden?\r\n",
       "Bitte markieren S… [+1773 chars]</td><td>Aktivisten der „Letzten Generation“ haben versucht, den Flughafen Braunschweig-Wolfsburg am Samstagmorgen stillzulegen. Mit dabei? Hammer und Meißel.</td><td>2024-03-23T11:03:53Z</td><td>Focus</td><td>„Das ist längst keine Spielerei mehr“ - Klima-Aktivisten wollen mit Hammer und Meißel Flughafen lahmlegen</td><td>https://www.focus.de/panorama/welt/das-ist-laengst-keine-spielerei-mehr-klimaaktivisten-maltraetieren-flughafen-startbahn-mit-hammer-und-meissel_id_259790897.html</td></tr><tr><td>dpa</td><td><ul><li>\r\n",
       "Kommentare</li><li>\r\n",
       "E-Mail</li><li>\r\n",
       "Teilen</li><li>\r\n",
       "Mehr</li><li>\r\n",
       "Twitter</li><li>\r\n",
       "Drucken</li><li>\r\n",
       "Feedback</li><li>\r\n",
       "Fehler meldenSie haben einen Fehler gefunden?\r\n",
       "Bitte markieren S… [+1773 chars]</td><td>Aktivisten der „Letzten Generation“ haben versucht, den Flughafen Braunschweig-Wolfsburg am Samstagmorgen stillzulegen. Mit dabei? Hammer und Meißel.</td><td>2024-03-23T11:03:53Z</td><td>Focus</td><td>„Das ist längst keine Spielerei mehr“ - Klima-Aktivisten wollen mit Hammer und Meißel Flughafen lahmlegen</td><td>https://www.focus.de/panorama/welt/das-ist-laengst-keine-spielerei-mehr-klimaaktivisten-bearbeiten-startbahn-mit-hammer-und-meissel_id_259790897.html</td></tr><tr><td>FOCUS online</td><td><ul><li>\r\n",
       "Kommentare</li><li>\r\n",
       "E-Mail</li><li>\r\n",
       "Teilen</li><li>\r\n",
       "Mehr</li><li>\r\n",
       "Twitter</li><li>\r\n",
       "Drucken</li><li>\r\n",
       "Feedback</li><li>\r\n",
       "Fehler meldenSie haben einen Fehler gefunden?\r\n",
       "Bitte markieren S… [+3340 chars]</td><td>Das Projekt, leerstehende Häuser im italienischen Patrica für einen Euro zu verkaufen, trifft auf unvorhergesehene Probleme. Familienstreitigkeiten und der schlechte Zustand der Immobilien behindern das ambitionierte Projekt.</td><td>2024-03-25T11:47:41Z</td><td>Focus</td><td>Familienkonflikte und baufällige Häuser - Traumhaftes Dorf in Italien verkauft Häuser für 1 Euro - keiner will sie</td><td>https://www.focus.de/panorama/welt/familienkonflikte-und-bauruinen-italienisches-dorf-verkauft-haeuser-fuer-einen-euro-aber-niemand-will-sie-haben_id_259794836.html</td></tr><tr><td>dpa</td><td>Ein Hit aus der Zeit der Neuen Deutschen Welle begeistert aktuell die deutschen Fußball-Fans. Einige würden den Song gerne künftig im Stadion hören. Es gibt viele Unterstützer. Droht trotzdem am Ende… [+3032 chars]</td><td>Ein Hit aus der Zeit der Neuen Deutschen Welle begeistert aktuell die deutschen Fußball-Fans. Einige würden den Song gerne künftig im Stadion hören. Es gibt viele Unterstützer. Droht trotzdem am Ende die große Enttäuschung?</td><td>2024-03-25T16:31:55Z</td><td>Focus</td><td>Major Tom - „Völlig losgelöst“: Plötzlich haben alle DFB-Fans nur noch ein Song im Ohr</td><td>https://www.focus.de/sport/fussball/em/major-tom-voellig-losgeloest-ploetzlich-haben-alle-dfb-fans-nur-noch-einen-song-im-ohr_id_259796662.html</td></tr><tr><td>Jake Kring-Schreifels</td><td>This story contains major spoilers for Immaculate, including the ending.\r\n",
       "When Sydney Sweeney first approached Michael Mohan about directing Immaculate, the actress had one primary request: At the en… [+3084 chars]</td><td>A spoiler-heavy chat with director Michael Mohan about crafting the year's wildest movie ending: “It's all about building to this moment of catharsis for her.\"</td><td>2024-03-25T15:11:25Z</td><td>GQ Magazine</td><td>‘Immaculate’ Just Gave Us the Most Intense Scene of Sydney Sweeney’s Career</td><td>https://www.gq.com/story/immaculate-most-intense-scene</td></tr><tr><td>Lambert Strether</td><td>By Lambert Strether of Corrente.\r\n",
       "Patient readers, I had to cope with Trump’s latest escape. They really shouldn’t break stories just as I’m starting Water Cooler. More soon. –lambert\r\n",
       "Bird Song of t… [+25031 chars]</td><td>~ Today's Water Cooler: Politics, pandemics, Book collecting among the youth, Boeing executives auto-defenestrate, history of blotter, Starbucks map. ~</td><td>2024-03-25T18:00:37Z</td><td>Nakedcapitalism.com</td><td>2:00PM Water Cooler 3/25/2024</td><td>https://www.nakedcapitalism.com/2024/03/200pm-water-cooler-3-25-2024.html</td></tr><tr><td>Susan Krauss Whitbourne PhD, ABPP</td><td>The traditional nature vs. nurture debate in psychology frames the question of whether its genes or the environment that determines your personal qualities, ranging from intelligence to personality. … [+7221 chars]</td><td>It’s common to think that your genes determine your personality, but new research shows how the opposite can actually occur, especially for creativity and self-awareness.</td><td>2024-03-26T16:33:15Z</td><td>Psychology Today</td><td>How Much Does Your Personality Determine Your Genes?</td><td>https://www.psychologytoday.com/intl/blog/fulfillment-at-any-age/202403/how-much-does-your-personality-determine-your-genes</td></tr><tr><td>Robert T Muller Ph.D.</td><td>This post was co-authored by Autumn Bakhsh-Livingston and Robert T. Muller, Ph.D.\r\n",
       "Hoarding is often mocked, stigmatized, and used as entertainment in shows like Hoarders. Previously regarded as a fo… [+3366 chars]</td><td>Hoarding research has uncovered a genetic link and high heritability rates.</td><td>2024-03-25T17:42:54Z</td><td>Psychology Today</td><td>Multigenerational Hoarding an Enormous Stress on Families</td><td>https://www.psychologytoday.com/intl/blog/talking-about-trauma/202403/multigenerational-hoarding-an-enormous-stress-on-families</td></tr><tr><td>Scott G. Eberle Ph.D.</td><td>For years on the morning of every April 1, I could count on my young daughters rigging the kitchen sink faucet to spritz anyone who turned it on. You rascals! Id yell as they looked on, cackling. You… [+5936 chars]</td><td>A Personal Perspective: Tricks, tall tales, and revenge on conspiracy theories.</td><td>2024-03-25T01:39:55Z</td><td>Psychology Today</td><td>Deception as Play</td><td>https://www.psychologytoday.com/intl/blog/play-in-mind/202403/deception-as-play</td></tr><tr><td>Janet Sasson Edgette Psy.D.</td><td>ever has the adage I was a teenager once too, you know been more tone deaf to the experience of being a teenager than it is today. So much has changed in the past decade-plus, in ways that have alter… [+3758 chars]</td><td>How do the changes in adolescent lifestyle and culture over the past decade affect how we work with teenagers in therapy?</td><td>2024-03-26T18:07:02Z</td><td>Psychology Today</td><td>Growing Up Screen-Saturated: Teen Mental Health in the 2020s</td><td>https://www.psychologytoday.com/intl/blog/modern-teen-therapy/202403/growing-up-screen-saturated-teen-mental-health-in-the-2020s</td></tr><tr><td>Paolla Pollo</td><td>Dopo l'annuncio della fine della collaborazione con il direttore creativo Pierpaolo Piccioli, un'altra comunicazione: annullate le sfilate della collezione uomo e dell'alta moda. In attesa di una nuo… [+918 chars]</td><td>Dopo l'annuncio della fine della collaborazione con il direttore creativo Pierpaolo Piccioli, un'altra comunicazione: annullate le sfilate delal colelzion euomo e dell'0alta moda. In attessa di una nuova nomina al verticeDopo l'annuncio della fine della colla…</td><td>2024-03-25T15:09:44Z</td><td>Corriere.it</td><td>Valentino, stop alle sfilate: a giugno saltano le passerelle uomo e alta moda di Parigi</td><td>https://www.corriere.it/moda/24_marzo_25/valentino-stop-alle-sfilate-a-giugno-saltano-l-uomo-e-l-alta-moda-di-parigi-59b7db0d-32c2-46b2-9f5c-871270344xlk.shtml</td></tr><tr><td>Fulvio Fiano</td><td>Il finanziere intervistato da Le Iene: «Il numero di ricerche è inferiore a quello che si è detto. Fedez? Forse una mia curiosità»\r\n",
       "Pasquale Striano, il luogotenente della finanza accusato di aver cr… [+5746 chars]</td><td>Il finanziere intervistato da Le Iene: «Il numero di ricerche è inferiore a quello che si è detto. Fedez? Forse una mia curiosità»Il finanziere intervistato da Le Iene: «Il numero di ricerche è inferiore a quello che si è detto. Fedez? Forse una mia curiosità…</td><td>2024-03-26T19:50:15Z</td><td>Corriere.it</td><td>Falsi dossier, Striano cambia versione: «Da Laudati nessuna richiesta. Io investigatore modello»</td><td>https://roma.corriere.it/notizie/cronaca/24_marzo_26/falsi-dossier-striano-cambia-versione-da-laudati-nessuna-richiesta-io-investigatore-modello-5bb0cc8a-be27-48bc-9b3b-d302ba36bxlk.shtml</td></tr><tr><td>Rinaldo Frignani</td><td>Secondo \"Chi l'ha visto?\" sarebbe il 60enne tedesco sparito dalla sua abitazione a Castel Sant'Angelo il 29 gennaio scorso. La polizia smentisce qualsiasi riconoscimento: il cadavere è in avanzato st… [+2970 chars]</td><td>L’uomo è scomparso a fine gennaio. Il cadavere è in avanzato stato di decomposizioneSecondo \"Chi l'ha visto?\" sarebbe Philip Rogosky, sparito dalla sua abitazione a Castel Sant'Angelo il 29 gennaio scorso. La polizia smentisce qualsiasi riconoscimento: il cad…</td><td>2024-03-26T09:46:46Z</td><td>Corriere.it</td><td>Roma, il giallo del cadavere soffocato con il gas al parco dell'Insugherata. Potrebbe essere il regista scomparso</td><td>https://roma.corriere.it/notizie/cronaca/24_marzo_26/roma-il-giallo-del-cadavere-soffocato-con-il-gas-al-parco-dell-insugherata-potrebbe-essere-il-regista-scomparso-8306990a-c2e7-4130-b965-f27406ca4xlk.shtml</td></tr><tr><td>Valentina Santarpia</td><td>Dopo gli ultimi episodi, un pool di quattro rettori sta scrivendo le regole per affrontare i conflitti con i collettivi che chiedono di boicottare Israele: entro questa settimana il documento sarà pr… [+5473 chars]</td><td>Dopo gli ultimi episodi, un pool di quattro rettori sta scrivendo le regole per affrontare i conflitti con i collettivi che chiedono di boicottare Israele: entro questa settimana il documento sarà presentato alla Crui e alla ministra BerniniDopo gli ultimi ep…</td><td>2024-03-25T10:20:06Z</td><td>Corriere.it</td><td>«Non vogliamo le università con l'elmetto, ma bisogna saper dire di no»: ecco le linee guida degli atenei contro le occupazioni</td><td>https://roma.corriere.it/notizie/politica/24_marzo_25/non-vogliamo-le-universita-con-l-elmetto-ma-bisogna-saper-dire-di-no-ecco-le-linee-guida-degli-atenei-contro-le-occupazioni-06d23826-a0cb-47c7-b4bf-a1b296abexlk.shtml</td></tr><tr><td>Alessia Cruciani, inviata a Redmond (Usa)</td><td>Lo chiamano solo per nome: Satya. Lo fa anche chi ci ha parlato appena una volta. Nel quartier generale di Microsoft a Redmond (a pochi chilometri da Seattle), nessuno nomina il ceo per cognome, Nade… [+8214 chars]</td><td>Abbiamo provato gli ultimi aggiornamenti di Copilot. E si sono aperte le porte di un’altra rivoluzione: l’AI industrialeAbbiamo provato gli ultimi aggiornamenti di Copilot, l’intelligenza artificiale della società da 3 mila miliardi di dollari. E si sono aper…</td><td>2024-03-25T07:21:45Z</td><td>Corriere.it</td><td>Nel campus dove Microsoft inventa il futuro con l’AI: dal lavoro alla salute, come sarà</td><td>https://www.corriere.it/economia/intelligenza-artificiale/24_marzo_25/siamo-andati-nel-campus-dove-microsoft-inventa-il-futuro-con-l-ai-dal-lavoro-alla-salute-ecco-come-sara-21919291-916f-4699-ae0d-178dff889xlk.shtml</td></tr><tr><td>Scott Travers, Contributor, \n",
       " Scott Travers, Contributor\n",
       " https://www.forbes.com/sites/scotttravers/</td><td>Jellyfish are among the oceans most incredible inhabitants, boasting a wide array of forms and ... [+] abilities, including a unique species that, through an astonishing biological process, has the p… [+4625 chars]</td><td>Jellyfish are among the ocean’s most incredible inhabitants. One unique species, through an astonishing biological process, has the potential to live forever.</td><td>2024-03-23T12:30:00Z</td><td>Forbes</td><td>A Biologist Reveals The One Animal That Is Theoretically ‘Immortal’</td><td>https://www.forbes.com/sites/scotttravers/2024/03/23/a-biologist-reveals-the-one-animal-that-is-theoretically-immortal/</td></tr><tr><td>William A. Haseltine, Contributor, \n",
       " William A. Haseltine, Contributor\n",
       " https://www.forbes.com/sites/williamhaseltine/</td><td>Clocks coming out of a large clock as a 3D illustration.\r\n",
       "getty\r\n",
       "We age along two clocks: a chronological clock and a biological clock. The former is just a measure of how many birthdays you have cel… [+6426 chars]</td><td>We age along two clocks: a chronological clock and a biological clock. The two don’t always align: some people may be biologically \"younger\" than their chronological age would suggest, and others, older.</td><td>2024-03-23T16:26:00Z</td><td>Forbes</td><td>How Old Are You Really? New “Aging” Clock Provides Clues</td><td>https://www.forbes.com/sites/williamhaseltine/2024/03/23/how-old-are-you-really-new-aging-clock-provides-clues/</td></tr><tr><td>Victoria Forster, Contributor, \n",
       " Victoria Forster, Contributor\n",
       " https://www.forbes.com/sites/victoriaforster/</td><td>A molecule found in high concentrations in coffee may help keep muscles young according to a new ... [+] study led by researchers in Switzerland and Singapore.\r\n",
       "getty\r\n",
       "A natural compound found in som… [+2955 chars]</td><td>The molecule trigonelline has also been linked with improvements in memory and learning as well as anti-inflammatory effects.</td><td>2024-03-26T12:00:00Z</td><td>Forbes</td><td>Molecule Found In Coffee Helps Aging Muscles, Says New Study</td><td>https://www.forbes.com/sites/victoriaforster/2024/03/26/molecule-found-in-coffee-helps-aging-muscles-says-new-study/</td></tr><tr><td>Dan Pontefract, Contributor, \n",
       " Dan Pontefract, Contributor\n",
       " https://www.forbes.com/sites/danpontefract/</td><td>Gettu\r\n",
       "getty\r\n",
       "Leadership today demands more than just guiding a team; it's about steering through the relentless waves of change with an eye for opportunity and the heart for doing things right.\r\n",
       "Acc… [+5593 chars]</td><td>According to author Eddie Turner, the key to leadership is a blend of digital acumen and humane adaptive prowess.</td><td>2024-03-23T21:08:09Z</td><td>Forbes</td><td>Leading In An Ever-Changing World</td><td>https://www.forbes.com/sites/danpontefract/2024/03/23/leading-in-an-ever-changing-world/</td></tr><tr><td>Alex Knapp, Forbes Staff, \n",
       " Alex Knapp, Forbes Staff\n",
       " https://www.forbes.com/sites/alexknapp/</td><td>Pulmonary arterial hyptertension disproportionately impacts women of color, though its ultimate cause is still a mystery.\r\n",
       "getty\r\n",
       "Nearly 40,000 Americans are known to suffer from pulmonary arterial h… [+4751 chars]</td><td>The pharmaceutical giant’s new treatment, sotatercept, showed significant benefits for the thousands of patients suffering from pulmonary arterial hypertension in clinical trials.</td><td>2024-03-26T21:09:04Z</td><td>Forbes</td><td>FDA Approves Merck’s New Drug For A Rare Lung Disease</td><td>https://www.forbes.com/sites/alexknapp/2024/03/26/fda-approves-mercks-new-drug-for-a-rare-lung-disease/</td></tr><tr><td>Andrew Wight, Contributor, \n",
       " Andrew Wight, Contributor\n",
       " https://www.forbes.com/sites/andrewwight/</td><td>A happy patient from NaYa network after obtaining her medicine through NaYa's network (left to ... [+] right NaYa's agent, the pharmacist, the patient, NaYa 's agent). Taken on July 13th 2020 in fron… [+5211 chars]</td><td>A researcher from Cameroon, working on sickle cell disease, is now aiming to help patients in low-income countries in west Africa afford the medicine that they need.</td><td>2024-03-24T21:54:08Z</td><td>Forbes</td><td>Helping Patients Access Sickle Cell Disease Treatments In West Africa</td><td>https://www.forbes.com/sites/andrewwight/2024/03/24/helping-patients-access-sickle-cell-disease-treatments-in-west-africa/</td></tr><tr><td>Andrew Wight, Contributor, \n",
       " Andrew Wight, Contributor\n",
       " https://www.forbes.com/sites/andrewwight/</td><td>A Colombian farmer, climbing a peach palm tree, lowers a bunch of harvested chontaduro fruits on a ... [+] farm on near El Tambo, Colombia.\r\n",
       "Getty Images\r\n",
       "Colombia has a tenth of the world's palm spe… [+4395 chars]</td><td>Colombia has a tenth of the world's palm species and scientists aim to preserve two key food species: Taparo palm (Attalea allenii) and Chontaduro (Bactris gasipaes).</td><td>2024-03-25T22:24:36Z</td><td>Forbes</td><td>How Are Scientists Saving Colombia’s Delicious Native Palm Species</td><td>https://www.forbes.com/sites/andrewwight/2024/03/25/how-are-scientists-saving-colombias-delicious-native-palm-species/</td></tr><tr><td>Howard Yu, Contributor, \n",
       " Howard Yu, Contributor\n",
       " https://www.forbes.com/sites/howardhyu/</td><td>(Photo by Odd ANDERSEN / AFP) (Photo by ODD ANDERSEN/AFP via Getty Images)\r\n",
       "AFP via Getty Images\r\n",
       "Elon Musks once-unquestioned leadership faces scrutiny as Tesla bleeds value. But Teslas relentless s… [+5833 chars]</td><td>Elon Musk’s once-unquestioned leadership faces scrutiny as Tesla bleeds value. But Tesla’s relentless simplification holds an even greater lesson.</td><td>2024-03-26T11:16:49Z</td><td>Forbes</td><td>Musk In Hot Water: Can Tesla’s Simplicity Save Automakers?</td><td>https://www.forbes.com/sites/howardhyu/2024/03/26/musk-in-hot-water-can-teslas-simplicity-save-automakers/</td></tr><tr><td>Ewan Spence, Senior Contributor, \n",
       " Ewan Spence, Senior Contributor\n",
       " https://www.forbes.com/sites/ewanspence/</td><td>Taking a look back at this weeks news and headlines across the Android world, including Pixel 8a details, Qualcomms new Snapdragon, Samsungs cheaper chip option, an affordable Galaxy Z Fold, Honor re… [+5653 chars]</td><td>This week’s Android headlines; Pixel 8a details, Qualcomm’s new Snapdragon, Samsung’s cheaper chip option, an affordable Galaxy Z Fold, Honor reveals luxury Magic6, ignoring the AI buzz, and more...</td><td>2024-03-23T00:43:11Z</td><td>Forbes</td><td>Android Circuit: New Galaxy Z Fold 6 Leaks, Luxury Honor Magic6 Launch, Android 15 Secrets</td><td>https://www.forbes.com/sites/ewanspence/2024/03/22/android-news-headlines-pixel-8a-galaxy-z-fold-6-honor-magic6-rsr-android-15/</td></tr><tr><td>Maya Richard-Craven, Contributor, \n",
       " Maya Richard-Craven, Contributor\n",
       " https://www.forbes.com/sites/mayarichard-craven/</td><td>Alicia Keys sings passionately on stage. \r\n",
       "Nathan Congleton/NBC via Getty Images\r\n",
       "Ambitious. Admirable. Authentic. These are just a few words to describe Alicia Keys. It isnt a surprise that shes won… [+4299 chars]</td><td>“There’s an advantage to being what nobody else can be,” she told me.</td><td>2024-03-26T15:48:01Z</td><td>Forbes</td><td>Grammy Award Winner Alicia Keys Has Advice For Up-And-Coming Artists</td><td>https://www.forbes.com/sites/mayarichard-craven/2024/03/26/grammy-award-winner-alicia-keys-has-advice-for-up-and-coming-artists/</td></tr><tr><td>Bill Springer, Senior Contributor, \n",
       " Bill Springer, Senior Contributor\n",
       " https://www.forbes.com/sites/billspringer/</td><td>Damen Yachting's Xplorer 80 is uniquely qualified to cruise in the tropics\r\n",
       "Damen Yachting\r\n",
       "Full disclosure. I love all of Damen Yachtings newly rebranded Xplorer line of crossover superyachts that c… [+4298 chars]</td><td>I love all of Damen Yachting’s newly rebranded Xplorer line of crossover superyachts that combine all the capabilities of an expedition yacht with all the over-the-top...</td><td>2024-03-26T20:21:37Z</td><td>Forbes</td><td>Is The 262-Foot-Long Xplorer 80 The Ultimate Crossover Superyacht?</td><td>https://www.forbes.com/sites/billspringer/2024/03/26/is-the-262-foot-long-xplorer-80-the-ultimate-crossover-superyacht/</td></tr><tr><td>Timothy Papandreou, Contributor, \n",
       " Timothy Papandreou, Contributor\n",
       " https://www.forbes.com/sites/timothypapandreou/</td><td>A radiologist looks at a patient's brain images in an AI-based app on a tablet. Photo: Monika ... [+] Skolimowska/dpa (Photo by Monika Skolimowska/picture alliance via Getty Images)\r\n",
       "dpa/picture alli… [+7890 chars]</td><td>Here comes generative AI, and it’s coming to healthcare.</td><td>2024-03-26T02:42:30Z</td><td>Forbes</td><td>Generative AI Healthcare: From Treatment To Global Wellness</td><td>https://www.forbes.com/sites/timothypapandreou/2024/03/25/generative-ai-healthcare-from-treatment-to-global-wellness/</td></tr><tr><td>Serenity Gibbons, Contributor, \n",
       " Serenity Gibbons, Contributor\n",
       " https://www.forbes.com/sites/serenitygibbons/</td><td>Female entrepreneurs face persistent challenges as they strive to grow their businesses. These include unequal access to capital, bias in contracting processes, and the fact that womenregardless of e… [+6912 chars]</td><td>Women are the heart of America’s small business community. Here’s how they’re building sustainable businesses right now.</td><td>2024-03-26T10:00:00Z</td><td>Forbes</td><td>4 Tips For Building A Sustainable Business As A Female Entrepreneur</td><td>https://www.forbes.com/sites/serenitygibbons/2024/03/26/4-tips-for-building-a-sustainable-business-as-a-female-entrepreneur/</td></tr><tr><td>Caroline Casey, Contributor, \n",
       " Caroline Casey, Contributor\n",
       " https://www.forbes.com/sites/carolinecasey/</td><td>Two women communicating through sign language.\r\n",
       "Getty Images\r\n",
       "With disability being experienced by over 16% of the global population, the workforce representation of people with disabilities is still… [+7224 chars]</td><td>Workforce representation isn't just a metric - it's a window into whether organizations are backing bold commitments to break down barriers to disability inclusion acr...</td><td>2024-03-26T14:32:35Z</td><td>Forbes</td><td>More Than A Number: Making Every Disability Disclosure Count</td><td>https://www.forbes.com/sites/carolinecasey/2024/03/26/more-than-a-number-making-every-disability-disclosure-count/</td></tr><tr><td>Webroot Contributor, Brand Contributor, \n",
       " Webroot Contributor, Brand Contributor\n",
       " https://www.forbes.com/sites/webroot/people/webrootcontributor/</td><td>Lets delve into the fascinating world of Artificial intelligence (AI), unpacking its concepts, implications, and real-world applications. Brace yourself for an extended journey through the marvels an… [+12024 chars]</td><td>Brace yourself for an extended journey through the marvels and challenges of artificial intelligence.</td><td>2024-03-25T15:47:27Z</td><td>Forbes</td><td>The Marvels And Challenges Of AI</td><td>https://www.forbes.com/sites/webroot/2024/03/25/the-marvels-and-challenges-of-ai/</td></tr></tbody></table></div>"
      ]
     },
     "metadata": {
      "application/vnd.databricks.v1+output": {
       "addedWidgets": {},
       "aggData": [],
       "aggError": "",
       "aggOverflow": false,
       "aggSchema": [],
       "aggSeriesLimitReached": false,
       "aggType": "",
       "arguments": {},
       "columnCustomDisplayInfos": {},
       "data": [
        [
         "Charles Pulliam-Moore",
         "The creators of 3 Body Problem want to have a back and forth with the book\r\nThe creators of 3 Body Problem want to have a back and forth with the book\r\n / Though Netflixs 3 Body Problem is very diffe… [+5114 chars]",
         "The executive producers of Netflix’s 3 Body Problem discuss the challenges of adapting the book for screen and their hopes for more seasons.",
         "2024-03-25T21:00:00Z",
         "The Verge",
         "The creators of 3 Body Problem want to have ‘a back and forth’ with the book",
         "https://www.theverge.com/24111515/3-body-problem-interview-david-benioff-alexander-woo-db-weiss-season-2"
        ],
        [
         "https://www.facebook.com/bbcnews",
         "Scientists fear climate change could \"call time\" on the great British pint and are helping the brewing industry to save it.\r\nHops give bitter its taste but the plant doesn't like the hotter, drier co… [+3775 chars]",
         "Researchers are identifying genes in the hop plant to produce varieties that will be more resilient to climate change.",
         "2024-03-26T06:30:01Z",
         "BBC News",
         "Scientists help save UK pint from climate change",
         "https://www.bbc.co.uk/news/science-environment-68636451"
        ],
        [
         "https://www.facebook.com/bbcnews",
         "Ministers are facing calls to prevent leaseholders being threatened with losing their home over unpaid charges. \r\nUnder current laws, branded \"draconian\" by campaigners, a property can be repossessed… [+5591 chars]",
         "Forfeiture means leaseholders can be threatened with losing their home if they do not pay service charges.",
         "2024-03-26T02:26:36Z",
         "BBC News",
         "Moves to make it harder to repossess leasehold homes",
         "https://www.bbc.co.uk/news/uk-politics-68622126"
        ],
        [
         "Jonathan M. Gitlin",
         "Enlarge/ This concept points the way to a future Genesis flagship SUV.\r\n12\r\nGenesis provided train tickets from Washington to New York and accommodation so Ars could attend its event. Ars does not ac… [+3136 chars]",
         "Korea's luxury automaker brings five surprises to the New York International Auto Show.",
         "2024-03-26T16:07:53Z",
         "Ars Technica",
         "Genesis unveils its take on the big luxury EV—the Neolun Concept",
         "https://arstechnica.com/cars/2024/03/sporty-orange-and-big-luxury-genesis-brings-its-ev-game-to-ny/"
        ],
        [
         "Rachel Treisman",
         "Servers take off for the \"Course des Cafes\" in front of City Hall in central Paris on Sunday.\r\nDimitar Dilkoff/AFP via Getty Images\r\nForeign stereotypes of French restaurants tend to paint the servic… [+6508 chars]",
         "Some 200 servers speed-walked through Paris balancing trays of beverages and croissants on Sunday. Paris hasn't held a waiters race since 2011, but brought it back ahead of the Olympics.",
         "2024-03-25T16:13:33Z",
         "NPR",
         "Hurry up and wait: Servers speed-walk through Paris, reviving a century-old race",
         "https://www.npr.org/2024/03/25/1240667647/paris-waiters-race-tradition-cafe-olympics"
        ],
        [
         null,
         "A woman places flowers in memory of the victims of the attack in Moscow, in the center of Simferopol, in Russian-held Crimea, Sunday, March 24, 2024.\r\nAP\r\nMOSCOW Family and friends of those still mis… [+6976 chars]",
         "Russia paused for a day of mourning Sunday for the more than 130 people killed at a Moscow concert. The attack, claimed by an affiliate of the Islamic State, is the deadliest on Russian soil in years.",
         "2024-03-24T14:57:30Z",
         "NPR",
         "Russia marks a national day of mourning for victims of the concert hall attack",
         "https://www.npr.org/2024/03/24/1240553741/russia-concert-hall-attack-day-of-mourning"
        ],
        [
         "Cameron Manley",
         "Russian Rosguardia national guard servicemen secure an area near the Crocus City Hall on the western edge of Moscow on March 22, 2024.AP Photo/Vitaly Smolnikov\r\n<ul><li>115 people are reported to hav… [+5707 chars]",
         "Gunmen who attacked Moscow's Crocus City Hall  killed 115 dead, as Russian Federal Security Bureau confirms arrests.",
         "2024-03-23T10:45:26Z",
         "Business Insider",
         "Death toll from Moscow concert hall attack rises to 115. The FSB confirmed 11 suspects have been arrested.",
         "https://www.businessinsider.com/93-dead-11-arrested-terrorist-attack-moscow-russia-2024-3"
        ],
        [
         "Maya Posch",
         "Finding extraterrestrial life in any form would be truly one of the largest discoveries in humankind’s history, yet after decades of scouring the surface of Mars and investigating other bodies like a… [+1788 chars]",
         "Finding extraterrestrial life in any form would be truly one of the largest discoveries in humankind’s history, yet after decades of scouring the surface of Mars and investigating other bodies …read more",
         "2024-03-26T02:00:12Z",
         "Hackaday",
         "Complex Organic Chemistry In Sulfuric Acid and Life on Venus",
         "https://hackaday.com/2024/03/25/complex-organic-chemistry-in-sulfuric-acid-and-life-on-venus/"
        ],
        [
         "Jamie Ducharme",
         "Just this month, two young, high-profile public figures announced that they have cancer. First, Olivia Munn, 43, disclosed that she was treated for breast cancer after catching it early. Days later, … [+5380 chars]",
         "Kate Middleton and Olivia Munn's cancer diagnoses spotlight a troubling trend: cancer is getting more common among younger adults.",
         "2024-03-26T15:57:11Z",
         "Time",
         "Why Are So Many Young People Getting Cancer? It’s Complicated",
         "https://time.com/6960506/cancer-rates-young-people/"
        ],
        [
         "Associated Press",
         "MOSCOW Suspects in the Russia concert hall attack, which left more than 130 dead, arrived at a Moscow district court on Sunday night.\r\nThere was a heavy police presence around the Basmanny District C… [+6004 chars]",
         "Suspects in the Russia concert hall attack, which left more than 130 dead, arrived at a Moscow district court on Sunday night.",
         "2024-03-24T20:42:08Z",
         "Time",
         "Russia Concert Hall Attack Suspects Appear in a Moscow Courtroom",
         "https://time.com/6960153/russia-concert-hall-attack-suspects-moscow-courtroom/"
        ],
        [
         "Mindy Weisberger",
         "Sign up for CNNs Wonder Theory science newsletter. Explore the universe with news on fascinating discoveries, scientific advancements and more.\r\nHumans have many wonderful qualities, but we lack some… [+8867 chars]",
         "Humans’ closest primate relatives lost their tails long ago, but exactly how has remained a mystery. A breakthrough in genetic research may finally offer answers.",
         "2024-03-24T05:18:54Z",
         "CNN",
         "Why don't humans have tails?",
         "https://www.cnn.com/2024/03/23/world/humans-tails-genetic-mutation-junk-dna-scn/index.html"
        ],
        [
         "Tyne Morgan",
         "A mystery illness that's impacted dairy herds in the Texas Panhandle, New Mexico and Kansas now has a diagnosis: Influenza A.  USDA says genetic sequencing revealed it's the same strain of Highly Pat… [+10037 chars]",
         "USDA says genetic sequencing revealed the mystery illness impacting Texas dairies is the same strain of Highly Pathogenic Avian Influenza (HPAI) that's been in the U.S. The virus is carried by wild waterfowl.",
         "2024-03-25T23:29:45Z",
         "AgWeb",
         "Illness Impacting Dairy Cattle Is Confirmed as Highly Pathogenic Avian Flu",
         "https://www.agweb.com/news/livestock/dairy/breaking-mystery-illness-impacting-texas-kansas-dairy-cattle-confirmed-highly"
        ],
        [
         "Contributors to Wikimedia projects",
         "Jamie Werner Zawinski (born November 3, 1968), commonly known as jwz, is an American computer programmer, blogger and impresario. He is best known for his role in the creation of Netscape Navigator, … [+10724 chars]",
         "Comments",
         "2024-03-26T18:53:00Z",
         "Wikipedia.org",
         "Jamie Zawinski",
         "https://en.wikipedia.org/wiki/Jamie_Zawinski"
        ],
        [
         null,
         "Introduction\r\nDiabetes, obesity, heart disease, cancer, and liver disease have all been linked in various ways to acetate availability, metabolism, and signaling. Acetate supplementation induces phys… [+163834 chars]",
         "Acetate, the shortest chain fatty acid, has been implicated in providing health benefits whether it is derived from the diet or is generated from microbial f...",
         "2024-03-26T11:46:02Z",
         "Frontiersin.org",
         "Acetate Revisited: A Key Biomolecule at the Nexus of Metabolism, Epigenetics",
         "https://www.frontiersin.org/journals/physiology/articles/10.3389/fphys.2020.580171/full"
        ],
        [
         "H. Irene Su",
         "Alabama’s Supreme Court ruled in February that frozen embryos from in vitro fertilization (IVF) are considered “unborn children.” The decision allowed for lawsuits when the loss of an embryo was caus… [+7113 chars]",
         "A state court ruling that embryos from in vitro fertilization are unborn children harms access to care for fertility patients, as well as medical innovations",
         "2024-03-25T11:00:00Z",
         "Scientific American",
         "Alabama’s Embryo Personhood Decision Threatens Patients, Medicine and Advances in IVF",
         "https://www.scientificamerican.com/article/alabamas-embryo-personhood-decision-threatens-patients-medicine-and-advances/"
        ],
        [
         "news@appleinsider.com (Daniel Eran Dilger)",
         "Apple has a monopoly on the Steve Jobs Theater\r\nDoes the European Union, the United States, or other governments need to intervene to fix potential problems in competitive markets for personal comput… [+25696 chars]",
         "Does the European Union, the United States, or other governments need to intervene to fix potential problems in competitive markets for personal computing?Apple has a monopoly on the Steve Jobs TheaterApple's App Store, iPhone and its services including Messa…",
         "2024-03-25T15:03:39Z",
         "AppleInsider",
         "Does Apple's platform need to be opened up?",
         "https://appleinsider.com/articles/24/03/25/does-apples-platform-need-to-be-opened-up"
        ],
        [
         "RemyMill, RemyMill",
         "This dude wants to know if he ruined his marriage And it seems like he easily could have done permanent damage. \r\nThere's nothing the internet loves more than a good trend. Some trends come and stay … [+1323 chars]",
         "This dude wants to know if he ruined his marriage… And it seems like he easily could have done permanent damage. \r\nThere's nothing the internet loves more than a good trend. Some trends come and stay for a while, like certain Tiktok dances or cooking trends. …",
         "2024-03-23T19:00:00Z",
         "Cheezburger.com",
         "'If I were your wife I’d ask for an IQ test': Podcast advice causes new father to ruin his marriage",
         "https://cheezburger.com/25106181/if-i-were-your-wife-id-ask-for-an-iq-test-podcast-advice-causes-new-father-to-ruin-his-marriage"
        ],
        [
         "Srishti Mitra",
         "A lethal and menacing electric bike can set any automotive lover’s heart thumping! Bikes are pretty thrilling themselves, but when you make them electric, they become a match made in heaven. They’re … [+5169 chars]",
         "Top 10 Electric Bikes That Fuse Lethal Good Looks, Speed & An Eco-Friendly EthosA lethal and menacing electric bike can set any automotive lover’s heart thumping! Bikes are pretty thrilling themselves, but when you make them electric, they...",
         "2024-03-26T11:40:51Z",
         "Yanko Design",
         "Top 10 Electric Bikes That Fuse Lethal Good Looks, Speed & An Eco-Friendly Ethos",
         "https://www.yankodesign.com/2024/03/26/top-10-electric-bikes-that-fuse-lethal-good-looks-speed-an-eco-friendly-ethos/"
        ],
        [
         null,
         "Since its breakthrough development more than a decade ago, CRISPR has revolutionized DNA editing across a broad range of fields. Now scientists are applying the technology's immense potential to huma… [+3698 chars]",
         "While CRISPR has shown immense promise as a next-generation therapeutic tool, the gene editing technology's edits are still imperfect. Researchers have developed a new system to test and analyze CRISPR-based DNA repair and related risks from unintended but ha…",
         "2024-03-26T21:01:07Z",
         "Science Daily",
         "New genetic analysis tool tracks risks tied to CRISPR edits",
         "https://www.sciencedaily.com/releases/2024/03/240326170107.htm"
        ],
        [
         null,
         "Named for its ropy-looking long branches, Aplysina cauliformis, a coral reef sponge, provides a critical 3D habitat for marine organisms and helps to stabilize the foundation of coral reefs. However,… [+5419 chars]",
         "A study is the first to evaluate substrate recolonization by sponges in the U.S. Virgin Islands after two catastrophic storms using genetic analyses to understand how much clonality verses sexual recruitment occurs on coral reefs post-storms. Results show tha…",
         "2024-03-26T14:39:48Z",
         "Science Daily",
         "Severe hurricanes boost influx of juveniles and gene flow in a coral reef sponge",
         "https://www.sciencedaily.com/releases/2024/03/240326103948.htm"
        ],
        [
         null,
         "A study by researchers at the UCLA Health Jonsson Comprehensive Cancer Center suggests that injecting engineered dendritic cells directly into cancerous lung tumors can help promote a stronger immune… [+2429 chars]",
         "A new study suggest that using CXCL9 and CXCL10-producing dendritic cells alongside immunotherapy can be a promising strategy to overcome treatment resistance and improve clinical outcomes for patients with non-small cell lung cancer.",
         "2024-03-26T16:45:48Z",
         "Science Daily",
         "Genetically engineered dendritic cells enhance the power of immunotherapy against lung cancer",
         "https://www.sciencedaily.com/releases/2024/03/240326124548.htm"
        ],
        [
         null,
         "By 2030, the World Health Organization (WHO), the Global Fund and UNAIDS are hoping to end the human immunodeficiency virus (HIV) and AIDS epidemic. An international team of researchers led by Eric A… [+5141 chars]",
         "A new study shows virus-like particle can effectively 'shock and kill' latent HIV reservoir in those living with chronic HIV.",
         "2024-03-26T16:45:55Z",
         "Science Daily",
         "Researchers a step closer to a cure for HIV",
         "https://www.sciencedaily.com/releases/2024/03/240326124555.htm"
        ],
        [
         null,
         "Scientists have found a \"tipping point\" in the evolution of fungi that throttles their growth and sculpts their shapes. The findings, published in the journal Cell Reports, demonstrate how small chan… [+4299 chars]",
         "Scientists have found a 'tipping point' in the evolution of fungi that throttles their growth and sculpts their shapes. The findings demonstrate how small changes in environmental factors can lead to huge changes in evolutionary outcomes.",
         "2024-03-25T15:29:30Z",
         "Science Daily",
         "Researchers discover evolutionary 'tipping point' in fungi",
         "https://www.sciencedaily.com/releases/2024/03/240325112930.htm"
        ],
        [
         null,
         "Researchers at the New England Regional Center of Vector-Borne Diseases at the University of Massachusetts Amherst have come up with a new, more accurate method for detecting in ticks the emerging Po… [+5052 chars]",
         "Researchers have come up with a new, more accurate method for detecting in ticks the emerging Powassan virus, which can cause life-threatening neuroinvasive disease, including encephalitis and meningitis.",
         "2024-03-26T21:01:14Z",
         "Science Daily",
         "New testing approach improves detection of rare but emerging Powassan virus spread by deer ticks",
         "https://www.sciencedaily.com/releases/2024/03/240326170114.htm"
        ],
        [
         null,
         "A new study combining genetic, palaeoecological, and archaeological evidence has unveiled the Persian Plateau as a pivotal geographic location serving as a hub for Homo sapiens during the early stage… [+2802 chars]",
         "A new study combining genetic, palaeoecological, and archaeological evidence has unveiled the Persian Plateau as a pivotal geographic location serving as a hub for Homo sapiens during the early stages of their migration out of Africa. It highlights the period…",
         "2024-03-25T15:41:47Z",
         "Science Daily",
         "Persian plateau unveiled as crucial hub for early human migration out of Africa",
         "https://www.sciencedaily.com/releases/2024/03/240325114147.htm"
        ],
        [
         null,
         "Humans pass on more viruses to domestic and wild animals than we catch from them, according to a major new analysis of viral genomes by UCL researchers.For the new paper published in Nature Ecology &… [+4202 chars]",
         "Humans pass on more viruses to domestic and wild animals than we catch from them, according to a major new analysis of viral genomes.",
         "2024-03-25T15:41:38Z",
         "Science Daily",
         "Humans pass more viruses to other animals than we catch from them",
         "https://www.sciencedaily.com/releases/2024/03/240325114138.htm"
        ],
        [
         "Stacey Marcus",
         "If youre one of the 31.6 million Americans who has some form of eczema, youre probably itching for a solution. While potions work wonders for wizards, medical experts are more likely to recommend soo… [+10797 chars]",
         "Discover the best eczema treatments that experts recommend, whether you’re dealing with sudden eczema flare-ups, itchiness, or just need a new facial moisturizer.",
         "2024-03-25T20:00:01Z",
         "Mental Floss",
         "9 of the Best Eczema Treatments, According to Dermatologists",
         "https://www.mentalfloss.com/posts/best-eczema-treatments-expert-picks"
        ],
        [
         "info@hypebeast.com (Hypebeast)",
         "Pierpaolo Picciolibid farewell to Valentino on Friday, after 25 years at the Italian fashion house’s helm. In a mutual agreement with the brand, the designer has already departed from the label, mean… [+3466 chars]",
         "Pierpaolo Piccioli bid farewell to Valentino on Friday, after 25 years at the Italian fashion house's helm. In a mutual agreement with the brand, the designer has already departed from the label, meaning his Fall 2024 collection, shown during Paris Fashion We…",
         "2024-03-25T19:23:00Z",
         "HYPEBEAST",
         "What's Happening at Valentino?",
         "https://hypebeast.com/2024/3/valentino-alessandro-michele-june-shows-cancel-creative-director-pierpaolo-piccioli"
        ],
        [
         "ZEIT ONLINE: Umwelt - Sarah Vojta",
         "In Niedersachsen soll erstmals ein Wolf nach einem neuen Schnellverfahren zum\r\nAbschuss freigeben werden. Die Behörden gehen davon aus, dass dieser am\r\nvergangenen Wochenende ein Rind in der Region g… [+3358 chars]",
         "In Niedersachsen soll ein Wolf ein Rind gerissen haben. Die Behörden arbeitet nun an einer Ausnahmegenehmigung für den Abschuss – erstmals ohne vorherige DNA-Analyse.",
         "2024-03-25T17:37:06Z",
         "Die Zeit",
         "Wolfsriss: Niedersachsens Umweltministerium will Wolf zum Abschuss freigeben",
         "https://www.zeit.de/wissen/umwelt/2024-03/niedersachsen-wolf-riss-abschuss"
        ],
        [
         "ZEIT ONLINE: News -",
         "Niedersachsen plant erstmals, einen Wolf nach einem neuen Schnellverfahren zum Abschuss freigeben zu lassen. Nachdem am vergangenen Wochenende ein Rind in der Region Hannover gerissen wurde, soll nun… [+2450 chars]",
         "Hier finden Sie Informationen zu dem Thema „Niedersachsen“. Lesen Sie jetzt „Schnellverfahren: Wolf soll zum Abschuss freigegeben werden“.",
         "2024-03-25T17:56:05Z",
         "Die Zeit",
         "Niedersachsen: Schnellverfahren: Wolf soll zum Abschuss freigegeben werden",
         "https://www.zeit.de/news/2024-03/25/schnellverfahren-wolf-soll-zum-abschuss-freigegeben-werden"
        ],
        [
         "ZEIT ONLINE: News -",
         "Niedersachsen plant erstmals, einen Wolf nach einem neuen Schnellverfahren zum Abschuss freigeben zu lassen. Nachdem am vergangenen Wochenende ein Rind in der Region Hannover gerissen wurde, soll nun… [+2454 chars]",
         "Hier finden Sie Informationen zu dem Thema „Ausnahmegenehmigung“. Lesen Sie jetzt „Land will Wolf in Schnellverfahren zum Abschuss freigeben“.",
         "2024-03-25T16:50:29Z",
         "Die Zeit",
         "Ausnahmegenehmigung: Land will Wolf in Schnellverfahren zum Abschuss freigeben",
         "https://www.zeit.de/news/2024-03/25/land-will-wolf-in-schnellverfahren-zum-abschuss-freigeben"
        ],
        [
         "Jesse",
         "Everyone involved in this list and its contents myself included should be ashamed of themself. The English language should never be contorted into awful jokes like those youre about to read. May God … [+1242 chars]",
         "By Jesse Published: March 26th, 2024",
         "2024-03-26T14:00:00Z",
         "Cracked.com",
         "15 Puns That Will Make You Mad at the Entire English Language",
         "https://trivia.cracked.com/article_41581_15-puns-that-will-make-you-mad-at-the-entire-english-language.html"
        ],
        [
         "Ryan Menezes",
         "Lets say a security guard stops you, deeply suspicious. He pulls out a device and holds it up to you. You hear a buzzing from within. This isnt an electronic buzz that you hear. No this device contai… [+3980 chars]",
         "Featuring disgruntled priests and disgruntled hamsters",
         "2024-03-23T14:00:00Z",
         "Cracked.com",
         "15 Trivia Tidbits for Your Saturday, March 23, 2024",
         "https://trivia.cracked.com/article_41532_15-trivia-tidbits-for-saturday-march-23-2024.html"
        ],
        [
         "FAZ.NET",
         "Ella Soccorsi hat dieser Tage einen vollen Terminkalender. Mitte März reist sie zur Eröffnung der zweiten Berliner Dependance des skandinavischen Labels Arket in den Hackeschen Höfen an. Jetzt aber s… [+2895 chars]",
         "Gerade hat in Berlin die zweite Dependance des schwedischen Labels „Arket“ eröffnet. Kreativchefin Ella Soccorsi erzählt im Gespräch vom Unterschied zu H&M und beantwortet die Frage, ob Arket nicht eigentlich auch Fast Fashion macht.",
         "2024-03-25T08:07:57Z",
         "Faz.net",
         "Arket-Kreativchefin Ella Soccorsi: „Ich bin eine große Verfechterin von Langlebigkeit“",
         "https://www.faz.net/aktuell/stil/mode-design/mode-label-arket-aus-schweden-eroeffnet-zweite-dependance-in-berlin-19608510.html"
        ],
        [
         "FAZ.NET",
         "Ella Soccorsi hat dieser Tage einen vollen Terminkalender. Mitte März reist sie zur Eröffnung der zweiten Berliner Dependance des skandinavischen Labels Arket in den Hackeschen Höfen an. Jetzt aber s… [+2895 chars]",
         "Gerade hat in Berlin die zweite Dependance des schwedischen Labels „Arket“ eröffnet. Kreativchefin Ella Soccorsi erzählt im Gespräch vom Unterschied zu H&M und beantwortet die Frage, ob Arket nicht eigentlich auch Fast Fashion macht.",
         "2024-03-25T08:07:57Z",
         "Faz.net",
         "Arket-Kreativchefin Ella Soccorsi: „Ich bin eine große Verfechterin von Langlebigkeit“",
         "https://www.faz.net/aktuell/stil/mode-design/schwedisches-mode-label-arket-eroeffnet-neue-dependance-in-berlin-19608510.html"
        ],
        [
         "UC Irvine",
         "Researchers have discovered the key role that the APOBEC3A and APOBEC3B enzymes play in driving cancer mutations by modifying the DNA in tumor genomes.\r\nThe work offers potential new targets for inte… [+2562 chars]",
         "Two enzymes that play a role in cancer mutation offer potential new targets for intervention strategies, researchers report.",
         "2024-03-25T14:17:49Z",
         "Futurity: Research News",
         "Team cracks 2 enzymes’ role in cancer mutation",
         "https://www.futurity.org/enzymes-cancer-mutation-3197292-2/"
        ],
        [
         "James Devitt-NYU",
         "Historian Stefanos Geroulanos says we need to “take responsibility for what humanity is becoming,” rather than looking to prehistory for easy answers.\r\nIs war our genetic destiny as humans? And how d… [+2136 chars]",
         "A historian argues we need to \"take responsibility for what humanity is becoming,\" rather than looking to prehistory for answers.",
         "2024-03-26T18:21:05Z",
         "Futurity: Research News",
         "How ‘prehistory’ has shaped the way humans see ourselves",
         "https://www.futurity.org/human-origins-prehistory-3198032/"
        ],
        [
         "staff@slashfilm.com (Witney Seibold)",
         "Sadly, the new makeup design caused no small amount of headaches for Trekkies obsessed with continuity (which is to say, most Trekkies). In \"The Host,\" both Odan and the eventual second host of his s… [+1494 chars]",
         "Star Trek: Deep Space Nine elected to do away with the Trill&amp;#39;s forehead ridges from The Next Generation in favor of less obtrusive spots.",
         "2024-03-24T12:45:05Z",
         "/FILM",
         "Why Star Trek's Trill Mysteriously Sprouted Spots When It Came Time For Deep Space Nine",
         "https://www.slashfilm.com/1541028/star-trek-deep-space-nine-trill-jadzia-dax-odan-spots-explained/"
        ],
        [
         "Rachel M. Cohen",
         "US Sen. Tammy Duckworth speaks during a February news conference, on protections for access to in vitro fertilization. From left to right. Sens. Tammy Baldwin, Amy Klobuchar, Chuck Schumer, and Patty… [+16639 chars]",
         "What the debate over IVF regulation misses.",
         "2024-03-26T10:00:00Z",
         "Vox",
         "How the anti-abortion movement shaped the US fertility industry",
         "https://www.vox.com/policy/2024/3/26/24104638/abortion-ivf-duckworth-regulation-reproductive-technology"
        ],
        [
         "TMZ Staff",
         "For all you Mozart buffs out there, there's a piece of memorabilia up for grabs: his signature -- but here's the catch -- you need some seriously deep pockets if you want to snag it.\r\nGotta Have Rock… [+917 chars]",
         "For all you Mozart buffs out there, there's a piece of memorabilia up for grabs: his signature -- but here's the catch -- you need some seriously deep pockets if you want to snag it. Gotta Have Rock and Roll has the legendary composer's signature…",
         "2024-03-24T07:20:19Z",
         "TMZ",
         "Mozart Signature Up For Auction, Expected To Fetch $100K",
         "https://www.tmz.com/2024/03/24/mozart-signature-auction-memorabilia-100k/"
        ],
        [
         "Larisha Paul",
         "After years of heart complications, Arnold Schwarzenegger has undergone surgery to receive a pacemaker. The 76-year-old actor detailed his decision to undergo the medical procedure in a recent newsle… [+2353 chars]",
         "\"Some scar tissue from my previous surgery had made my heartbeat irregular,\" the actor explained in a statement about his decision to undergo the medical procedure at 76 years old",
         "2024-03-25T20:31:55Z",
         "Rolling Stone",
         "Arnold Schwarzenegger Is ‘More of a Machine’ Following Surgery to Install Pacemaker",
         "http://www.rollingstone.com/tv-movies/tv-movie-news/arnold-schwarzenegger-pacemaker-surgery-recovery-1234994083/"
        ],
        [
         "Tomás Mier",
         "Euphoria Season 3 is coming — just not soon. In a new statement on Monday, HBO revealed that while creator Sam Levinson was still “committed” to making a third season of the hit drama, any projected … [+2527 chars]",
         "HBO shared in a statement that Sam Levinson 'remains committed' to writing new episodes for 'Euphoria' Season 3, but that the season will be delayed.",
         "2024-03-25T17:08:41Z",
         "Rolling Stone",
         "‘Euphoria’ Season 3 Is Delayed, But Sam Levinson Still ‘Committed’ to New Episodes",
         "http://www.rollingstone.com/tv-movies/tv-movie-news/euphoria-season-3-delayed-sam-levinson-committed-new-episodes-1234993862/"
        ],
        [
         "Christopher Cruz",
         "For nearly forty years, SXSW has been the premier festival destination for showcasing the greatest talent in music, film, tech and art. Each year, spectators, fans and industry professionals travel f… [+6335 chars]",
         "Boi-1da and BACARDÍ  take SXSW by storm with a special tech and music crossover panel",
         "2024-03-25T14:47:13Z",
         "Rolling Stone",
         "Changing Tunes: The Role of AI in Music Creation",
         "http://www.rollingstone.com/music/music-features/changing-tunes-the-role-of-ai-in-music-creation-bacardi-1234991981/"
        ],
        [
         "Andrew Perez",
         "The morning of the blockade, Emily Collins, co-founder of the climate group Rave Revolution, suits up in a pair of camo pants and combat boots, unaware of the conflict that lies ahead. In the garage,… [+30824 chars]",
         "Disruptive protests capture clicks. But in a movement that cites mass mobilization as the goal, can activists turn eyeballs into bodies?",
         "2024-03-23T13:00:00Z",
         "Rolling Stone",
         "Blocking Burning Man and Vandalizing Van Gogh: Climate Activists Are Done Playing Nice",
         "http://www.rollingstone.com/politics/politics-features/climate-movement-rave-revolution-burning-man-1234992798/"
        ],
        [
         "tagesschau.de",
         "Stand: 24.03.2024 21:08 Uhr\r\nWer sind die Toten? Diese Frage quält viele Angehörige nach dem Terroranschlag bei Moskau - denn die meisten der Opfer sind noch nicht identifiziert. Unterdessen wurden d… [+5856 chars]",
         "Wer sind die Toten? Diese Frage quält viele Angehörige nach dem Terroranschlag bei Moskau - denn die meisten der Opfer sind noch nicht identifiziert. Unterdessen wurden die ersten Tatverdächtigen angeklagt.",
         "2024-03-24T20:08:32Z",
         "tagesschau.de",
         "Viele Tote nach Anschlag bei Moskau noch nicht identifiziert",
         "https://www.tagesschau.de/ausland/europa/russland-staatstrauer-102.html"
        ],
        [
         "Ryan Lattanzio",
         "[Editor’s note: The following story contains major spoilers for the ending of “Immaculate.”]\r\nIf you’ve been praying to the genre movie gods for a pregnant final girl to wreak bloody havoc in the las… [+4745 chars]",
         "Major spoilers ahead: \"Immaculate\" director Michael Mohan reveals how they pulled off the Neon horror movie's horrifying final take.",
         "2024-03-25T15:00:00Z",
         "IndieWire",
         "‘Immaculate’: Inside the Film’s Gnarly Ending and Bloody Sydney Sweeney’s Scream Into the Void",
         "https://www.indiewire.com/features/interviews/immaculate-ending-explained-spoilers-1234967699/"
        ],
        [
         "Juan Diego Polo",
         "Desde que ChatGPT está en el mundo, el contenido en Internet se ha multiplicado. Artículos sin salsa con títulos SEO en busca de aparecer en primera posición cuando alguien busca recetas o planea via… [+4338 chars]",
         "Desde que ChatGPT está en el mundo, el contenido en Internet se ha multiplicado. Artículos sin salsa con títulos SEO en busca de aparecer en primera posición cuando alguien busca recetas o planea viajes a Grecia. Google inicialmente dijo que no le importaba s…",
         "2024-03-25T11:00:22Z",
         "Wwwhatsnew.com",
         "Sobre las herramientas que llenan de spam Internet con contenido generado por IA",
         "https://wwwhatsnew.com/2024/03/25/sobre-las-herramientas-que-llenan-de-spam-internet-con-contenido-generado-por-ia/"
        ],
        [
         "Stereogum",
         "We’ve Got A File On You features interviews in which artists share the stories behind the extracurricular activities that dot their careers: acting gigs, guest appearances, random internet ephemera, … [+32708 chars]",
         "We’ve Got A File On You features interviews in which artists share the stories behind the extracurricular activities that dot their careers: acting gigs, guest appearances, random internet ephemera, etc.",
         "2024-03-25T17:11:00Z",
         "Stereogum",
         "We’ve Got A File On You: The Jesus & Mary Chain’s Jim Reid",
         "https://www.stereogum.com/2256801/the-jesus-mary-chain-jim-reid/interviews/weve-got-a-file-on-you/"
        ],
        [
         "Stephen On, Manpreet K Dhami",
         "This article has been reviewed according to Science X's \r\neditorial process\r\nand policies.\r\nEditors have highlighted\r\nthe following attributes while ensuring the content's credibility:\r\nfact-checked\r… [+5683 chars]",
         "The far-reaching consequences of climate change inevitably include the production of foods and beverages, including wine.",
         "2024-03-26T14:20:01Z",
         "Phys.Org",
         "How climate change could affect the microbes that ferment grapes and give wine its specific flavors",
         "https://phys.org/news/2024-03-climate-affect-microbes-ferment-grapes.html"
        ],
        [
         "kalilacourban, kalilacourban",
         "Hey, cool cats. It's no secret that we often refer to cats as adorable little weirdos. Likewise we also often refer to them as total and full-fledged drama queens (and kings, of course). But honestly… [+829 chars]",
         "Hey, cool cats. It's no secret that we often refer to cats as adorable little weirdos. Likewise we also often refer to them as total and full-fledged drama queens (and kings, of course). But honestly, we find that they are constantly embracing both of these a…",
         "2024-03-25T16:00:00Z",
         "Cheezburger.com",
         "Hissterical Series of Cute Cats Simultaneously Embracing Their Inner Weirdos and Drama Queens",
         "https://cheezburger.com/25125125/hissterical-series-of-cute-cats-simultaneously-embracing-their-inner-weirdos-and-drama-queens"
        ],
        [
         "Al Jazeera",
         "Indonesia is searching for evidence that the Javan tiger, classified as extinct, may actually still exist in the wild.\r\nThe hunt for proof of the big cats survival, which will be conducted with camer… [+1866 chars]",
         "Search for big cat prompted by strand of hair plucked from a fence in West Java.",
         "2024-03-26T12:22:44Z",
         "Al Jazeera English",
         "Indonesia hunts ‘extinct’ Javan tiger",
         "https://www.aljazeera.com/news/2024/3/26/indonesia-hunts-for-clues-that-javan-tiger-still-exists"
        ],
        [
         null,
         "WIRED VOL.52 FASHION FUTURE AH!\r\nContent Subheads\r\n The La FranceThe GaneshaThe PectoralThe OrbThe Desiderata\r\n199920011,500GardeniaWickerMockatonicRiddlerExousia\r\nScienceNatureWIREDThe AtlanticThe W… [+683 chars]",
         "ネクタイマニアにとって、結び目はアートであり、驚くほど難解な数学の問題でもある。",
         "2024-03-26T22:00:55Z",
         "Wired.jp",
         "1,500通りのネクタイの結び目を発明した男",
         "https://wired.jp/membership/2024/03/27/the-man-who-invented-fifteen-hundred-necktie-knots/"
        ],
        [
         "Vikki Blake",
         "Resident Evil 9 is reportedly being developed as an open-world game.\r\nThat's according to noted leaker Dusk Golem, who said that following Capcom's improvements to the RE Engine when developing open-… [+2237 chars]",
         "Resident Evil 9 is reportedly being developed as an open-world game.That's according to noted leaker Dusk Golem, who said that following Capcom's improvements to the RE Engine when developing open-world experiences like Dragon's Dogma 2, Capcom is eager to ca…",
         "2024-03-23T17:49:33Z",
         "Eurogamer.net",
         "Resident Evil 9 will be open-world, leaker suggests",
         "https://www.eurogamer.net/resident-evil-9-will-be-open-world-leaker-suggests"
        ],
        [
         "Mario Aguilera",
         "This article has been reviewed according to Science X's \r\neditorial process\r\nand policies.\r\nEditors have highlighted\r\nthe following attributes while ensuring the content's credibility:\r\nfact-checked\r… [+4006 chars]",
         "Since its breakthrough development more than a decade ago, CRISPR has revolutionized DNA editing across a broad range of fields. Now scientists are applying the technology's immense potential to human health and disease, targeting new therapies for an array o…",
         "2024-03-26T21:15:03Z",
         "Phys.Org",
         "New genetic analysis tool tracks risks tied to CRISPR edits",
         "https://phys.org/news/2024-03-genetic-analysis-tool-tracks-crispr.html"
        ],
        [
         "Science X",
         "Indonesia is hunting for more clues that the extinct Javan tiger may still exist in the wild, a government official said Tuesday, after a new study suggested links between a DNA-tested hair and the b… [+2845 chars]",
         "Indonesia is hunting for more clues that the extinct Javan tiger may still exist in the wild, a government official said Tuesday, after a new study suggested links between a DNA-tested hair and the big cat.",
         "2024-03-26T08:37:18Z",
         "Phys.Org",
         "Indonesia hunts clues as study suggests Javan tiger may still exist",
         "https://phys.org/news/2024-03-indonesia-clues-javan-tiger.html"
        ],
        [
         "Sarah Sharman",
         "This article has been reviewed according to Science X's \r\neditorial process\r\nand policies.\r\nEditors have highlighted\r\nthe following attributes while ensuring the content's credibility:\r\nfact-checked\r… [+6201 chars]",
         "If you're wondering who holds the title of domestic cat royalty, look no further than the stunning Bengal breed. They take the prize for the most popular breed in The International Cat Association (TICA) registry due to their unique, exotic appearance and aff…",
         "2024-03-25T18:00:04Z",
         "Phys.Org",
         "How wild is the Bengal cat genome?",
         "https://phys.org/news/2024-03-wild-bengal-cat-genome.html"
        ],
        [
         "Adriane Koller",
         "This article has been reviewed according to Science X's \r\neditorial process\r\nand policies.\r\nEditors have highlighted\r\nthe following attributes while ensuring the content's credibility:\r\nfact-checked\r… [+596 chars]",
         "During cell division, a ring forms around the cell equator, which contracts to divide the cell into two daughter cells. Together with researchers from Heidelberg, Dresden, T&uuml;bingen and Harvard, Professor Jan Kierfeld and Lukas Weise from the Department o…",
         "2024-03-25T17:03:03Z",
         "Phys.Org",
         "DNA nanotube rings: Research team develops important building block for artificial cells",
         "https://phys.org/news/2024-03-dna-nanotube-team-important-block.html"
        ],
        [
         "Science X",
         "This article has been reviewed according to Science X's \r\neditorial process\r\nand policies.\r\nEditors have highlighted\r\nthe following attributes while ensuring the content's credibility:\r\nfact-checked\r… [+2088 chars]",
         "A new evaluation from The Australian National University (ANU) of the number of swift parrots left in the wild has confirmed their population size is likely only a few hundred and declining rapidly.",
         "2024-03-25T15:21:39Z",
         "Phys.Org",
         "New data confirms swift parrot population fears",
         "https://phys.org/news/2024-03-swift-parrot-population.html"
        ],
        [
         "Science X",
         "This article has been reviewed according to Science X's \r\neditorial process\r\nand policies.\r\nEditors have highlighted\r\nthe following attributes while ensuring the content's credibility:\r\nfact-checked\r… [+3323 chars]",
         "A parasite that devastated long-spined sea urchins in the Caribbean and Florida in 2022 has caused another die-off more than 7,000 miles away in the Sea of Oman.",
         "2024-03-25T17:01:06Z",
         "Phys.Org",
         "Sea urchin killer spreads to new species, region",
         "https://phys.org/news/2024-03-sea-urchin-killer-species-region.html"
        ],
        [
         "Justin Agan, Alyson Chapman",
         "This article has been reviewed according to Science X's \r\neditorial process\r\nand policies.\r\nEditors have highlighted\r\nthe following attributes while ensuring the content's credibility:\r\nfact-checked\r… [+5984 chars]",
         "When allergy season hits, many blame their reactions on the local flora in the spring. However, African Saharan-Sahelian dust plumes, large enough to register on weather radar, travel around the globe every summer, bringing their own form of air pollution.",
         "2024-03-26T13:20:07Z",
         "Phys.Org",
         "Unseen travelers: Dust storms may spread bacteria and fungi around the world",
         "https://phys.org/news/2024-03-unseen-storms-bacteria-fungi-world.html"
        ],
        [
         "Ben Thompson",
         "First, there is the moment when the news hits the wires: U.S. Sues Apple, Alleges Tech Giant Exploits Illegal Monopoly.\r\nThis, we know, is the beginning of a long journey: there will be months or yea… [+29183 chars]",
         "Apple is being sued by the DOJ, but most of the complaints aren't about the App Store. I think, though, Apple's approach to the App Store is what led to this case.",
         "2024-03-25T14:16:09Z",
         "Stratechery.com",
         "United States v. Apple",
         "https://stratechery.com/2024/united-states-v-apple/"
        ],
        [
         "StudyFinds",
         "PHILADELPHIA — Scientists at the University of Pennsylvania’s Perelman School of Medicine have developed a new method to create human artificial chromosomes (HACs) that could revolutionize gene thera… [+4715 chars]",
         "Scientists at the University of Pennsylvania's Perelman School of Medicine have developed a new method to create human artificial chromosomes (HACs) that could revolutionize gene therapy and other biotechnology applications",
         "2024-03-26T12:34:36Z",
         "Study Finds",
         "Scientists Create Artificial Human Chromosomes In Landmark Genetic Feat...",
         "https://studyfinds.org/scientists-create-designer-chromosomes-in-landmark-genetic-engineering-feat/"
        ],
        [
         "New York Times",
         "Most members of the band subscribed to a live-fast-die-young lifestyle. But as they partook in the drinking and drugging endemic to the 1990s grunge scene after shows at the Whiskey a Go Go, Roxy and… [+8535 chars]",
         "Most members of the band subscribed to a live-fast-die-young lifestyle. But as they partook in the drinking and drugging endemic",
         "2024-03-25T11:01:36Z",
         "Dnyuz.com",
         "To Live Past 100, Mangia a Lot Less: Italian Expert's Ideas on Aging...",
         "https://dnyuz.com/2024/03/25/to-live-past-100-mangia-a-lot-less-italian-experts-ideas-on-aging/"
        ],
        [
         "Bárbara Giovani",
         "Um retrovírus pode ter ajudado a tornar pensamentos rápidos e cérebros complexos possíveis. É o que sugere um novo estudo publicado na revista Cell, que descreve como o RetroMyelin — apelido do vírus… [+2079 chars]",
         "Segundo pesquisa, o retrovírus foi essencial para o desenvolvimento da mielina, proteína que reveste células nervosas\nThe post Um vírus antigo ajudou na evolução do cérebro de vertebrados, diz estudo appeared first on Giz Brasil.",
         "2024-03-24T19:01:19Z",
         "Uol.com.br",
         "Um vírus antigo ajudou na evolução do cérebro de vertebrados, diz estudo",
         "https://gizmodo.uol.com.br/um-virus-antigo-ajudou-na-evolucao-do-cerebro-de-vertebrados-diz-estudo/"
        ],
        [
         "Miss Cellania",
         "Almost 150 years after the fact, future neurologist Dr. Kári Stefánsson heard his father talk about the shopkeeper in his hometown of Djúpivogur, Iceland, who was a Black man named Hans Jónatan. Jóna… [+1597 chars]",
         "Almost 150 years after the fact, future neurologist Dr. Kári Stefánsson heard his father talk about the shopkeeper in his hometown of Djúpivogur, Iceland, who was a Black man named Hans Jónatan. Jónatan wasn't born in Iceland, but he settled there, married, b…",
         "2024-03-24T01:54:01Z",
         "Neatorama.com",
         "Hans Jónatan, Iceland's Black Ancestor",
         "https://www.neatorama.com/2024/03/23/Hans-Jnatan-Icelands-Black-Ancestor/"
        ],
        [
         "Exuperist",
         "Frontotemporal dementia, or FTD, is a group of disorders which result from damage to neurons in the frontal and temporal lobes of the brain. Whereas Alzheimer's disease is characterized by memory los… [+1759 chars]",
         "Frontotemporal dementia, or FTD, is a group of disorders which result from damage to neurons in the frontal and temporal lobes of the brain. Whereas Alzheimer's disease is characterized by memory loss, FTD is often linked to behavioral changes and can affect …",
         "2024-03-26T13:21:24Z",
         "Neatorama.com",
         "The Disease Called FTD",
         "https://www.neatorama.com/2024/03/26/The-Disease-Called-FTD/"
        ],
        [
         "Trends Desk",
         "Netizens sparked a debate on animal cruelty after a video of a dog that entered the field during an Indian Premiere League (IPL) match between Gujarat Titans (GT) and Mumbai Indians (MI) on Sunday be… [+1886 chars]",
         "The dog entered the field when MI captain Hardik Pandya geared up to bowl, causing a brief pause in the match.",
         "2024-03-26T04:46:13Z",
         "The Indian Express",
         "‘Dog isn’t a football’: Varun Dhawan, Siddhanth Kapoor react as officials kick dog that strayed into field during IPL 2024",
         "https://indianexpress.com/article/trending/trending-in-india/varun-dhawan-siddhant-kapoor-react-as-officials-kick-dog-that-strayed-into-field-during-ipl-2024-9233694/"
        ],
        [
         "news4vip2",
         "1: 2023/07/16() 15:56:53.233 ID:QOFTddbTd\r\nhttps://mi.5ch.net/test/read.cgi/news4vip/1689490613/",
         "1: 名無し  2023/07/16(日) 15:56:53.233 ID:QOFTddbTd  !」結果は第1子と第3子が実子でなかった    引用元：https://mi.5ch.net/test/read.cgi/news4vip/1689490613/",
         "2024-03-23T21:30:05Z",
         "Livedoor.biz",
         "夫「塾の先生と息子顔にすぎてない？」妻逆ギレ「DNA鑑定すれば」→結果ｗｗｗｗ",
         "http://news4vip.livedoor.biz/archives/52523266.html"
        ],
        [
         "BALI",
         "BALI @ 2024.03.27 , 07:03\r\n0\r\nPotocsnak·(Thomas Stoeger)\r\n321\r\nDNA\r\nDNADNA\r\nDNA\r\nNeuroscience NewsBALI\r\n (0)",
         "时间对长基因在衰老中流逝得更快",
         "2024-03-26T23:03:50Z",
         "Jandan.net",
         "长基因与衰老之谜",
         "http://jandan.net/p/116034"
        ],
        [
         "Dietgard Stein",
         "Gerade erst hat Dubai die Besucherzahlen für 2023 bekannt gegeben: 17,15 Millionen internationale Übernachtungsgäste zählte das Emirat so viele wie noch nie in seiner Geschichte. Der Spitzenwert pass… [+13627 chars]",
         "Wolkenkratzer, künstliche Inseln, Wasser in der Wüste: Rekorde haben Dubai berühmt gemacht. 2023 zählte das Emirat so viele Gäste wie noch nie. Bis 2025 will die Stadt die meistbesuchte des Planeten werden. Wir haben uns vor Ort umgesehen, wie das gelingen so…",
         "2024-03-25T08:20:17Z",
         "DIE WELT",
         "Mit neuen Rekorden will Dubai an die Weltspitze",
         "https://www.welt.de/reise/staedtereisen/article250699122/Dubai-Neue-Rekorde-sollen-das-Emirat-an-die-Weltspitze-bringen.html"
        ],
        [
         "dpa",
         "<ul><li>\r\nKommentare</li><li>\r\nE-Mail</li><li>\r\nTeilen</li><li>\r\nMehr</li><li>\r\nTwitter</li><li>\r\nDrucken</li><li>\r\nFeedback</li><li>\r\nFehler meldenSie haben einen Fehler gefunden?\r\nBitte markieren S… [+1773 chars]",
         "Aktivisten der „Letzten Generation“ haben versucht, den Flughafen Braunschweig-Wolfsburg am Samstagmorgen stillzulegen. Mit dabei? Hammer und Meißel.",
         "2024-03-23T11:03:53Z",
         "Focus",
         "„Das ist längst keine Spielerei mehr“ - Klima-Aktivisten wollen mit Hammer und Meißel Flughafen lahmlegen",
         "https://www.focus.de/panorama/welt/das-ist-laengst-keine-spielerei-mehr-klimaaktivisten-maltraetieren-flughafen-startbahn-mit-hammer-und-meissel_id_259790897.html"
        ],
        [
         "dpa",
         "<ul><li>\r\nKommentare</li><li>\r\nE-Mail</li><li>\r\nTeilen</li><li>\r\nMehr</li><li>\r\nTwitter</li><li>\r\nDrucken</li><li>\r\nFeedback</li><li>\r\nFehler meldenSie haben einen Fehler gefunden?\r\nBitte markieren S… [+1773 chars]",
         "Aktivisten der „Letzten Generation“ haben versucht, den Flughafen Braunschweig-Wolfsburg am Samstagmorgen stillzulegen. Mit dabei? Hammer und Meißel.",
         "2024-03-23T11:03:53Z",
         "Focus",
         "„Das ist längst keine Spielerei mehr“ - Klima-Aktivisten wollen mit Hammer und Meißel Flughafen lahmlegen",
         "https://www.focus.de/panorama/welt/das-ist-laengst-keine-spielerei-mehr-klimaaktivisten-bearbeiten-startbahn-mit-hammer-und-meissel_id_259790897.html"
        ],
        [
         "FOCUS online",
         "<ul><li>\r\nKommentare</li><li>\r\nE-Mail</li><li>\r\nTeilen</li><li>\r\nMehr</li><li>\r\nTwitter</li><li>\r\nDrucken</li><li>\r\nFeedback</li><li>\r\nFehler meldenSie haben einen Fehler gefunden?\r\nBitte markieren S… [+3340 chars]",
         "Das Projekt, leerstehende Häuser im italienischen Patrica für einen Euro zu verkaufen, trifft auf unvorhergesehene Probleme. Familienstreitigkeiten und der schlechte Zustand der Immobilien behindern das ambitionierte Projekt.",
         "2024-03-25T11:47:41Z",
         "Focus",
         "Familienkonflikte und baufällige Häuser - Traumhaftes Dorf in Italien verkauft Häuser für 1 Euro - keiner will sie",
         "https://www.focus.de/panorama/welt/familienkonflikte-und-bauruinen-italienisches-dorf-verkauft-haeuser-fuer-einen-euro-aber-niemand-will-sie-haben_id_259794836.html"
        ],
        [
         "dpa",
         "Ein Hit aus der Zeit der Neuen Deutschen Welle begeistert aktuell die deutschen Fußball-Fans. Einige würden den Song gerne künftig im Stadion hören. Es gibt viele Unterstützer. Droht trotzdem am Ende… [+3032 chars]",
         "Ein Hit aus der Zeit der Neuen Deutschen Welle begeistert aktuell die deutschen Fußball-Fans. Einige würden den Song gerne künftig im Stadion hören. Es gibt viele Unterstützer. Droht trotzdem am Ende die große Enttäuschung?",
         "2024-03-25T16:31:55Z",
         "Focus",
         "Major Tom - „Völlig losgelöst“: Plötzlich haben alle DFB-Fans nur noch ein Song im Ohr",
         "https://www.focus.de/sport/fussball/em/major-tom-voellig-losgeloest-ploetzlich-haben-alle-dfb-fans-nur-noch-einen-song-im-ohr_id_259796662.html"
        ],
        [
         "Jake Kring-Schreifels",
         "This story contains major spoilers for Immaculate, including the ending.\r\nWhen Sydney Sweeney first approached Michael Mohan about directing Immaculate, the actress had one primary request: At the en… [+3084 chars]",
         "A spoiler-heavy chat with director Michael Mohan about crafting the year's wildest movie ending: “It's all about building to this moment of catharsis for her.\"",
         "2024-03-25T15:11:25Z",
         "GQ Magazine",
         "‘Immaculate’ Just Gave Us the Most Intense Scene of Sydney Sweeney’s Career",
         "https://www.gq.com/story/immaculate-most-intense-scene"
        ],
        [
         "Lambert Strether",
         "By Lambert Strether of Corrente.\r\nPatient readers, I had to cope with Trump’s latest escape. They really shouldn’t break stories just as I’m starting Water Cooler. More soon. –lambert\r\nBird Song of t… [+25031 chars]",
         "~ Today's Water Cooler: Politics, pandemics, Book collecting among the youth, Boeing executives auto-defenestrate, history of blotter, Starbucks map. ~",
         "2024-03-25T18:00:37Z",
         "Nakedcapitalism.com",
         "2:00PM Water Cooler 3/25/2024",
         "https://www.nakedcapitalism.com/2024/03/200pm-water-cooler-3-25-2024.html"
        ],
        [
         "Susan Krauss Whitbourne PhD, ABPP",
         "The traditional nature vs. nurture debate in psychology frames the question of whether its genes or the environment that determines your personal qualities, ranging from intelligence to personality. … [+7221 chars]",
         "It’s common to think that your genes determine your personality, but new research shows how the opposite can actually occur, especially for creativity and self-awareness.",
         "2024-03-26T16:33:15Z",
         "Psychology Today",
         "How Much Does Your Personality Determine Your Genes?",
         "https://www.psychologytoday.com/intl/blog/fulfillment-at-any-age/202403/how-much-does-your-personality-determine-your-genes"
        ],
        [
         "Robert T Muller Ph.D.",
         "This post was co-authored by Autumn Bakhsh-Livingston and Robert T. Muller, Ph.D.\r\nHoarding is often mocked, stigmatized, and used as entertainment in shows like Hoarders. Previously regarded as a fo… [+3366 chars]",
         "Hoarding research has uncovered a genetic link and high heritability rates.",
         "2024-03-25T17:42:54Z",
         "Psychology Today",
         "Multigenerational Hoarding an Enormous Stress on Families",
         "https://www.psychologytoday.com/intl/blog/talking-about-trauma/202403/multigenerational-hoarding-an-enormous-stress-on-families"
        ],
        [
         "Scott G. Eberle Ph.D.",
         "For years on the morning of every April 1, I could count on my young daughters rigging the kitchen sink faucet to spritz anyone who turned it on. You rascals! Id yell as they looked on, cackling. You… [+5936 chars]",
         "A Personal Perspective: Tricks, tall tales, and revenge on conspiracy theories.",
         "2024-03-25T01:39:55Z",
         "Psychology Today",
         "Deception as Play",
         "https://www.psychologytoday.com/intl/blog/play-in-mind/202403/deception-as-play"
        ],
        [
         "Janet Sasson Edgette Psy.D.",
         "ever has the adage I was a teenager once too, you know been more tone deaf to the experience of being a teenager than it is today. So much has changed in the past decade-plus, in ways that have alter… [+3758 chars]",
         "How do the changes in adolescent lifestyle and culture over the past decade affect how we work with teenagers in therapy?",
         "2024-03-26T18:07:02Z",
         "Psychology Today",
         "Growing Up Screen-Saturated: Teen Mental Health in the 2020s",
         "https://www.psychologytoday.com/intl/blog/modern-teen-therapy/202403/growing-up-screen-saturated-teen-mental-health-in-the-2020s"
        ],
        [
         "Paolla Pollo",
         "Dopo l'annuncio della fine della collaborazione con il direttore creativo Pierpaolo Piccioli, un'altra comunicazione: annullate le sfilate della collezione uomo e dell'alta moda. In attesa di una nuo… [+918 chars]",
         "Dopo l'annuncio della fine della collaborazione con il direttore creativo Pierpaolo Piccioli, un'altra comunicazione: annullate le sfilate delal colelzion euomo e dell'0alta moda. In attessa di una nuova nomina al verticeDopo l'annuncio della fine della colla…",
         "2024-03-25T15:09:44Z",
         "Corriere.it",
         "Valentino, stop alle sfilate: a giugno saltano le passerelle uomo e alta moda di Parigi",
         "https://www.corriere.it/moda/24_marzo_25/valentino-stop-alle-sfilate-a-giugno-saltano-l-uomo-e-l-alta-moda-di-parigi-59b7db0d-32c2-46b2-9f5c-871270344xlk.shtml"
        ],
        [
         "Fulvio Fiano",
         "Il finanziere intervistato da Le Iene: «Il numero di ricerche è inferiore a quello che si è detto. Fedez? Forse una mia curiosità»\r\nPasquale Striano, il luogotenente della finanza accusato di aver cr… [+5746 chars]",
         "Il finanziere intervistato da Le Iene: «Il numero di ricerche è inferiore a quello che si è detto. Fedez? Forse una mia curiosità»Il finanziere intervistato da Le Iene: «Il numero di ricerche è inferiore a quello che si è detto. Fedez? Forse una mia curiosità…",
         "2024-03-26T19:50:15Z",
         "Corriere.it",
         "Falsi dossier, Striano cambia versione: «Da Laudati nessuna richiesta. Io investigatore modello»",
         "https://roma.corriere.it/notizie/cronaca/24_marzo_26/falsi-dossier-striano-cambia-versione-da-laudati-nessuna-richiesta-io-investigatore-modello-5bb0cc8a-be27-48bc-9b3b-d302ba36bxlk.shtml"
        ],
        [
         "Rinaldo Frignani",
         "Secondo \"Chi l'ha visto?\" sarebbe il 60enne tedesco sparito dalla sua abitazione a Castel Sant'Angelo il 29 gennaio scorso. La polizia smentisce qualsiasi riconoscimento: il cadavere è in avanzato st… [+2970 chars]",
         "L’uomo è scomparso a fine gennaio. Il cadavere è in avanzato stato di decomposizioneSecondo \"Chi l'ha visto?\" sarebbe Philip Rogosky, sparito dalla sua abitazione a Castel Sant'Angelo il 29 gennaio scorso. La polizia smentisce qualsiasi riconoscimento: il cad…",
         "2024-03-26T09:46:46Z",
         "Corriere.it",
         "Roma, il giallo del cadavere soffocato con il gas al parco dell'Insugherata. Potrebbe essere il regista scomparso",
         "https://roma.corriere.it/notizie/cronaca/24_marzo_26/roma-il-giallo-del-cadavere-soffocato-con-il-gas-al-parco-dell-insugherata-potrebbe-essere-il-regista-scomparso-8306990a-c2e7-4130-b965-f27406ca4xlk.shtml"
        ],
        [
         "Valentina Santarpia",
         "Dopo gli ultimi episodi, un pool di quattro rettori sta scrivendo le regole per affrontare i conflitti con i collettivi che chiedono di boicottare Israele: entro questa settimana il documento sarà pr… [+5473 chars]",
         "Dopo gli ultimi episodi, un pool di quattro rettori sta scrivendo le regole per affrontare i conflitti con i collettivi che chiedono di boicottare Israele: entro questa settimana il documento sarà presentato alla Crui e alla ministra BerniniDopo gli ultimi ep…",
         "2024-03-25T10:20:06Z",
         "Corriere.it",
         "«Non vogliamo le università con l'elmetto, ma bisogna saper dire di no»: ecco le linee guida degli atenei contro le occupazioni",
         "https://roma.corriere.it/notizie/politica/24_marzo_25/non-vogliamo-le-universita-con-l-elmetto-ma-bisogna-saper-dire-di-no-ecco-le-linee-guida-degli-atenei-contro-le-occupazioni-06d23826-a0cb-47c7-b4bf-a1b296abexlk.shtml"
        ],
        [
         "Alessia Cruciani, inviata a Redmond (Usa)",
         "Lo chiamano solo per nome: Satya. Lo fa anche chi ci ha parlato appena una volta. Nel quartier generale di Microsoft a Redmond (a pochi chilometri da Seattle), nessuno nomina il ceo per cognome, Nade… [+8214 chars]",
         "Abbiamo provato gli ultimi aggiornamenti di Copilot. E si sono aperte le porte di un’altra rivoluzione: l’AI industrialeAbbiamo provato gli ultimi aggiornamenti di Copilot, l’intelligenza artificiale della società da 3 mila miliardi di dollari. E si sono aper…",
         "2024-03-25T07:21:45Z",
         "Corriere.it",
         "Nel campus dove Microsoft inventa il futuro con l’AI: dal lavoro alla salute, come sarà",
         "https://www.corriere.it/economia/intelligenza-artificiale/24_marzo_25/siamo-andati-nel-campus-dove-microsoft-inventa-il-futuro-con-l-ai-dal-lavoro-alla-salute-ecco-come-sara-21919291-916f-4699-ae0d-178dff889xlk.shtml"
        ],
        [
         "Scott Travers, Contributor, \n Scott Travers, Contributor\n https://www.forbes.com/sites/scotttravers/",
         "Jellyfish are among the oceans most incredible inhabitants, boasting a wide array of forms and ... [+] abilities, including a unique species that, through an astonishing biological process, has the p… [+4625 chars]",
         "Jellyfish are among the ocean’s most incredible inhabitants. One unique species, through an astonishing biological process, has the potential to live forever.",
         "2024-03-23T12:30:00Z",
         "Forbes",
         "A Biologist Reveals The One Animal That Is Theoretically ‘Immortal’",
         "https://www.forbes.com/sites/scotttravers/2024/03/23/a-biologist-reveals-the-one-animal-that-is-theoretically-immortal/"
        ],
        [
         "William A. Haseltine, Contributor, \n William A. Haseltine, Contributor\n https://www.forbes.com/sites/williamhaseltine/",
         "Clocks coming out of a large clock as a 3D illustration.\r\ngetty\r\nWe age along two clocks: a chronological clock and a biological clock. The former is just a measure of how many birthdays you have cel… [+6426 chars]",
         "We age along two clocks: a chronological clock and a biological clock. The two don’t always align: some people may be biologically \"younger\" than their chronological age would suggest, and others, older.",
         "2024-03-23T16:26:00Z",
         "Forbes",
         "How Old Are You Really? New “Aging” Clock Provides Clues",
         "https://www.forbes.com/sites/williamhaseltine/2024/03/23/how-old-are-you-really-new-aging-clock-provides-clues/"
        ],
        [
         "Victoria Forster, Contributor, \n Victoria Forster, Contributor\n https://www.forbes.com/sites/victoriaforster/",
         "A molecule found in high concentrations in coffee may help keep muscles young according to a new ... [+] study led by researchers in Switzerland and Singapore.\r\ngetty\r\nA natural compound found in som… [+2955 chars]",
         "The molecule trigonelline has also been linked with improvements in memory and learning as well as anti-inflammatory effects.",
         "2024-03-26T12:00:00Z",
         "Forbes",
         "Molecule Found In Coffee Helps Aging Muscles, Says New Study",
         "https://www.forbes.com/sites/victoriaforster/2024/03/26/molecule-found-in-coffee-helps-aging-muscles-says-new-study/"
        ],
        [
         "Dan Pontefract, Contributor, \n Dan Pontefract, Contributor\n https://www.forbes.com/sites/danpontefract/",
         "Gettu\r\ngetty\r\nLeadership today demands more than just guiding a team; it's about steering through the relentless waves of change with an eye for opportunity and the heart for doing things right.\r\nAcc… [+5593 chars]",
         "According to author Eddie Turner, the key to leadership is a blend of digital acumen and humane adaptive prowess.",
         "2024-03-23T21:08:09Z",
         "Forbes",
         "Leading In An Ever-Changing World",
         "https://www.forbes.com/sites/danpontefract/2024/03/23/leading-in-an-ever-changing-world/"
        ],
        [
         "Alex Knapp, Forbes Staff, \n Alex Knapp, Forbes Staff\n https://www.forbes.com/sites/alexknapp/",
         "Pulmonary arterial hyptertension disproportionately impacts women of color, though its ultimate cause is still a mystery.\r\ngetty\r\nNearly 40,000 Americans are known to suffer from pulmonary arterial h… [+4751 chars]",
         "The pharmaceutical giant’s new treatment, sotatercept, showed significant benefits for the thousands of patients suffering from pulmonary arterial hypertension in clinical trials.",
         "2024-03-26T21:09:04Z",
         "Forbes",
         "FDA Approves Merck’s New Drug For A Rare Lung Disease",
         "https://www.forbes.com/sites/alexknapp/2024/03/26/fda-approves-mercks-new-drug-for-a-rare-lung-disease/"
        ],
        [
         "Andrew Wight, Contributor, \n Andrew Wight, Contributor\n https://www.forbes.com/sites/andrewwight/",
         "A happy patient from NaYa network after obtaining her medicine through NaYa's network (left to ... [+] right NaYa's agent, the pharmacist, the patient, NaYa 's agent). Taken on July 13th 2020 in fron… [+5211 chars]",
         "A researcher from Cameroon, working on sickle cell disease, is now aiming to help patients in low-income countries in west Africa afford the medicine that they need.",
         "2024-03-24T21:54:08Z",
         "Forbes",
         "Helping Patients Access Sickle Cell Disease Treatments In West Africa",
         "https://www.forbes.com/sites/andrewwight/2024/03/24/helping-patients-access-sickle-cell-disease-treatments-in-west-africa/"
        ],
        [
         "Andrew Wight, Contributor, \n Andrew Wight, Contributor\n https://www.forbes.com/sites/andrewwight/",
         "A Colombian farmer, climbing a peach palm tree, lowers a bunch of harvested chontaduro fruits on a ... [+] farm on near El Tambo, Colombia.\r\nGetty Images\r\nColombia has a tenth of the world's palm spe… [+4395 chars]",
         "Colombia has a tenth of the world's palm species and scientists aim to preserve two key food species: Taparo palm (Attalea allenii) and Chontaduro (Bactris gasipaes).",
         "2024-03-25T22:24:36Z",
         "Forbes",
         "How Are Scientists Saving Colombia’s Delicious Native Palm Species",
         "https://www.forbes.com/sites/andrewwight/2024/03/25/how-are-scientists-saving-colombias-delicious-native-palm-species/"
        ],
        [
         "Howard Yu, Contributor, \n Howard Yu, Contributor\n https://www.forbes.com/sites/howardhyu/",
         "(Photo by Odd ANDERSEN / AFP) (Photo by ODD ANDERSEN/AFP via Getty Images)\r\nAFP via Getty Images\r\nElon Musks once-unquestioned leadership faces scrutiny as Tesla bleeds value. But Teslas relentless s… [+5833 chars]",
         "Elon Musk’s once-unquestioned leadership faces scrutiny as Tesla bleeds value. But Tesla’s relentless simplification holds an even greater lesson.",
         "2024-03-26T11:16:49Z",
         "Forbes",
         "Musk In Hot Water: Can Tesla’s Simplicity Save Automakers?",
         "https://www.forbes.com/sites/howardhyu/2024/03/26/musk-in-hot-water-can-teslas-simplicity-save-automakers/"
        ],
        [
         "Ewan Spence, Senior Contributor, \n Ewan Spence, Senior Contributor\n https://www.forbes.com/sites/ewanspence/",
         "Taking a look back at this weeks news and headlines across the Android world, including Pixel 8a details, Qualcomms new Snapdragon, Samsungs cheaper chip option, an affordable Galaxy Z Fold, Honor re… [+5653 chars]",
         "This week’s Android headlines; Pixel 8a details, Qualcomm’s new Snapdragon, Samsung’s cheaper chip option, an affordable Galaxy Z Fold, Honor reveals luxury Magic6, ignoring the AI buzz, and more...",
         "2024-03-23T00:43:11Z",
         "Forbes",
         "Android Circuit: New Galaxy Z Fold 6 Leaks, Luxury Honor Magic6 Launch, Android 15 Secrets",
         "https://www.forbes.com/sites/ewanspence/2024/03/22/android-news-headlines-pixel-8a-galaxy-z-fold-6-honor-magic6-rsr-android-15/"
        ],
        [
         "Maya Richard-Craven, Contributor, \n Maya Richard-Craven, Contributor\n https://www.forbes.com/sites/mayarichard-craven/",
         "Alicia Keys sings passionately on stage. \r\nNathan Congleton/NBC via Getty Images\r\nAmbitious. Admirable. Authentic. These are just a few words to describe Alicia Keys. It isnt a surprise that shes won… [+4299 chars]",
         "“There’s an advantage to being what nobody else can be,” she told me.",
         "2024-03-26T15:48:01Z",
         "Forbes",
         "Grammy Award Winner Alicia Keys Has Advice For Up-And-Coming Artists",
         "https://www.forbes.com/sites/mayarichard-craven/2024/03/26/grammy-award-winner-alicia-keys-has-advice-for-up-and-coming-artists/"
        ],
        [
         "Bill Springer, Senior Contributor, \n Bill Springer, Senior Contributor\n https://www.forbes.com/sites/billspringer/",
         "Damen Yachting's Xplorer 80 is uniquely qualified to cruise in the tropics\r\nDamen Yachting\r\nFull disclosure. I love all of Damen Yachtings newly rebranded Xplorer line of crossover superyachts that c… [+4298 chars]",
         "I love all of Damen Yachting’s newly rebranded Xplorer line of crossover superyachts that combine all the capabilities of an expedition yacht with all the over-the-top...",
         "2024-03-26T20:21:37Z",
         "Forbes",
         "Is The 262-Foot-Long Xplorer 80 The Ultimate Crossover Superyacht?",
         "https://www.forbes.com/sites/billspringer/2024/03/26/is-the-262-foot-long-xplorer-80-the-ultimate-crossover-superyacht/"
        ],
        [
         "Timothy Papandreou, Contributor, \n Timothy Papandreou, Contributor\n https://www.forbes.com/sites/timothypapandreou/",
         "A radiologist looks at a patient's brain images in an AI-based app on a tablet. Photo: Monika ... [+] Skolimowska/dpa (Photo by Monika Skolimowska/picture alliance via Getty Images)\r\ndpa/picture alli… [+7890 chars]",
         "Here comes generative AI, and it’s coming to healthcare.",
         "2024-03-26T02:42:30Z",
         "Forbes",
         "Generative AI Healthcare: From Treatment To Global Wellness",
         "https://www.forbes.com/sites/timothypapandreou/2024/03/25/generative-ai-healthcare-from-treatment-to-global-wellness/"
        ],
        [
         "Serenity Gibbons, Contributor, \n Serenity Gibbons, Contributor\n https://www.forbes.com/sites/serenitygibbons/",
         "Female entrepreneurs face persistent challenges as they strive to grow their businesses. These include unequal access to capital, bias in contracting processes, and the fact that womenregardless of e… [+6912 chars]",
         "Women are the heart of America’s small business community. Here’s how they’re building sustainable businesses right now.",
         "2024-03-26T10:00:00Z",
         "Forbes",
         "4 Tips For Building A Sustainable Business As A Female Entrepreneur",
         "https://www.forbes.com/sites/serenitygibbons/2024/03/26/4-tips-for-building-a-sustainable-business-as-a-female-entrepreneur/"
        ],
        [
         "Caroline Casey, Contributor, \n Caroline Casey, Contributor\n https://www.forbes.com/sites/carolinecasey/",
         "Two women communicating through sign language.\r\nGetty Images\r\nWith disability being experienced by over 16% of the global population, the workforce representation of people with disabilities is still… [+7224 chars]",
         "Workforce representation isn't just a metric - it's a window into whether organizations are backing bold commitments to break down barriers to disability inclusion acr...",
         "2024-03-26T14:32:35Z",
         "Forbes",
         "More Than A Number: Making Every Disability Disclosure Count",
         "https://www.forbes.com/sites/carolinecasey/2024/03/26/more-than-a-number-making-every-disability-disclosure-count/"
        ],
        [
         "Webroot Contributor, Brand Contributor, \n Webroot Contributor, Brand Contributor\n https://www.forbes.com/sites/webroot/people/webrootcontributor/",
         "Lets delve into the fascinating world of Artificial intelligence (AI), unpacking its concepts, implications, and real-world applications. Brace yourself for an extended journey through the marvels an… [+12024 chars]",
         "Brace yourself for an extended journey through the marvels and challenges of artificial intelligence.",
         "2024-03-25T15:47:27Z",
         "Forbes",
         "The Marvels And Challenges Of AI",
         "https://www.forbes.com/sites/webroot/2024/03/25/the-marvels-and-challenges-of-ai/"
        ]
       ],
       "datasetInfos": [],
       "dbfsResultPath": null,
       "isJsonSchema": true,
       "metadata": {},
       "overflow": false,
       "plotOptions": {
        "customPlotOptions": {},
        "displayType": "table",
        "pivotAggregation": null,
        "pivotColumns": null,
        "xColumns": null,
        "yColumns": null
       },
       "removedWidgets": [],
       "schema": [
        {
         "metadata": "{}",
         "name": "author",
         "type": "\"string\""
        },
        {
         "metadata": "{}",
         "name": "content",
         "type": "\"string\""
        },
        {
         "metadata": "{}",
         "name": "description",
         "type": "\"string\""
        },
        {
         "metadata": "{}",
         "name": "publication_date",
         "type": "\"string\""
        },
        {
         "metadata": "{}",
         "name": "publisher",
         "type": "\"string\""
        },
        {
         "metadata": "{}",
         "name": "title",
         "type": "\"string\""
        },
        {
         "metadata": "{}",
         "name": "url",
         "type": "\"string\""
        }
       ],
       "type": "table"
      }
     },
     "output_type": "display_data"
    }
   ],
   "source": [
    "df.display()"
   ]
  },
  {
   "cell_type": "code",
   "execution_count": 0,
   "metadata": {
    "application/vnd.databricks.v1+cell": {
     "cellMetadata": {},
     "inputWidgets": {},
     "nuid": "72b55b7d-c73b-4e88-9dbb-4abfe1d93418",
     "showTitle": false,
     "title": ""
    }
   },
   "outputs": [],
   "source": []
  }
 ],
 "metadata": {
  "application/vnd.databricks.v1+notebook": {
   "dashboards": [],
   "language": "python",
   "notebookMetadata": {
    "pythonIndentUnit": 2
   },
   "notebookName": "PROJETO",
   "widgets": {}
  }
 },
 "nbformat": 4,
 "nbformat_minor": 0
}
