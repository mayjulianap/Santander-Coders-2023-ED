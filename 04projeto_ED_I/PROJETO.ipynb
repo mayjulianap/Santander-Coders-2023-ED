{
 "cells": [
  {
   "cell_type": "markdown",
   "metadata": {
    "application/vnd.databricks.v1+cell": {
     "cellMetadata": {},
     "inputWidgets": {},
     "nuid": "33bad7bd-ba8a-4fdb-9d9e-5951efa9ab2d",
     "showTitle": false,
     "title": ""
    }
   },
   "source": [
    "# Projeto - Extração de Dados I\n",
    "\n",
    "## Sistema de Monitoramento de Avanços no Campo da Genômica\n",
    "\n",
    "### Contexto:\n",
    "\n",
    "O grupo trabalha no time de engenharia de dados na HealthGen, uma empresa especializada em genômica e pesquisa de medicina personalizada. A genômica é o estudo do conjunto completo de genes de um organismo, desempenha um papel fundamental na medicina personalizada e na pesquisa biomédica. Permite a análise do DNA para identificar variantes genéticas e mutações associadas a doenças e facilita a personalização de tratamentos com base nas características genéticas individuais dos pacientes.\n",
    "\n",
    "A empresa precisa se manter atualizada sobre os avanços mais recentes na genômica, identificar oportunidades para pesquisa e desenvolvimento de tratamentos personalizados e acompanhar as tendências em genômica que podem influenciar estratégias de pesquisa e desenvolvimento. Pensando nisso, o time de dados apresentou uma proposta de desenvolvimento de um sistema que coleta, analisa e apresenta as últimas notícias relacionadas à genômica e à medicina personalizada, e também estuda o avanço do campo nos últimos anos.\n",
    "\n",
    "O time de engenharia de dados tem como objetivo desenvolver e garantir um pipeline de dados confiável e estável. As principais atividades são:\n",
    "\n",
    "1. **Consumo de dados com a News API**:\n",
    "    - Implementar um mecanismo para consumir dados de notícias de fontes confiáveis e especializadas em genômica e medicina personalizada, a partir da News API:\n",
    "      [https://newsapi.org/](https://newsapi.org/)\n",
    "\n",
    "2. **Definir Critérios de Relevância**:\n",
    "    - Desenvolver critérios precisos de relevância para filtrar as notícias. Por exemplo, o time pode se concentrar em notícias que mencionem avanços em sequenciamento de DNA, terapias genéticas personalizadas ou descobertas relacionadas a doenças genéticas específicas.\n",
    "\n",
    "3. **Cargas em Batches**:\n",
    "    - Armazenar as notícias relevantes em um formato estruturado e facilmente acessível para consultas e análises posteriores. Essa carga deve acontecer 1 vez por hora. Se as notícias extraídas já tiverem sido armazenadas na carga anterior, o processo deve ignorar e não armazenar as notícias novamente, os dados carregados não podem ficar duplicados.\n",
    "\n",
    "4. **Dados transformados para consulta do público final**:\n",
    "    - A partir dos dados carregados, aplicar as seguintes transformações e armazenar o resultado final para a consulta do público final:\n",
    "        - Quantidade de notícias por ano, mês e dia de publicação;\n",
    "        - Quantidade de notícias por fonte e autor;\n",
    "        - Quantidade de aparições de 3 palavras-chave por ano, mês e dia de publicação (as 3 palavras-chave serão as mesmas usadas para fazer os filtros de relevância do item 2 (2. Definir Critérios de Relevância)).\n",
    "    - Atualizar os dados transformados 1 vez por dia."
   ]
  },
  {
   "cell_type": "markdown",
   "metadata": {
    "application/vnd.databricks.v1+cell": {
     "cellMetadata": {},
     "inputWidgets": {},
     "nuid": "a8435c9a-6821-4974-a082-5146a48dc897",
     "showTitle": false,
     "title": ""
    }
   },
   "source": [
    "\n",
    "# Opcoes Extras\n",
    " \n",
    " - criar uma api para solicitar os dados\n",
    " - API para \"triggar\" um processo (processo da criação das tabelas do item 4)\n",
    " - criar um webhook (duas partes: criar api, criar o gerador de eventos)\n",
    "\n"
   ]
  },
  {
   "cell_type": "markdown",
   "metadata": {
    "application/vnd.databricks.v1+cell": {
     "cellMetadata": {},
     "inputWidgets": {},
     "nuid": "345049f6-58c4-406b-be9e-7b84e79be147",
     "showTitle": false,
     "title": ""
    }
   },
   "source": [
    "\n",
    "# Grupo 4\n",
    "\n",
    "- Jose Marchezi\n",
    "- Rafael Leite\n",
    "- Mayra Alves\n",
    "- Renato Freitas\n"
   ]
  },
  {
   "cell_type": "code",
   "execution_count": 0,
   "metadata": {
    "application/vnd.databricks.v1+cell": {
     "cellMetadata": {
      "byteLimit": 2048000,
      "rowLimit": 10000
     },
     "inputWidgets": {},
     "nuid": "8d764b00-5979-4aa3-8d41-3b81b4ca46b7",
     "showTitle": false,
     "title": ""
    }
   },
   "outputs": [],
   "source": [
    "import requests\n",
    "from pyspark.sql.functions import *\n",
    "\n",
    "def get_newsbase_url(base_url, key,query_params):\n",
    "  # url = f'{base_url}/everything?q={topic}&from={trange[0]}&to={trange[1]}&sortBy=popularity&apiKey={key}'\n",
    "\n",
    "  response = requests.get(base_url, params=query_params)\n",
    "  response_json = response.json()\n",
    "\n",
    "  return response_json\n",
    "\n"
   ]
  },
  {
   "cell_type": "code",
   "execution_count": 0,
   "metadata": {
    "application/vnd.databricks.v1+cell": {
     "cellMetadata": {},
     "inputWidgets": {},
     "nuid": "66bc8e97-9730-4239-a67a-9c2f1ab385c3",
     "showTitle": false,
     "title": ""
    }
   },
   "outputs": [],
   "source": []
  },
  {
   "cell_type": "code",
   "execution_count": 0,
   "metadata": {
    "application/vnd.databricks.v1+cell": {
     "cellMetadata": {
      "byteLimit": 2048000,
      "rowLimit": 10000
     },
     "inputWidgets": {},
     "nuid": "c17dc417-0053-4a41-a144-ffce87dfff1c",
     "showTitle": false,
     "title": ""
    }
   },
   "outputs": [
    {
     "output_type": "stream",
     "name": "stdout",
     "output_type": "stream",
     "text": [
      "Out[25]: {'status': 'ok',\n 'totalResults': 10,\n 'articles': [{'source': {'id': None, 'name': 'ETF Daily News'},\n   'author': 'MarketBeat News',\n   'title': '10x Genomics, Inc. (NASDAQ:TXG) Shares Purchased by Citigroup Inc.',\n   'description': 'Citigroup Inc. grew its position in shares of 10x Genomics, Inc. (NASDAQ:TXG – Free Report) by 94.4% during the 3rd quarter, according to the company in its most recent filing with the SEC. The firm owned 10,951 shares of the company’s stock after purchasing …',\n   'url': 'https://www.etfdailynews.com/2024/03/24/10x-genomics-inc-nasdaqtxg-shares-purchased-by-citigroup-inc/',\n   'urlToImage': 'https://www.americanbankingnews.com/wp-content/timthumb/timthumb.php?src=https://www.marketbeat.com/logos/10x-genomics-inc-logo-1200x675.png?v=20240206085559&w=240&h=240&zc=2',\n   'publishedAt': '2024-03-24T09:18:42Z',\n   'content': 'Citigroup Inc. grew its position in shares of 10x Genomics, Inc. (NASDAQ:TXG – Free Report) by 94.4% during the 3rd quarter, according to the company in its most recent filing with the SEC. The firm … [+6240 chars]'},\n  {'source': {'id': None, 'name': 'Marketscreener.com'},\n   'author': None,\n   'title': '10x Genomics Commercially Launches Visium HD Spatial Gene Expression Assay',\n   'description': '(marketscreener.com) \\n\\nBegan global shipments for Visium HD, a new product that enables whole transcriptome spatial discovery at single cell–scale resolution\\xa0\\nPLEASANTON, Calif., March 26, 2024 /PRNewswire/ -- 10x Genomics, Inc. , a leader in single cell and …',\n   'url': 'https://www.marketscreener.com/quote/stock/10X-GENOMICS-INC-65338646/news/10x-Genomics-Commercially-Launches-Visium-HD-Spatial-Gene-Expression-Assay-46287534/',\n   'urlToImage': 'https://www.marketscreener.com/images/twitter_MS_fdnoir.png',\n   'publishedAt': '2024-03-26T13:01:19Z',\n   'content': 'Began global shipments for Visium HD, a new product that enables whole transcriptome spatial discovery at single cellscale resolution\\xa0\\r\\nPLEASANTON, Calif., March 26, 2024 /PRNewswire/ -- 10x Genomics… [+6237 chars]'},\n  {'source': {'id': None, 'name': 'GlobeNewswire'},\n   'author': 'Verge Genomics',\n   'title': 'Verge Genomics and Ferrer Announce Agreement to Co-Develop Clinical-Stage ALS Therapy VRG50635',\n   'description': 'VRG50635 is one of the first drugs to enter clinical trials that was entirely discovered and developed using an AI-enabled platform VRG50635 is one of the first drugs to enter clinical trials that was entirely discovered and developed using an AI-enabled plat…',\n   'url': 'https://www.globenewswire.com/news-release/2024/03/25/2851439/0/en/Verge-Genomics-and-Ferrer-Announce-Agreement-to-Co-Develop-Clinical-Stage-ALS-Therapy-VRG50635.html',\n   'urlToImage': 'https://ml.globenewswire.com/Resource/Download/a513258d-e354-4f23-8ebf-8e5e30987312',\n   'publishedAt': '2024-03-25T10:00:00Z',\n   'content': 'SOUTH SAN FRANCISCO, Calif. and BARCELONA, Spain, March 25, 2024 (GLOBE NEWSWIRE) -- Verge Genomics, a leading clinical-stage biotechnology company, and Ferrer, an international B Corp pharmaceutical… [+5570 chars]'},\n  {'source': {'id': None, 'name': 'Biztoc.com'},\n   'author': 'benzinga.com',\n   'title': 'Verge Genomics and Ferrer Announce Agreement to Co-Develop Clinical-Stage ALS Therapy VRG50635',\n   'description': 'SOUTH SAN FRANCISCO, Calif. and BARCELONA, Spain, March 25, 2024 (GLOBE NEWSWIRE) -- Verge Genomics, a leading clinical-stage biotechnology company, and Ferrer, an international B Corp pharmaceutical company with an increasing focus in rare neurological disor…',\n   'url': 'https://biztoc.com/x/fea2eebbb5d1cad4',\n   'urlToImage': 'https://c.biztoc.com/273/og.png',\n   'publishedAt': '2024-03-25T10:22:12Z',\n   'content': 'SOUTH SAN FRANCISCO, Calif. and BARCELONA, Spain, March 25, 2024 (GLOBE NEWSWIRE) -- Verge Genomics, a leading clinical-stage biotechnology company, and Ferrer, an international B Corp pharmaceutical… [+280 chars]'},\n  {'source': {'id': None, 'name': 'InvestorsObserver'},\n   'author': 'InvestorsObserver',\n   'title': 'Nucleus Genomics launches to bring whole-genome sequencing to the public',\n   'description': \"Nucleus Genomics launches to bring whole-genome sequencing to the public           PR Newswire           Customers can now pre-order Nucleus' clinical-grade whole-genome sequencing test           NEW YORK     ,     March 25, 2024     /PRNewswire/ --   ...\",\n   'url': 'https://www.investorsobserver.com/news/qm-pr/5884909549469583',\n   'urlToImage': 'https://s3.amazonaws.com/images.investorsobserver.com/io-logo-800x450.jpg',\n   'publishedAt': '2024-03-25T12:33:00Z',\n   'content': \"Customers can now pre-order Nucleus' clinical-grade whole-genome sequencing test\\r\\nNEW YORK\\r\\n,\\r\\nMarch 25, 2024\\r\\n/PRNewswire/ --\\r\\nNucleus Genomics\\r\\n, the next-generation genetic testing and analysis co… [+4636 chars]\"},\n  {'source': {'id': 'financial-post', 'name': 'Financial Post'},\n   'author': 'Business Wire',\n   'title': 'Watchmaker Genomics Launches Watchmaker mRNA Library Prep Kits – Featuring a Rapid Workflow and Sensitive mRNA Detection',\n   'description': 'BOULDER, Colo. — Watchmaker Genomics, a supplier of innovative products for molecular analysis, announced the launch of the Watchmaker mRNA Library Prep Kit – designed to streamline and accelerate mRNA library preparation, offering both speed and sensitivity …',\n   'url': 'https://financialpost.com/pmn/business-wire-news-releases-pmn/watchmaker-genomics-launches-watchmaker-mrna-library-prep-kits-featuring-a-rapid-workflow-and-sensitive-mrna-detection',\n   'urlToImage': None,\n   'publishedAt': '2024-03-26T12:14:21Z',\n   'content': 'BOULDER, Colo. Watchmaker Genomics, a supplier of innovative products for molecular analysis, announced the launch of the Watchmaker mRNA Library Prep Kit designed to streamline and accelerate mRNA l… [+2567 chars]'},\n  {'source': {'id': None, 'name': 'GlobeNewswire'},\n   'author': 'Gattaca',\n   'title': 'Gattaca Genomics Partners with Ibanera to Revolutionize Digital Banking for Family Planning Innovation',\n   'description': 'The partnership will streamline digital banking for advanced genetic testing services, fostering innovation in family planning. Michael Carbonara, CEO of both Ibanera and Gattaca Genomics, champions the collaboration, emphasizing its role in enhancing healthc…',\n   'url': 'https://www.globenewswire.com/news-release/2024/03/26/2852341/0/en/Gattaca-Genomics-Partners-with-Ibanera-to-Revolutionize-Digital-Banking-for-Family-Planning-Innovation.html',\n   'urlToImage': None,\n   'publishedAt': '2024-03-26T12:22:00Z',\n   'content': 'Miami, Florida, March 26, 2024 (GLOBE NEWSWIRE) -- \\xa0Gattaca Genomics, a pioneer in genetic diagnostics and reproductive technologies, proudly announces its strategic partnership with Ibanera, a leadi… [+3007 chars]'},\n  {'source': {'id': None, 'name': 'Eleconomista.es'},\n   'author': 'Carles Huguet',\n   'title': 'Ferrer compra una licencia a Verge Genomics para combatir la ELA',\n   'description': 'En su viraje hacia tratamientos para enfermedades raras y neurogenerativas, Ferrer llega a un acuerdo con la firma estadounidense Verge Genomics para adquirir el fármaco VRG50635, una molécula potencialmente inhibidora de la enzima PIKfyve que podría mejorar …',\n   'url': 'https://www.eleconomista.es/salud/noticias/12738120/03/24/ferrer-compra-una-licencia-a-verge-genomics-para-combatir-la-ela-.html',\n   'urlToImage': 'https://s03.s3c.es/imag/_v0/5303x2894/4/9/d/1200x655_FERRER_FIRMA_0018.jpg',\n   'publishedAt': '2024-03-24T10:53:14Z',\n   'content': 'En su viraje hacia tratamientos para enfermedades raras y neurogenerativas, Ferrer llega a un acuerdo con la firma estadounidense Verge Genomics para adquirir el fármaco VRG50635, una molécula potenc… [+3075 chars]'},\n  {'source': {'id': None, 'name': 'Www.gov.uk'},\n   'author': 'UK Health Security Agency',\n   'title': 'Guidance: Pathogen genomics at Porton Down',\n   'description': 'The Pathogen Genomics Department at Porton Down provides a sequencing service for SARS-CoV-2 for customers across the NHS and UKHSA.',\n   'url': 'https://www.gov.uk/government/publications/pathogen-genomics-at-porton-down',\n   'urlToImage': 'https://www.gov.uk/assets/static/govuk-opengraph-image-03837e1cec82f217cf32514635a13c879b8c400ae3b1c207c5744411658c7635.png',\n   'publishedAt': '2024-03-26T14:55:16Z',\n   'content': 'The Pathogen Genomics Department at Porton Down provides a sequencing service for SARS-CoV-2 for customers across the NHS and UKHSA.\\r\\nThe laboratory at Porton Down sequences the samples and the UKHSA… [+582 chars]'},\n  {'source': {'id': None, 'name': 'Nlppeople.com'},\n   'author': 'Alexander Raginsky',\n   'title': 'Machine Learning Engineer in Genomics',\n   'description': 'InstaDeep, founded in 2014, is a pioneering AI company at the forefront of innovation. With strategic offices in major cities worldwide, including London, Paris, Berlin, Tunis, Lagos, Cape Town, Boston, and San Francisco, InstaDeep collaborates with giants li…',\n   'url': 'https://nlppeople.com/job/machine-learning-engineer-in-genomics-6/',\n   'urlToImage': 'https://i0.wp.com/nlppeople.com/wp-content/uploads/2024/03/InstaDeep-13.png?fit=200%2C200&ssl=1',\n   'publishedAt': '2024-03-26T00:00:00Z',\n   'content': 'InstaDeep, founded in 2014, is a pioneering AI company at the forefront of innovation. With strategic offices in major cities worldwide, including London, Paris, Berlin, Tunis, Lagos, Cape Town, Bost… [+5703 chars]'}]}"
     ]
    }
   ],
   "source": [
    "time = ['2024-03-23', '2024-03-26']\n",
    "\n",
    "base_url = \"https://newsapi.org/v2/everything\"\n",
    "key = \"ebe15579813549c58b1b1baafb1a4d68\"\n",
    "domains='nature.com,biomedcentral.com'\n",
    "\n",
    "query_params = {\n",
    "      \"q\": \"genomics\",\n",
    "      \"from\": trange[0],\n",
    "      \"to\": trange[1],\n",
    "      \"sortBy\": \"popularity\",\n",
    "      \"apiKey\": key,\n",
    "      \"searchIn\": \"title\"\n",
    "    }\n",
    "\n",
    "\n",
    "get_newsbase_url(base_url, key, query_params)"
   ]
  },
  {
   "cell_type": "code",
   "execution_count": 0,
   "metadata": {
    "application/vnd.databricks.v1+cell": {
     "cellMetadata": {
      "byteLimit": 2048000,
      "rowLimit": 10000
     },
     "inputWidgets": {},
     "nuid": "25637821-ef42-4a3f-bfb1-82e6c374aeeb",
     "showTitle": false,
     "title": ""
    }
   },
   "outputs": [],
   "source": [
    "def parse_data(response_json):\n",
    "\n",
    "    articles = response_json['articles']\n",
    "    structured = []\n",
    "    for item in articles:\n",
    "        dicts = {'publisher': item['source']['name'],\n",
    "                'author': item['author'],\n",
    "                'title': item['title'],\n",
    "                'description': item['description'],\n",
    "                'url': item['url'],\n",
    "                'publication_date': item['publishedAt'], \n",
    "                'content': item['content']}\n",
    "        structured.append(dicts)\n",
    "    return structured"
   ]
  },
  {
   "cell_type": "code",
   "execution_count": 0,
   "metadata": {
    "application/vnd.databricks.v1+cell": {
     "cellMetadata": {
      "byteLimit": 2048000,
      "rowLimit": 10000
     },
     "inputWidgets": {},
     "nuid": "9dcd312d-a40d-4375-a6ae-634c7a1bada6",
     "showTitle": false,
     "title": ""
    }
   },
   "outputs": [],
   "source": [
    "structured = parse_data(response_json)"
   ]
  },
  {
   "cell_type": "code",
   "execution_count": 0,
   "metadata": {
    "application/vnd.databricks.v1+cell": {
     "cellMetadata": {
      "byteLimit": 2048000,
      "rowLimit": 10000
     },
     "inputWidgets": {},
     "nuid": "8b4b5db4-8d7e-489d-81eb-0ba07c2f1efe",
     "showTitle": false,
     "title": ""
    }
   },
   "outputs": [],
   "source": [
    "df = spark.createDataFrame(structured)"
   ]
  },
  {
   "cell_type": "code",
   "execution_count": 0,
   "metadata": {
    "application/vnd.databricks.v1+cell": {
     "cellMetadata": {
      "byteLimit": 2048000,
      "rowLimit": 10000
     },
     "inputWidgets": {},
     "nuid": "c77e82ca-9561-4a48-8e8b-84a25317090a",
     "showTitle": false,
     "title": ""
    }
   },
   "outputs": [
    {
     "output_type": "display_data",
     "data": {
      "text/html": [
       "<style scoped>\n",
       "  .table-result-container {\n",
       "    max-height: 300px;\n",
       "    overflow: auto;\n",
       "  }\n",
       "  table, th, td {\n",
       "    border: 1px solid black;\n",
       "    border-collapse: collapse;\n",
       "  }\n",
       "  th, td {\n",
       "    padding: 5px;\n",
       "  }\n",
       "  th {\n",
       "    text-align: left;\n",
       "  }\n",
       "</style><div class='table-result-container'><table class='table-result'><thead style='background-color: white'><tr><th>author</th><th>content</th><th>description</th><th>publication_date</th><th>publisher</th><th>title</th><th>url</th></tr></thead><tbody><tr><td>null</td><td>Introduction\r\n",
       "Diabetes, obesity, heart disease, cancer, and liver disease have all been linked in various ways to acetate availability, metabolism, and signaling. Acetate supplementation induces phys… [+163834 chars]</td><td>Acetate, the shortest chain fatty acid, has been implicated in providing health benefits whether it is derived from the diet or is generated from microbial f...</td><td>2024-03-26T11:46:02Z</td><td>Frontiersin.org</td><td>Acetate Revisited: A Key Biomolecule at the Nexus of Metabolism, Epigenetics</td><td>https://www.frontiersin.org/journals/physiology/articles/10.3389/fphys.2020.580171/full</td></tr><tr><td>null</td><td>Humans pass on more viruses to domestic and wild animals than we catch from them, according to a major new analysis of viral genomes by UCL researchers.For the new paper published in Nature Ecology &… [+4202 chars]</td><td>Humans pass on more viruses to domestic and wild animals than we catch from them, according to a major new analysis of viral genomes.</td><td>2024-03-25T15:41:38Z</td><td>Science Daily</td><td>Humans pass more viruses to other animals than we catch from them</td><td>https://www.sciencedaily.com/releases/2024/03/240325114138.htm</td></tr><tr><td>UC Irvine</td><td>Researchers have discovered the key role that the APOBEC3A and APOBEC3B enzymes play in driving cancer mutations by modifying the DNA in tumor genomes.\r\n",
       "The work offers potential new targets for inte… [+2562 chars]</td><td>Two enzymes that play a role in cancer mutation offer potential new targets for intervention strategies, researchers report.</td><td>2024-03-25T14:17:49Z</td><td>Futurity: Research News</td><td>Team cracks 2 enzymes’ role in cancer mutation</td><td>https://www.futurity.org/enzymes-cancer-mutation-3197292-2/</td></tr><tr><td>Alli Chase</td><td>Making life-changing, innovative advances is intrinsic to the UKs\r\n",
       " life sciences sector, which unceasingly thrives on industry\r\n",
       " collaboration, academic excellence, and government support.\r\n",
       "Uncoveri… [+8763 chars]</td><td></td><td>2024-03-25T11:18:35Z</td><td>MIT Technology Review</td><td>Backed by heritage, ready for the future</td><td>https://www.technologyreview.com/2024/03/25/1090079/backed-by-heritage-ready-for-the-future/</td></tr><tr><td>Jacinta Bowler</td><td><ul><li>In short: Researchers have used genetic evidence to pinpoint where ancient humans went after leaving Africa. </li><li>They suggest the 'Persian Plateau' an area including modern day Iran. </l… [+5127 chars]</td><td>Our ancestors left Africa some 70,000 years ago, but it took them thousands of years to make it to Europe or Asia. A DNA study may shed light on where they ended up during this 'long pause'.</td><td>2024-03-25T18:30:00Z</td><td>ABC News (AU)</td><td>'A very big question in human evolution': Where did our ancestors go after leaving Africa?</td><td>https://www.abc.net.au/news/science/2024-03-26/out-of-africa-human-migration-persian-plateau/103614458</td></tr><tr><td>T0@st</td><td>A manufacturing plant near Hsinchu, Taiwan's Silicon Valley, is among facilities worldwide boosting energy efficiency with AI-enabled digital twins. A virtual model can help streamline operations, ma… [+4275 chars]</td><td>A manufacturing plant near Hsinchu, Taiwan's Silicon Valley, is among facilities worldwide boosting energy efficiency with AI-enabled digital twins. A virtual model can help streamline operations, maximizing throughput for its physical counterpart, say engine…</td><td>2024-03-26T16:43:06Z</td><td>Techpowerup.com</td><td>(PR) NVIDIA Modulus & Omniverse Drive Physics-informed Models and Simulations</td><td>https://www.techpowerup.com/320853/nvidia-modulus-omniverse-drive-physics-informed-models-and-simulations</td></tr><tr><td>Investor's Business Daily</td><td>Dow Jones futures rose slightly after hours, along with S&amp;P 500 futures and Nasdaq futures. The stock market rally had a relatively quiet Tuesday, with the Nasdaq leading a fade into the close fo… [+7544 chars]</td><td>Trump Media broke out in its post-SPAC debut. Tesla jumped to key resistance.</td><td>2024-03-26T21:11:04Z</td><td>Investor's Business Daily</td><td>Dow Jones Futures: Donald Trump Stock Great Again? Tesla Hits Resistance, 5 AI Stocks Near Buy Points</td><td>https://www.investors.com/market-trend/stock-market-today/dow-jones-futures-donald-trump-stock-great-tesla-stock-ai-stocks-buy-points/</td></tr><tr><td>Cecilia Wieder, Juliette Cooke, Clement Frainay, Nathalie Poupin, Russell Bowler, Fabien Jourdan, Katerina J. Kechris, Rachel PJ Lai, Timothy Ebbels</td><td>Abstract\r\n",
       "As terabytes of multi-omics data are being generated, there is an ever-increasing need for methods facilitating the integration and interpretation of such data. Current multi-omics integrat… [+102316 chars]</td><td>Author summary Omics data, which provides a readout of the levels of molecules such as genes, proteins, and metabolites in a sample, is frequently generated to study biological processes and perturbations within an organism. Combining multiple omics data type…</td><td>2024-03-25T14:00:00Z</td><td>Plos.org</td><td>PathIntegrate: Multivariate modelling approaches for pathway-based multi-omics data integration</td><td>https://journals.plos.org/ploscompbiol/article?id=10.1371/journal.pcbi.1011814</td></tr><tr><td>Rick Merritt</td><td>A manufacturing plant near Hsinchu, Taiwans Silicon Valley, is among facilities worldwide boosting energy efficiency with AI-enabled digital twins.\r\n",
       "A virtual model can help streamline operations, ma… [+4281 chars]</td><td>A manufacturing plant near Hsinchu, Taiwan’s Silicon Valley, is among facilities worldwide boosting energy efficiency with AI-enabled digital twins. A virtual model can help streamline operations, maximizing throughput for its physical counterpart, say engine…</td><td>2024-03-26T15:00:51Z</td><td>Nvidia.com</td><td>Model Innovators: How Digital Twins Are Making Industries More Efficient</td><td>https://blogs.nvidia.com/blog/digital-twins-modulus-wistron/</td></tr><tr><td>null</td><td>Began global shipments for Visium HD, a new product that enables whole transcriptome spatial discovery at single cellscale resolution \r\n",
       "PLEASANTON, Calif., March 26, 2024 /PRNewswire/ -- 10x Genomics… [+6237 chars]</td><td>(marketscreener.com) \n",
       "\n",
       "Began global shipments for Visium HD, a new product that enables whole transcriptome spatial discovery at single cell–scale resolution \n",
       "PLEASANTON, Calif., March 26, 2024 /PRNewswire/ -- 10x Genomics, Inc. , a leader in single cell and …</td><td>2024-03-26T13:01:19Z</td><td>Marketscreener.com</td><td>10x Genomics Commercially Launches Visium HD Spatial Gene Expression Assay</td><td>https://www.marketscreener.com/quote/stock/10X-GENOMICS-INC-65338646/news/10x-Genomics-Commercially-Launches-Visium-HD-Spatial-Gene-Expression-Assay-46287534/</td></tr><tr><td>Business Wire</td><td>BOULDER, Colo. Watchmaker Genomics, a supplier of innovative products for molecular analysis, announced the launch of the Watchmaker mRNA Library Prep Kit designed to streamline and accelerate mRNA l… [+2567 chars]</td><td>BOULDER, Colo. — Watchmaker Genomics, a supplier of innovative products for molecular analysis, announced the launch of the Watchmaker mRNA Library Prep Kit – designed to streamline and accelerate mRNA library preparation, offering both speed and sensitivity …</td><td>2024-03-26T12:14:21Z</td><td>Financial Post</td><td>Watchmaker Genomics Launches Watchmaker mRNA Library Prep Kits – Featuring a Rapid Workflow and Sensitive mRNA Detection</td><td>https://financialpost.com/pmn/business-wire-news-releases-pmn/watchmaker-genomics-launches-watchmaker-mrna-library-prep-kits-featuring-a-rapid-workflow-and-sensitive-mrna-detection</td></tr><tr><td>MarketBeat News</td><td>Citigroup Inc. grew its position in shares of 10x Genomics, Inc. (NASDAQ:TXG – Free Report) by 94.4% during the 3rd quarter, according to the company in its most recent filing with the SEC. The firm … [+6240 chars]</td><td>Citigroup Inc. grew its position in shares of 10x Genomics, Inc. (NASDAQ:TXG – Free Report) by 94.4% during the 3rd quarter, according to the company in its most recent filing with the SEC. The firm owned 10,951 shares of the company’s stock after purchasing …</td><td>2024-03-24T09:18:42Z</td><td>ETF Daily News</td><td>10x Genomics, Inc. (NASDAQ:TXG) Shares Purchased by Citigroup Inc.</td><td>https://www.etfdailynews.com/2024/03/24/10x-genomics-inc-nasdaqtxg-shares-purchased-by-citigroup-inc/</td></tr><tr><td>tipranks.com</td><td>Genetic Technologies (GENE) has released an update. Genetic Technologies Limited, a pioneer in genomics-based testing, has announced obtaining a $6...\r\n",
       "This story appeared on tipranks.com, .</td><td>Genetic Technologies (GENE) has released an update. Genetic Technologies Limited, a pioneer in genomics-based testing, has announced obtaining a $6...</td><td>2024-03-26T14:36:49Z</td><td>Biztoc.com</td><td>Genetic Technologies Boosts Capital with Radium Loan</td><td>https://biztoc.com/x/e4b38ec462e380a1</td></tr><tr><td>Gattaca</td><td>Miami, Florida, March 26, 2024 (GLOBE NEWSWIRE) --  Gattaca Genomics, a pioneer in genetic diagnostics and reproductive technologies, proudly announces its strategic partnership with Ibanera, a leadi… [+3007 chars]</td><td>The partnership will streamline digital banking for advanced genetic testing services, fostering innovation in family planning. Michael Carbonara, CEO of both Ibanera and Gattaca Genomics, champions the collaboration, emphasizing its role in enhancing healthc…</td><td>2024-03-26T12:22:00Z</td><td>GlobeNewswire</td><td>Gattaca Genomics Partners with Ibanera to Revolutionize Digital Banking for Family Planning Innovation</td><td>https://www.globenewswire.com/news-release/2024/03/26/2852341/0/en/Gattaca-Genomics-Partners-with-Ibanera-to-Revolutionize-Digital-Banking-for-Family-Planning-Innovation.html</td></tr><tr><td>InvestorsObserver</td><td>Customers can now pre-order Nucleus' clinical-grade whole-genome sequencing test\r\n",
       "NEW YORK\r\n",
       ",\r\n",
       "March 25, 2024\r\n",
       "/PRNewswire/ --\r\n",
       "Nucleus Genomics\r\n",
       ", the next-generation genetic testing and analysis co… [+4636 chars]</td><td>Nucleus Genomics launches to bring whole-genome sequencing to the public           PR Newswire           Customers can now pre-order Nucleus' clinical-grade whole-genome sequencing test           NEW YORK     ,     March 25, 2024     /PRNewswire/ --   ...</td><td>2024-03-25T12:33:00Z</td><td>InvestorsObserver</td><td>Nucleus Genomics launches to bring whole-genome sequencing to the public</td><td>https://www.investorsobserver.com/news/qm-pr/5884909549469583</td></tr><tr><td>Verge Genomics</td><td>SOUTH SAN FRANCISCO, Calif. and BARCELONA, Spain, March 25, 2024 (GLOBE NEWSWIRE) -- Verge Genomics, a leading clinical-stage biotechnology company, and Ferrer, an international B Corp pharmaceutical… [+5570 chars]</td><td>VRG50635 is one of the first drugs to enter clinical trials that was entirely discovered and developed using an AI-enabled platform VRG50635 is one of the first drugs to enter clinical trials that was entirely discovered and developed using an AI-enabled plat…</td><td>2024-03-25T10:00:00Z</td><td>GlobeNewswire</td><td>Verge Genomics and Ferrer Announce Agreement to Co-Develop Clinical-Stage ALS Therapy VRG50635</td><td>https://www.globenewswire.com/news-release/2024/03/25/2851439/0/en/Verge-Genomics-and-Ferrer-Announce-Agreement-to-Co-Develop-Clinical-Stage-ALS-Therapy-VRG50635.html</td></tr><tr><td>benzinga.com</td><td>SOUTH SAN FRANCISCO, Calif. and BARCELONA, Spain, March 25, 2024 (GLOBE NEWSWIRE) -- Verge Genomics, a leading clinical-stage biotechnology company, and Ferrer, an international B Corp pharmaceutical… [+280 chars]</td><td>SOUTH SAN FRANCISCO, Calif. and BARCELONA, Spain, March 25, 2024 (GLOBE NEWSWIRE) -- Verge Genomics, a leading clinical-stage biotechnology company, and Ferrer, an international B Corp pharmaceutical company with an increasing focus in rare neurological disor…</td><td>2024-03-25T10:22:12Z</td><td>Biztoc.com</td><td>Verge Genomics and Ferrer Announce Agreement to Co-Develop Clinical-Stage ALS Therapy VRG50635</td><td>https://biztoc.com/x/fea2eebbb5d1cad4</td></tr><tr><td>Investing.com</td><td>LOUISVILLE, Colo. - Biodesix, Inc. (NASDAQ:BDSX), a company specializing in diagnostic solutions for lung disease, has announced a new collaboration with Memorial Sloan Kettering Cancer Center (MSK) … [+1902 chars]</td><td>Biodesix partners with MSK for cancer diagnostic tests</td><td>2024-03-25T10:09:57Z</td><td>Investing.com</td><td>Biodesix partners with MSK for cancer diagnostic tests</td><td>https://www.investing.com/news/stock-market-news/biodesix-partners-with-msk-for-cancer-diagnostic-tests-93CH-3351075</td></tr><tr><td>MarketBeat News</td><td>Brookstone Capital Management decreased its position in shares of ARK Genomic Revolution ETF (BATS:ARKG – Free Report) by 12.9% during the 4th quarter, HoldingsChannel.com reports. The fund owned 78,… [+2293 chars]</td><td>Brookstone Capital Management decreased its position in shares of ARK Genomic Revolution ETF (BATS:ARKG – Free Report) by 12.9% during the 4th quarter, HoldingsChannel.com reports. The fund owned 78,733 shares of the company’s stock after selling 11,624 share…</td><td>2024-03-23T09:54:45Z</td><td>ETF Daily News</td><td>Brookstone Capital Management Has $2.58 Million Stock Holdings in ARK Genomic Revolution ETF (BATS:ARKG)</td><td>https://www.etfdailynews.com/2024/03/23/brookstone-capital-management-has-2-58-million-stock-holdings-in-ark-genomic-revolution-etf-batsarkg/</td></tr><tr><td>MarketBeat News</td><td>Mutual Advisors LLC trimmed its position in shares of ARK Genomic Revolution ETF (BATS:ARKG – Free Report) by 2.0% in the 4th quarter, according to its most recent disclosure with the SEC. The instit… [+2328 chars]</td><td>Mutual Advisors LLC trimmed its position in shares of ARK Genomic Revolution ETF (BATS:ARKG – Free Report) by 2.0% in the 4th quarter, according to its most recent disclosure with the SEC. The institutional investor owned 42,789 shares of the company’s stock …</td><td>2024-03-26T10:00:47Z</td><td>ETF Daily News</td><td>Mutual Advisors LLC Reduces Holdings in ARK Genomic Revolution ETF (BATS:ARKG)</td><td>https://www.etfdailynews.com/2024/03/26/mutual-advisors-llc-reduces-holdings-in-ark-genomic-revolution-etf-batsarkg/</td></tr><tr><td>Investing.com</td><td>Cathie Wood's ARK ETFs have made significant moves in the stock market on Friday, March 22nd, 2024, with a series of buys and sells that reflect the investment firm's shifting strategies. The most no… [+2196 chars]</td><td>Cathie Wood's ARK buys more Tesla stock, sells Coinbase</td><td>2024-03-23T00:46:51Z</td><td>Investing.com</td><td>Cathie Wood's ARK buys more Tesla stock, sells Coinbase</td><td>https://www.investing.com/news/stock-market-news/cathie-woods-ark-buys-more-tesla-stock-sells-coinbase-93CH-3350511</td></tr><tr><td>MarketBeat News</td><td>Neogen Co. (NASDAQ:NEOG – Free Report) – Equities researchers at Zacks Research reduced their FY2024 earnings per share (EPS) estimates for Neogen in a research note issued on Friday, March 22nd. Zac… [+3713 chars]</td><td>Neogen Co. (NASDAQ:NEOG – Free Report) – Equities researchers at Zacks Research reduced their FY2024 earnings per share (EPS) estimates for Neogen in a research note issued on Friday, March 22nd. Zacks Research analyst R. Department now anticipates that the c…</td><td>2024-03-26T05:58:41Z</td><td>ETF Daily News</td><td>FY2024 EPS Estimates for Neogen Co. Cut by Zacks Research (NASDAQ:NEOG)</td><td>https://www.etfdailynews.com/2024/03/26/fy2024-eps-estimates-for-neogen-co-cut-by-zacks-research-nasdaqneog/</td></tr><tr><td>MarketBeat News</td><td>Mesa Laboratories, Inc. (NASDAQ:MLAB – Get Free Report) passed below its 200-day moving average during trading on Monday . The stock has a 200-day moving average of $100.91 and traded as low as $99.2… [+3502 chars]</td><td>Mesa Laboratories, Inc. (NASDAQ:MLAB – Get Free Report) passed below its 200-day moving average during trading on Monday . The stock has a 200-day moving average of $100.91 and traded as low as $99.27. Mesa Laboratories shares last traded at $99.88, with a vo…</td><td>2024-03-26T08:40:41Z</td><td>ETF Daily News</td><td>Mesa Laboratories (NASDAQ:MLAB) Shares Pass Below Two Hundred Day Moving Average of $100.91</td><td>https://www.etfdailynews.com/2024/03/26/mesa-laboratories-nasdaqmlab-shares-pass-below-two-hundred-day-moving-average-of-100-91/</td></tr><tr><td>MarketBeat News</td><td>StockNews.com initiated coverage on shares of NanoString Technologies (NASDAQ:NSTG – Free Report) in a research report report published on Sunday morning. The brokerage issued a sell rating on the bi… [+3100 chars]</td><td>StockNews.com initiated coverage on shares of NanoString Technologies (NASDAQ:NSTG – Free Report) in a research report report published on Sunday morning. The brokerage issued a sell rating on the biotechnology company’s stock. Separately, JPMorgan Chase & Co…</td><td>2024-03-25T08:24:41Z</td><td>ETF Daily News</td><td>NanoString Technologies (NASDAQ:NSTG) Receives New Coverage from Analysts at StockNews.com</td><td>https://www.etfdailynews.com/2024/03/25/nanostring-technologies-nasdaqnstg-receives-new-coverage-from-analysts-at-stocknews-com/</td></tr><tr><td>MarketBeat News</td><td>Danaher (NYSE:DHR – Get Free Report) and RushNet (OTCMKTS:RSHN – Get Free Report) are both multi-sector conglomerates companies, but which is the better stock? We will compare the two businesses base… [+4488 chars]</td><td>Danaher (NYSE:DHR – Get Free Report) and RushNet (OTCMKTS:RSHN – Get Free Report) are both multi-sector conglomerates companies, but which is the better stock? We will compare the two businesses based on the strength of their dividends, analyst recommendation…</td><td>2024-03-24T05:12:42Z</td><td>ETF Daily News</td><td>Danaher (NYSE:DHR) vs. RushNet (OTCMKTS:RSHN) Head-To-Head Analysis</td><td>https://www.etfdailynews.com/2024/03/24/danaher-nysedhr-vs-rushnet-otcmktsrshn-head-to-head-analysis/</td></tr><tr><td>null</td><td>Blood-based assay uses personalized tumor-informed approach designed to detect cancer recurrence early with an ultra-sensitive approach\r\n",
       "Personalis, Inc. (Nasdaq: PSNL), a leader in advanced genomics… [+4649 chars]</td><td>(marketscreener.com) \n",
       "Blood-based assay uses personalized tumor-informed approach designed to detect cancer recurrence early with an ultra-sensitive approach\n",
       "\n",
       "https://www.marketscreener.com/quote/stock/PERSONALIS-INC-60037648/news/Personalis-Announces-Publica…</td><td>2024-03-26T13:10:06Z</td><td>Marketscreener.com</td><td>Personalis Announces Publication Validating NeXT Personal® Test for Ultra-sensitive MRD Detection and Cancer Treatment Response Monitoring</td><td>https://www.marketscreener.com/quote/stock/PERSONALIS-INC-60037648/news/Personalis-Announces-Publication-Validating-NeXT-Personal-Test-for-Ultra-sensitive-MRD-Detection-a-46287703/</td></tr><tr><td>MarketBeat News</td><td>Gulf International Bank UK Ltd trimmed its position in shares of Bio-Rad Laboratories, Inc. (NYSE:BIO – Free Report) by 12.2% in the fourth quarter, according to its most recent Form 13F filing with … [+5231 chars]</td><td>Gulf International Bank UK Ltd trimmed its position in shares of Bio-Rad Laboratories, Inc. (NYSE:BIO – Free Report) by 12.2% in the fourth quarter, according to its most recent Form 13F filing with the Securities and Exchange Commission (SEC). The firm owned…</td><td>2024-03-26T09:00:54Z</td><td>ETF Daily News</td><td>Gulf International Bank UK Ltd Sells 263 Shares of Bio-Rad Laboratories, Inc. (NYSE:BIO)</td><td>https://www.etfdailynews.com/2024/03/26/gulf-international-bank-uk-ltd-sells-263-shares-of-bio-rad-laboratories-inc-nysebio/</td></tr><tr><td>null</td><td>Biodesix, Inc. (Nasdaq: BDSX), a leading diagnostic solutions company with a focus in lung diseases, today announced that it has entered into a new master collaborative research agreement (MCRA) with… [+5369 chars]</td><td>(marketscreener.com) \n",
       "Biodesix, Inc. , a leading diagnostic solutions company with a focus in lung diseases, today announced that it has entered into a new master collaborative research agreement with Memorial Sloan Kettering Cancer Center under which the tea…</td><td>2024-03-25T10:01:06Z</td><td>Marketscreener.com</td><td>Biodesix Announces New Master Collaborative Research Agreement with Leading US Cancer Center</td><td>https://www.marketscreener.com/quote/stock/BIODESIX-INC-114282624/news/Biodesix-Announces-New-Master-Collaborative-Research-Agreement-with-Leading-US-Cancer-Center-46274513/</td></tr><tr><td>PYMNTS</td><td>In the rapidly evolving world of cloud computing and generative artificial intelligence (AI), data security has become a paramount concern for organizations worldwide. Bedrock Security, a newly launc… [+4477 chars]</td><td>In the rapidly evolving world of cloud computing and generative artificial intelligence (AI), data security has become a paramount concern for organizations worldwide. Bedrock Security, a newly launched platform, aims to address these challenges head-on. Bedr…</td><td>2024-03-26T21:55:48Z</td><td>pymnts.com</td><td>Bedrock Security Tackles Data Complexities in GenAI Era</td><td>https://www.pymnts.com/news/security-and-risk/2024/bedrock-security-tackles-data-complexities-in-genai-era/</td></tr><tr><td>null</td><td>A manufacturing plant near Hsinchu, Taiwan's Silicon Valley, is among facilities worldwide boosting energy efficiency with AI-enabled digital twins.\r\n",
       "A virtual model can help streamline operations, m… [+4304 chars]</td><td>(marketscreener.com) \n",
       " \n",
       " \n",
       " A manufacturing plant near Hsinchu, Taiwan's Silicon Valley, is among facilities worldwide boosting energy efficiency with AI-enabled digital twins.\n",
       " \n",
       " \n",
       " A virtual model can help streamline operations, maximizing throughput for its …</td><td>2024-03-26T15:19:02Z</td><td>Marketscreener.com</td><td>Model Innovators: How Digital Twins Are Making Industries More Efficient</td><td>https://www.marketscreener.com/quote/stock/NVIDIA-CORPORATION-57355629/news/Model-Innovators-How-Digital-Twins-Are-Making-Industries-More-Efficient-46289030/</td></tr><tr><td>MarketBeat News</td><td>Rosenberg Matthew Hamilton lifted its holdings in shares of Agilent Technologies, Inc. (NYSE:A – Free Report) by 51.1% during the 4th quarter, according to its most recent Form 13F filing with the Se… [+6907 chars]</td><td>Rosenberg Matthew Hamilton lifted its holdings in shares of Agilent Technologies, Inc. (NYSE:A – Free Report) by 51.1% during the 4th quarter, according to its most recent Form 13F filing with the Securities and Exchange Commission (SEC). The fund owned 284 s…</td><td>2024-03-25T11:38:41Z</td><td>ETF Daily News</td><td>Rosenberg Matthew Hamilton Increases Holdings in Agilent Technologies, Inc. (NYSE:A)</td><td>https://www.etfdailynews.com/2024/03/25/rosenberg-matthew-hamilton-increases-holdings-in-agilent-technologies-inc-nysea/</td></tr><tr><td>MarketBeat News</td><td>Cooper Financial Group purchased a new stake in shares of Agilent Technologies, Inc. (NYSE:A – Free Report) during the 4th quarter, according to the company in its most recent filing with the Securit… [+7657 chars]</td><td>Cooper Financial Group purchased a new stake in shares of Agilent Technologies, Inc. (NYSE:A – Free Report) during the 4th quarter, according to the company in its most recent filing with the Securities and Exchange Commission (SEC). The firm purchased 1,699 …</td><td>2024-03-26T10:28:41Z</td><td>ETF Daily News</td><td>Cooper Financial Group Purchases Shares of 1,699 Agilent Technologies, Inc. (NYSE:A)</td><td>https://www.etfdailynews.com/2024/03/26/cooper-financial-group-purchases-shares-of-1699-agilent-technologies-inc-nysea/</td></tr><tr><td>Attovia Therapeutics, Inc.</td><td>-- Hubert Chen, accomplished drug developer and pharma executive, joins as Chief Medical Officer\r\n",
       "-- Industry veterans and leading academic experts joined Attovias Clinical and Scientific Advisory Bo… [+10316 chars]</td><td>-- Hubert Chen, accomplished drug developer and pharma executive, joins as Chief Medical Officer        -- Industry veterans and leading academic...</td><td>2024-03-26T11:00:00Z</td><td>GlobeNewswire</td><td>Attovia Enhances Clinical and Development Expertise with Appointment of Chief Medical Officer and Clinical and Scientific Advisory Boards</td><td>https://www.globenewswire.com/news-release/2024/03/26/2852217/0/en/Attovia-Enhances-Clinical-and-Development-Expertise-with-Appointment-of-Chief-Medical-Officer-and-Clinical-and-Scientific-Advisory-Boards.html</td></tr><tr><td>null</td><td>Topline data from the randomized Phase 2b KICKSTART trial of tomivosertib combined with pembrolizumab in non-small cell lung cancer (NSCLC) expected in early April 2024\r\n",
       "Median progression free survi… [+23633 chars]</td><td>(marketscreener.com) Topline data from the randomized Phase 2b KICKSTART trial of tomivosertib combined with pembrolizumab in non-small cell lung cancer expected in early April 2024 Median progression free survival of 7.4 months in the ZFA expansion cohort ev…</td><td>2024-03-25T20:01:05Z</td><td>Marketscreener.com</td><td>EFFECTOR Therapeutics Reports Fourth Quarter and Full Year 2023 Financial Results and Provides Corporate Update</td><td>https://www.marketscreener.com/quote/stock/EFFECTOR-THERAPEUTICS-INC-127525341/news/EFFECTOR-Therapeutics-Reports-Fourth-Quarter-and-Full-Year-2023-Financial-Results-and-Provides-Corpo-46279233/</td></tr><tr><td>Precedence Research</td><td>Ottawa, March 26, 2024 (GLOBE NEWSWIRE) -- The global hemato-oncology testing market size is calculated at USD 3.41 billion in 2024 and is projected to surpass around USD 8.41 billion by 2032, a stud… [+16728 chars]</td><td>The global hemato-oncology testing market size was estimated at USD 3.17 billion in 2023 and is expected to reach around USD 9.78 billion by 2033, growing at a CAGR of 12.4% from 2024 to 2033. The global hemato-oncology testing market size was estimated at US…</td><td>2024-03-26T15:30:00Z</td><td>GlobeNewswire</td><td>Hemato-Oncology Testing Market Size Expected to Reach USD 9.78 Bn by 2033</td><td>https://www.globenewswire.com/news-release/2024/03/26/2852562/0/en/Hemato-Oncology-Testing-Market-Size-Expected-to-Reach-USD-9-78-Bn-by-2033.html</td></tr><tr><td>eFFECTOR Therapeutics, Inc.</td><td>Topline data from the randomized Phase 2b KICKSTART trial of tomivosertib combined with pembrolizumab in non-small cell lung cancer (NSCLC) expected in early April 2024\r\n",
       "Median progression free survi… [+23628 chars]</td><td>Topline data from the randomized Phase 2b KICKSTART trial of tomivosertib combined with pembrolizumab in non-small cell lung cancer (NSCLC) expected in early April 2024</td><td>2024-03-25T20:01:00Z</td><td>GlobeNewswire</td><td>eFFECTOR Therapeutics Reports Fourth Quarter and Full Year 2023 Financial Results and Provides Corporate Update</td><td>https://www.globenewswire.com/news-release/2024/03/25/2851978/0/en/eFFECTOR-Therapeutics-Reports-Fourth-Quarter-and-Full-Year-2023-Financial-Results-and-Provides-Corporate-Update.html</td></tr><tr><td>Carles Huguet</td><td>En su viraje hacia tratamientos para enfermedades raras y neurogenerativas, Ferrer llega a un acuerdo con la firma estadounidense Verge Genomics para adquirir el fármaco VRG50635, una molécula potenc… [+3075 chars]</td><td>En su viraje hacia tratamientos para enfermedades raras y neurogenerativas, Ferrer llega a un acuerdo con la firma estadounidense Verge Genomics para adquirir el fármaco VRG50635, una molécula potencialmente inhibidora de la enzima PIKfyve que podría mejorar …</td><td>2024-03-24T10:53:14Z</td><td>Eleconomista.es</td><td>Ferrer compra una licencia a Verge Genomics para combatir la ELA</td><td>https://www.eleconomista.es/salud/noticias/12738120/03/24/ferrer-compra-una-licencia-a-verge-genomics-para-combatir-la-ela-.html</td></tr><tr><td>PTI</td><td>NEW DELHI: Blue whales, the largest living animals, have recovered from being hunted, only to face the growing challenges from global warming and other human threats like underwater noise, pollution … [+3037 chars]</td><td>Blue whales, the largest animals, face challenges like global warming, pollution, and disrupted food sources. Genetic variations exist among populations in different regions. Conservation efforts are crucial for biodiversity. Genomic analysis challenges curre…</td><td>2024-03-24T03:29:37Z</td><td>The Times of India</td><td>Saved from whaling, blue whales now face threat from global warming, human activities: Study</td><td>https://economictimes.indiatimes.com/news/environment/flora-fauna/saved-from-whaling-blue-whales-now-face-threat-from-global-warming-human-activities-study/articleshow/108743233.cms</td></tr><tr><td>Phillip W. Barth</td><td>In the early 1980s, offices were noisy places, filled with the sound of metal striking inked ribbons to mark characters on paper. IBM Selectric typewriters clacked, daisy wheel printers clattered, an… [+19664 chars]</td><td>In the early 1980s, offices were noisy places, filled with the sound of metal striking inked ribbons to mark characters on paper. IBM Selectric typewriters clacked, daisy wheel printers clattered, and dot-matrix printers made loud ripping sounds.\n",
       "\n",
       "Today, thos…</td><td>2024-03-25T18:00:04Z</td><td>Ieee.org</td><td>Inkjets Are for More Than Just Printing</td><td>https://spectrum.ieee.org/inkjet-printer</td></tr><tr><td>Science X</td><td>This article has been reviewed according to Science X's \r\n",
       "editorial process\r\n",
       "and policies.\r\n",
       "Editors have highlighted\r\n",
       "the following attributes while ensuring the content's credibility:\r\n",
       "fact-checked\r… [+504 chars]</td><td>A new study titled \"Widespread inversions shape the genetic and phenotypic diversity in rice\" and published in Science Bulletin has been led by Prof. Lianguang Shang (Agricultural Genomics Institute at Shenzhen, Chinese Academy of Agricultural Sciences), Prof…</td><td>2024-03-26T20:55:03Z</td><td>Phys.Org</td><td>Widespread inversions shape the genetic and phenotypic diversity in rice</td><td>https://phys.org/news/2024-03-widespread-inversions-genetic-phenotypic-diversity.html</td></tr><tr><td>Science X</td><td>Humans pass on more viruses to domestic and wild animals than we catch from them, according to a major new analysis of viral genomes by UCL researchers.\r\n",
       "For the paper published in Nature Ecology &am… [+4880 chars]</td><td>Humans pass on more viruses to domestic and wild animals than we catch from them, according to a major new analysis of viral genomes by UCL researchers.</td><td>2024-03-25T11:30:29Z</td><td>Phys.Org</td><td>Genome study shows humans pass more viruses to animals than we catch from them</td><td>https://phys.org/news/2024-03-genome-humans-viruses-animals.html</td></tr><tr><td>null</td><td>[Removed]</td><td>[Removed]</td><td>1970-01-01T00:00:00Z</td><td>[Removed]</td><td>[Removed]</td><td>https://removed.com</td></tr><tr><td>UK Health Security Agency</td><td>The Pathogen Genomics Department at Porton Down provides a sequencing service for SARS-CoV-2 for customers across the NHS and UKHSA.\r\n",
       "The laboratory at Porton Down sequences the samples and the UKHSA… [+582 chars]</td><td>The Pathogen Genomics Department at Porton Down provides a sequencing service for SARS-CoV-2 for customers across the NHS and UKHSA.</td><td>2024-03-26T14:55:16Z</td><td>Www.gov.uk</td><td>Guidance: Pathogen genomics at Porton Down</td><td>https://www.gov.uk/government/publications/pathogen-genomics-at-porton-down</td></tr><tr><td>Zoltan Erdos, David J. Studholme, Manmohan D. Sharma, David Chandler, Chris Bass, Ben Raymond</td><td>Abstract\r\n",
       "Changes in parasite virulence are commonly expected to lead to trade-offs in other life history traits that can affect fitness. Understanding these trade-offs is particularly important if w… [+77795 chars]</td><td>Author summary Understanding the ecological forces that shape virulence is a key challenge in evolutionary biology. Here we investigated how competition at different levels of selection (within-hosts, between-hosts, between populations) could alter investment…</td><td>2024-03-25T14:00:00Z</td><td>Plos.org</td><td>Manipulating multi-level selection in a fungal entomopathogen reveals social conflicts and a method for improving biocontrol traits</td><td>https://journals.plos.org/plospathogens/article?id=10.1371/journal.ppat.1011775</td></tr><tr><td>Samaresh Malik, Joyanta Biswas, Purandar Sarkar, Subhadeep Nag, Chandrima Gain, Shatadru Ghosh Roy, Bireswar Bhattacharya, Dipanjan Ghosh, Abhik Saha</td><td>Citation: Malik S, Biswas J, Sarkar P, Nag S, Gain C, Ghosh Roy S, et al. (2024) Differential carbonic anhydrase activities control EBV-induced B-cell transformation and lytic cycle reactivation. PLo… [+105522 chars]</td><td>Author summary Epstein-Barr virus (EBV) is an enveloped double-stranded DNA tumor virus that is associated with numerous human malignancies, including lymphomas originated from B- and T-cells along with epithelial- and endothelial-derived carcinomas. Alike an…</td><td>2024-03-26T14:00:00Z</td><td>Plos.org</td><td>Differential carbonic anhydrase activities control EBV-induced B-cell transformation and lytic cycle reactivation</td><td>https://journals.plos.org/plospathogens/article?id=10.1371/journal.ppat.1011998</td></tr><tr><td>merickso</td><td>Researchers are realizing that studying the interplay between different cell types, known as the tumor microenvironment, provides critical insight into the biology of tumors. But the rarity of soft t… [+4117 chars]</td><td>Soft tissue sarcomas are rare and difficult to treat. Machine-learning tools designed at Stanford Medicine uncover distinct cellular communities that correlate with prognosis, immunotherapy success.</td><td>2024-03-26T22:40:10Z</td><td>Stanford.edu</td><td>Stanford Medicine-designed AI tools tackle soft tissue sarcomas, identify new treatment strategies</td><td>https://med.stanford.edu:443/news/all-news/2024/03/soft-tissue-sarcoma.html</td></tr><tr><td>Alexander Raginsky</td><td>InstaDeep, founded in 2014, is a pioneering AI company at the forefront of innovation. With strategic offices in major cities worldwide, including London, Paris, Berlin, Tunis, Lagos, Cape Town, Bost… [+5703 chars]</td><td>InstaDeep, founded in 2014, is a pioneering AI company at the forefront of innovation. With strategic offices in major cities worldwide, including London, Paris, Berlin, Tunis, Lagos, Cape Town, Boston, and San Francisco, InstaDeep collaborates with giants li…</td><td>2024-03-26T00:00:00Z</td><td>Nlppeople.com</td><td>Machine Learning Engineer in Genomics</td><td>https://nlppeople.com/job/machine-learning-engineer-in-genomics-6/</td></tr><tr><td>Marcus Ranum</td><td>Classified materials and their handling appears to still be a news story. Back in 2016, I wrote a bit [stderr] about Clinton (Hillary)’s personal email server, which was accurate as far as I could ma… [+31620 chars]</td><td>Classified materials and their handling appears to still be a news story. Back in 2016, I wrote a bit [stderr] about Clinton (Hillary)’s personal email server, which was accurate as far as I could make it, but that story has been somewhat shaded by recent mis…</td><td>2024-03-23T18:24:39Z</td><td>Freethoughtblogs.com</td><td>NOFORN//TSI//SCI Unredacted</td><td>https://freethoughtblogs.com/stderr/2024/03/23/noforn-tsi-sci-unredacted/</td></tr><tr><td>Health Canada</td><td>Amidst a backdrop that saw many Canadians coerced into injecting the novel products through government-imposed mandates, restrictions and intense social shaming, recent investigations have discovered… [+5968 chars]</td><td>Despite ongoing independent scientific investigations uncovering quality concerns and regulatory oversight issues related to the novel COVID mRNA injections, regulators such as Health Canada are silent on potentially population-wide implications.</td><td>2024-03-25T15:34:18Z</td><td>Rebelnews.com</td><td>Health Canada’s outdated regulations pose a health threat amid pharmaceutical influence</td><td>https://www.rebelnews.com/health_canada_s_outdated_regulations_pose_a_health_threat_amid_pharmaceutical_influence</td></tr></tbody></table></div>"
      ]
     },
     "metadata": {
      "application/vnd.databricks.v1+output": {
       "addedWidgets": {},
       "aggData": [],
       "aggError": "",
       "aggOverflow": false,
       "aggSchema": [],
       "aggSeriesLimitReached": false,
       "aggType": "",
       "arguments": {},
       "columnCustomDisplayInfos": {},
       "data": [
        [
         null,
         "Introduction\r\nDiabetes, obesity, heart disease, cancer, and liver disease have all been linked in various ways to acetate availability, metabolism, and signaling. Acetate supplementation induces phys… [+163834 chars]",
         "Acetate, the shortest chain fatty acid, has been implicated in providing health benefits whether it is derived from the diet or is generated from microbial f...",
         "2024-03-26T11:46:02Z",
         "Frontiersin.org",
         "Acetate Revisited: A Key Biomolecule at the Nexus of Metabolism, Epigenetics",
         "https://www.frontiersin.org/journals/physiology/articles/10.3389/fphys.2020.580171/full"
        ],
        [
         null,
         "Humans pass on more viruses to domestic and wild animals than we catch from them, according to a major new analysis of viral genomes by UCL researchers.For the new paper published in Nature Ecology &… [+4202 chars]",
         "Humans pass on more viruses to domestic and wild animals than we catch from them, according to a major new analysis of viral genomes.",
         "2024-03-25T15:41:38Z",
         "Science Daily",
         "Humans pass more viruses to other animals than we catch from them",
         "https://www.sciencedaily.com/releases/2024/03/240325114138.htm"
        ],
        [
         "UC Irvine",
         "Researchers have discovered the key role that the APOBEC3A and APOBEC3B enzymes play in driving cancer mutations by modifying the DNA in tumor genomes.\r\nThe work offers potential new targets for inte… [+2562 chars]",
         "Two enzymes that play a role in cancer mutation offer potential new targets for intervention strategies, researchers report.",
         "2024-03-25T14:17:49Z",
         "Futurity: Research News",
         "Team cracks 2 enzymes’ role in cancer mutation",
         "https://www.futurity.org/enzymes-cancer-mutation-3197292-2/"
        ],
        [
         "Alli Chase",
         "Making life-changing, innovative advances is intrinsic to the UKs\r\n life sciences sector, which unceasingly thrives on industry\r\n collaboration, academic excellence, and government support.\r\nUncoveri… [+8763 chars]",
         "",
         "2024-03-25T11:18:35Z",
         "MIT Technology Review",
         "Backed by heritage, ready for the future",
         "https://www.technologyreview.com/2024/03/25/1090079/backed-by-heritage-ready-for-the-future/"
        ],
        [
         "Jacinta Bowler",
         "<ul><li>In short: Researchers have used genetic evidence to pinpoint where ancient humans went after leaving Africa. </li><li>They suggest the 'Persian Plateau' an area including modern day Iran. </l… [+5127 chars]",
         "Our ancestors left Africa some 70,000 years ago, but it took them thousands of years to make it to Europe or Asia. A DNA study may shed light on where they ended up during this 'long pause'.",
         "2024-03-25T18:30:00Z",
         "ABC News (AU)",
         "'A very big question in human evolution': Where did our ancestors go after leaving Africa?",
         "https://www.abc.net.au/news/science/2024-03-26/out-of-africa-human-migration-persian-plateau/103614458"
        ],
        [
         "T0@st",
         "A manufacturing plant near Hsinchu, Taiwan's Silicon Valley, is among facilities worldwide boosting energy efficiency with AI-enabled digital twins. A virtual model can help streamline operations, ma… [+4275 chars]",
         "A manufacturing plant near Hsinchu, Taiwan's Silicon Valley, is among facilities worldwide boosting energy efficiency with AI-enabled digital twins. A virtual model can help streamline operations, maximizing throughput for its physical counterpart, say engine…",
         "2024-03-26T16:43:06Z",
         "Techpowerup.com",
         "(PR) NVIDIA Modulus & Omniverse Drive Physics-informed Models and Simulations",
         "https://www.techpowerup.com/320853/nvidia-modulus-omniverse-drive-physics-informed-models-and-simulations"
        ],
        [
         "Investor's Business Daily",
         "Dow Jones futures rose slightly after hours, along with S&amp;P 500 futures and Nasdaq futures. The stock market rally had a relatively quiet Tuesday, with the Nasdaq leading a fade into the close fo… [+7544 chars]",
         "Trump Media broke out in its post-SPAC debut. Tesla jumped to key resistance.",
         "2024-03-26T21:11:04Z",
         "Investor's Business Daily",
         "Dow Jones Futures: Donald Trump Stock Great Again? Tesla Hits Resistance, 5 AI Stocks Near Buy Points",
         "https://www.investors.com/market-trend/stock-market-today/dow-jones-futures-donald-trump-stock-great-tesla-stock-ai-stocks-buy-points/"
        ],
        [
         "Cecilia Wieder, Juliette Cooke, Clement Frainay, Nathalie Poupin, Russell Bowler, Fabien Jourdan, Katerina J. Kechris, Rachel PJ Lai, Timothy Ebbels",
         "Abstract\r\nAs terabytes of multi-omics data are being generated, there is an ever-increasing need for methods facilitating the integration and interpretation of such data. Current multi-omics integrat… [+102316 chars]",
         "Author summary Omics data, which provides a readout of the levels of molecules such as genes, proteins, and metabolites in a sample, is frequently generated to study biological processes and perturbations within an organism. Combining multiple omics data type…",
         "2024-03-25T14:00:00Z",
         "Plos.org",
         "PathIntegrate: Multivariate modelling approaches for pathway-based multi-omics data integration",
         "https://journals.plos.org/ploscompbiol/article?id=10.1371/journal.pcbi.1011814"
        ],
        [
         "Rick Merritt",
         "A manufacturing plant near Hsinchu, Taiwans Silicon Valley, is among facilities worldwide boosting energy efficiency with AI-enabled digital twins.\r\nA virtual model can help streamline operations, ma… [+4281 chars]",
         "A manufacturing plant near Hsinchu, Taiwan’s Silicon Valley, is among facilities worldwide boosting energy efficiency with AI-enabled digital twins. A virtual model can help streamline operations, maximizing throughput for its physical counterpart, say engine…",
         "2024-03-26T15:00:51Z",
         "Nvidia.com",
         "Model Innovators: How Digital Twins Are Making Industries More Efficient",
         "https://blogs.nvidia.com/blog/digital-twins-modulus-wistron/"
        ],
        [
         null,
         "Began global shipments for Visium HD, a new product that enables whole transcriptome spatial discovery at single cellscale resolution \r\nPLEASANTON, Calif., March 26, 2024 /PRNewswire/ -- 10x Genomics… [+6237 chars]",
         "(marketscreener.com) \n\nBegan global shipments for Visium HD, a new product that enables whole transcriptome spatial discovery at single cell–scale resolution \nPLEASANTON, Calif., March 26, 2024 /PRNewswire/ -- 10x Genomics, Inc. , a leader in single cell and …",
         "2024-03-26T13:01:19Z",
         "Marketscreener.com",
         "10x Genomics Commercially Launches Visium HD Spatial Gene Expression Assay",
         "https://www.marketscreener.com/quote/stock/10X-GENOMICS-INC-65338646/news/10x-Genomics-Commercially-Launches-Visium-HD-Spatial-Gene-Expression-Assay-46287534/"
        ],
        [
         "Business Wire",
         "BOULDER, Colo. Watchmaker Genomics, a supplier of innovative products for molecular analysis, announced the launch of the Watchmaker mRNA Library Prep Kit designed to streamline and accelerate mRNA l… [+2567 chars]",
         "BOULDER, Colo. — Watchmaker Genomics, a supplier of innovative products for molecular analysis, announced the launch of the Watchmaker mRNA Library Prep Kit – designed to streamline and accelerate mRNA library preparation, offering both speed and sensitivity …",
         "2024-03-26T12:14:21Z",
         "Financial Post",
         "Watchmaker Genomics Launches Watchmaker mRNA Library Prep Kits – Featuring a Rapid Workflow and Sensitive mRNA Detection",
         "https://financialpost.com/pmn/business-wire-news-releases-pmn/watchmaker-genomics-launches-watchmaker-mrna-library-prep-kits-featuring-a-rapid-workflow-and-sensitive-mrna-detection"
        ],
        [
         "MarketBeat News",
         "Citigroup Inc. grew its position in shares of 10x Genomics, Inc. (NASDAQ:TXG – Free Report) by 94.4% during the 3rd quarter, according to the company in its most recent filing with the SEC. The firm … [+6240 chars]",
         "Citigroup Inc. grew its position in shares of 10x Genomics, Inc. (NASDAQ:TXG – Free Report) by 94.4% during the 3rd quarter, according to the company in its most recent filing with the SEC. The firm owned 10,951 shares of the company’s stock after purchasing …",
         "2024-03-24T09:18:42Z",
         "ETF Daily News",
         "10x Genomics, Inc. (NASDAQ:TXG) Shares Purchased by Citigroup Inc.",
         "https://www.etfdailynews.com/2024/03/24/10x-genomics-inc-nasdaqtxg-shares-purchased-by-citigroup-inc/"
        ],
        [
         "tipranks.com",
         "Genetic Technologies (GENE) has released an update. Genetic Technologies Limited, a pioneer in genomics-based testing, has announced obtaining a $6...\r\nThis story appeared on tipranks.com, .",
         "Genetic Technologies (GENE) has released an update. Genetic Technologies Limited, a pioneer in genomics-based testing, has announced obtaining a $6...",
         "2024-03-26T14:36:49Z",
         "Biztoc.com",
         "Genetic Technologies Boosts Capital with Radium Loan",
         "https://biztoc.com/x/e4b38ec462e380a1"
        ],
        [
         "Gattaca",
         "Miami, Florida, March 26, 2024 (GLOBE NEWSWIRE) --  Gattaca Genomics, a pioneer in genetic diagnostics and reproductive technologies, proudly announces its strategic partnership with Ibanera, a leadi… [+3007 chars]",
         "The partnership will streamline digital banking for advanced genetic testing services, fostering innovation in family planning. Michael Carbonara, CEO of both Ibanera and Gattaca Genomics, champions the collaboration, emphasizing its role in enhancing healthc…",
         "2024-03-26T12:22:00Z",
         "GlobeNewswire",
         "Gattaca Genomics Partners with Ibanera to Revolutionize Digital Banking for Family Planning Innovation",
         "https://www.globenewswire.com/news-release/2024/03/26/2852341/0/en/Gattaca-Genomics-Partners-with-Ibanera-to-Revolutionize-Digital-Banking-for-Family-Planning-Innovation.html"
        ],
        [
         "InvestorsObserver",
         "Customers can now pre-order Nucleus' clinical-grade whole-genome sequencing test\r\nNEW YORK\r\n,\r\nMarch 25, 2024\r\n/PRNewswire/ --\r\nNucleus Genomics\r\n, the next-generation genetic testing and analysis co… [+4636 chars]",
         "Nucleus Genomics launches to bring whole-genome sequencing to the public           PR Newswire           Customers can now pre-order Nucleus' clinical-grade whole-genome sequencing test           NEW YORK     ,     March 25, 2024     /PRNewswire/ --   ...",
         "2024-03-25T12:33:00Z",
         "InvestorsObserver",
         "Nucleus Genomics launches to bring whole-genome sequencing to the public",
         "https://www.investorsobserver.com/news/qm-pr/5884909549469583"
        ],
        [
         "Verge Genomics",
         "SOUTH SAN FRANCISCO, Calif. and BARCELONA, Spain, March 25, 2024 (GLOBE NEWSWIRE) -- Verge Genomics, a leading clinical-stage biotechnology company, and Ferrer, an international B Corp pharmaceutical… [+5570 chars]",
         "VRG50635 is one of the first drugs to enter clinical trials that was entirely discovered and developed using an AI-enabled platform VRG50635 is one of the first drugs to enter clinical trials that was entirely discovered and developed using an AI-enabled plat…",
         "2024-03-25T10:00:00Z",
         "GlobeNewswire",
         "Verge Genomics and Ferrer Announce Agreement to Co-Develop Clinical-Stage ALS Therapy VRG50635",
         "https://www.globenewswire.com/news-release/2024/03/25/2851439/0/en/Verge-Genomics-and-Ferrer-Announce-Agreement-to-Co-Develop-Clinical-Stage-ALS-Therapy-VRG50635.html"
        ],
        [
         "benzinga.com",
         "SOUTH SAN FRANCISCO, Calif. and BARCELONA, Spain, March 25, 2024 (GLOBE NEWSWIRE) -- Verge Genomics, a leading clinical-stage biotechnology company, and Ferrer, an international B Corp pharmaceutical… [+280 chars]",
         "SOUTH SAN FRANCISCO, Calif. and BARCELONA, Spain, March 25, 2024 (GLOBE NEWSWIRE) -- Verge Genomics, a leading clinical-stage biotechnology company, and Ferrer, an international B Corp pharmaceutical company with an increasing focus in rare neurological disor…",
         "2024-03-25T10:22:12Z",
         "Biztoc.com",
         "Verge Genomics and Ferrer Announce Agreement to Co-Develop Clinical-Stage ALS Therapy VRG50635",
         "https://biztoc.com/x/fea2eebbb5d1cad4"
        ],
        [
         "Investing.com",
         "LOUISVILLE, Colo. - Biodesix, Inc. (NASDAQ:BDSX), a company specializing in diagnostic solutions for lung disease, has announced a new collaboration with Memorial Sloan Kettering Cancer Center (MSK) … [+1902 chars]",
         "Biodesix partners with MSK for cancer diagnostic tests",
         "2024-03-25T10:09:57Z",
         "Investing.com",
         "Biodesix partners with MSK for cancer diagnostic tests",
         "https://www.investing.com/news/stock-market-news/biodesix-partners-with-msk-for-cancer-diagnostic-tests-93CH-3351075"
        ],
        [
         "MarketBeat News",
         "Brookstone Capital Management decreased its position in shares of ARK Genomic Revolution ETF (BATS:ARKG – Free Report) by 12.9% during the 4th quarter, HoldingsChannel.com reports. The fund owned 78,… [+2293 chars]",
         "Brookstone Capital Management decreased its position in shares of ARK Genomic Revolution ETF (BATS:ARKG – Free Report) by 12.9% during the 4th quarter, HoldingsChannel.com reports. The fund owned 78,733 shares of the company’s stock after selling 11,624 share…",
         "2024-03-23T09:54:45Z",
         "ETF Daily News",
         "Brookstone Capital Management Has $2.58 Million Stock Holdings in ARK Genomic Revolution ETF (BATS:ARKG)",
         "https://www.etfdailynews.com/2024/03/23/brookstone-capital-management-has-2-58-million-stock-holdings-in-ark-genomic-revolution-etf-batsarkg/"
        ],
        [
         "MarketBeat News",
         "Mutual Advisors LLC trimmed its position in shares of ARK Genomic Revolution ETF (BATS:ARKG – Free Report) by 2.0% in the 4th quarter, according to its most recent disclosure with the SEC. The instit… [+2328 chars]",
         "Mutual Advisors LLC trimmed its position in shares of ARK Genomic Revolution ETF (BATS:ARKG – Free Report) by 2.0% in the 4th quarter, according to its most recent disclosure with the SEC. The institutional investor owned 42,789 shares of the company’s stock …",
         "2024-03-26T10:00:47Z",
         "ETF Daily News",
         "Mutual Advisors LLC Reduces Holdings in ARK Genomic Revolution ETF (BATS:ARKG)",
         "https://www.etfdailynews.com/2024/03/26/mutual-advisors-llc-reduces-holdings-in-ark-genomic-revolution-etf-batsarkg/"
        ],
        [
         "Investing.com",
         "Cathie Wood's ARK ETFs have made significant moves in the stock market on Friday, March 22nd, 2024, with a series of buys and sells that reflect the investment firm's shifting strategies. The most no… [+2196 chars]",
         "Cathie Wood's ARK buys more Tesla stock, sells Coinbase",
         "2024-03-23T00:46:51Z",
         "Investing.com",
         "Cathie Wood's ARK buys more Tesla stock, sells Coinbase",
         "https://www.investing.com/news/stock-market-news/cathie-woods-ark-buys-more-tesla-stock-sells-coinbase-93CH-3350511"
        ],
        [
         "MarketBeat News",
         "Neogen Co. (NASDAQ:NEOG – Free Report) – Equities researchers at Zacks Research reduced their FY2024 earnings per share (EPS) estimates for Neogen in a research note issued on Friday, March 22nd. Zac… [+3713 chars]",
         "Neogen Co. (NASDAQ:NEOG – Free Report) – Equities researchers at Zacks Research reduced their FY2024 earnings per share (EPS) estimates for Neogen in a research note issued on Friday, March 22nd. Zacks Research analyst R. Department now anticipates that the c…",
         "2024-03-26T05:58:41Z",
         "ETF Daily News",
         "FY2024 EPS Estimates for Neogen Co. Cut by Zacks Research (NASDAQ:NEOG)",
         "https://www.etfdailynews.com/2024/03/26/fy2024-eps-estimates-for-neogen-co-cut-by-zacks-research-nasdaqneog/"
        ],
        [
         "MarketBeat News",
         "Mesa Laboratories, Inc. (NASDAQ:MLAB – Get Free Report) passed below its 200-day moving average during trading on Monday . The stock has a 200-day moving average of $100.91 and traded as low as $99.2… [+3502 chars]",
         "Mesa Laboratories, Inc. (NASDAQ:MLAB – Get Free Report) passed below its 200-day moving average during trading on Monday . The stock has a 200-day moving average of $100.91 and traded as low as $99.27. Mesa Laboratories shares last traded at $99.88, with a vo…",
         "2024-03-26T08:40:41Z",
         "ETF Daily News",
         "Mesa Laboratories (NASDAQ:MLAB) Shares Pass Below Two Hundred Day Moving Average of $100.91",
         "https://www.etfdailynews.com/2024/03/26/mesa-laboratories-nasdaqmlab-shares-pass-below-two-hundred-day-moving-average-of-100-91/"
        ],
        [
         "MarketBeat News",
         "StockNews.com initiated coverage on shares of NanoString Technologies (NASDAQ:NSTG – Free Report) in a research report report published on Sunday morning. The brokerage issued a sell rating on the bi… [+3100 chars]",
         "StockNews.com initiated coverage on shares of NanoString Technologies (NASDAQ:NSTG – Free Report) in a research report report published on Sunday morning. The brokerage issued a sell rating on the biotechnology company’s stock. Separately, JPMorgan Chase & Co…",
         "2024-03-25T08:24:41Z",
         "ETF Daily News",
         "NanoString Technologies (NASDAQ:NSTG) Receives New Coverage from Analysts at StockNews.com",
         "https://www.etfdailynews.com/2024/03/25/nanostring-technologies-nasdaqnstg-receives-new-coverage-from-analysts-at-stocknews-com/"
        ],
        [
         "MarketBeat News",
         "Danaher (NYSE:DHR – Get Free Report) and RushNet (OTCMKTS:RSHN – Get Free Report) are both multi-sector conglomerates companies, but which is the better stock? We will compare the two businesses base… [+4488 chars]",
         "Danaher (NYSE:DHR – Get Free Report) and RushNet (OTCMKTS:RSHN – Get Free Report) are both multi-sector conglomerates companies, but which is the better stock? We will compare the two businesses based on the strength of their dividends, analyst recommendation…",
         "2024-03-24T05:12:42Z",
         "ETF Daily News",
         "Danaher (NYSE:DHR) vs. RushNet (OTCMKTS:RSHN) Head-To-Head Analysis",
         "https://www.etfdailynews.com/2024/03/24/danaher-nysedhr-vs-rushnet-otcmktsrshn-head-to-head-analysis/"
        ],
        [
         null,
         "Blood-based assay uses personalized tumor-informed approach designed to detect cancer recurrence early with an ultra-sensitive approach\r\nPersonalis, Inc. (Nasdaq: PSNL), a leader in advanced genomics… [+4649 chars]",
         "(marketscreener.com) \nBlood-based assay uses personalized tumor-informed approach designed to detect cancer recurrence early with an ultra-sensitive approach\n\nhttps://www.marketscreener.com/quote/stock/PERSONALIS-INC-60037648/news/Personalis-Announces-Publica…",
         "2024-03-26T13:10:06Z",
         "Marketscreener.com",
         "Personalis Announces Publication Validating NeXT Personal® Test for Ultra-sensitive MRD Detection and Cancer Treatment Response Monitoring",
         "https://www.marketscreener.com/quote/stock/PERSONALIS-INC-60037648/news/Personalis-Announces-Publication-Validating-NeXT-Personal-Test-for-Ultra-sensitive-MRD-Detection-a-46287703/"
        ],
        [
         "MarketBeat News",
         "Gulf International Bank UK Ltd trimmed its position in shares of Bio-Rad Laboratories, Inc. (NYSE:BIO – Free Report) by 12.2% in the fourth quarter, according to its most recent Form 13F filing with … [+5231 chars]",
         "Gulf International Bank UK Ltd trimmed its position in shares of Bio-Rad Laboratories, Inc. (NYSE:BIO – Free Report) by 12.2% in the fourth quarter, according to its most recent Form 13F filing with the Securities and Exchange Commission (SEC). The firm owned…",
         "2024-03-26T09:00:54Z",
         "ETF Daily News",
         "Gulf International Bank UK Ltd Sells 263 Shares of Bio-Rad Laboratories, Inc. (NYSE:BIO)",
         "https://www.etfdailynews.com/2024/03/26/gulf-international-bank-uk-ltd-sells-263-shares-of-bio-rad-laboratories-inc-nysebio/"
        ],
        [
         null,
         "Biodesix, Inc. (Nasdaq: BDSX), a leading diagnostic solutions company with a focus in lung diseases, today announced that it has entered into a new master collaborative research agreement (MCRA) with… [+5369 chars]",
         "(marketscreener.com) \nBiodesix, Inc. , a leading diagnostic solutions company with a focus in lung diseases, today announced that it has entered into a new master collaborative research agreement with Memorial Sloan Kettering Cancer Center under which the tea…",
         "2024-03-25T10:01:06Z",
         "Marketscreener.com",
         "Biodesix Announces New Master Collaborative Research Agreement with Leading US Cancer Center",
         "https://www.marketscreener.com/quote/stock/BIODESIX-INC-114282624/news/Biodesix-Announces-New-Master-Collaborative-Research-Agreement-with-Leading-US-Cancer-Center-46274513/"
        ],
        [
         "PYMNTS",
         "In the rapidly evolving world of cloud computing and generative artificial intelligence (AI), data security has become a paramount concern for organizations worldwide. Bedrock Security, a newly launc… [+4477 chars]",
         "In the rapidly evolving world of cloud computing and generative artificial intelligence (AI), data security has become a paramount concern for organizations worldwide. Bedrock Security, a newly launched platform, aims to address these challenges head-on. Bedr…",
         "2024-03-26T21:55:48Z",
         "pymnts.com",
         "Bedrock Security Tackles Data Complexities in GenAI Era",
         "https://www.pymnts.com/news/security-and-risk/2024/bedrock-security-tackles-data-complexities-in-genai-era/"
        ],
        [
         null,
         "A manufacturing plant near Hsinchu, Taiwan's Silicon Valley, is among facilities worldwide boosting energy efficiency with AI-enabled digital twins.\r\nA virtual model can help streamline operations, m… [+4304 chars]",
         "(marketscreener.com) \n \n \n A manufacturing plant near Hsinchu, Taiwan's Silicon Valley, is among facilities worldwide boosting energy efficiency with AI-enabled digital twins.\n \n \n A virtual model can help streamline operations, maximizing throughput for its …",
         "2024-03-26T15:19:02Z",
         "Marketscreener.com",
         "Model Innovators: How Digital Twins Are Making Industries More Efficient",
         "https://www.marketscreener.com/quote/stock/NVIDIA-CORPORATION-57355629/news/Model-Innovators-How-Digital-Twins-Are-Making-Industries-More-Efficient-46289030/"
        ],
        [
         "MarketBeat News",
         "Rosenberg Matthew Hamilton lifted its holdings in shares of Agilent Technologies, Inc. (NYSE:A – Free Report) by 51.1% during the 4th quarter, according to its most recent Form 13F filing with the Se… [+6907 chars]",
         "Rosenberg Matthew Hamilton lifted its holdings in shares of Agilent Technologies, Inc. (NYSE:A – Free Report) by 51.1% during the 4th quarter, according to its most recent Form 13F filing with the Securities and Exchange Commission (SEC). The fund owned 284 s…",
         "2024-03-25T11:38:41Z",
         "ETF Daily News",
         "Rosenberg Matthew Hamilton Increases Holdings in Agilent Technologies, Inc. (NYSE:A)",
         "https://www.etfdailynews.com/2024/03/25/rosenberg-matthew-hamilton-increases-holdings-in-agilent-technologies-inc-nysea/"
        ],
        [
         "MarketBeat News",
         "Cooper Financial Group purchased a new stake in shares of Agilent Technologies, Inc. (NYSE:A – Free Report) during the 4th quarter, according to the company in its most recent filing with the Securit… [+7657 chars]",
         "Cooper Financial Group purchased a new stake in shares of Agilent Technologies, Inc. (NYSE:A – Free Report) during the 4th quarter, according to the company in its most recent filing with the Securities and Exchange Commission (SEC). The firm purchased 1,699 …",
         "2024-03-26T10:28:41Z",
         "ETF Daily News",
         "Cooper Financial Group Purchases Shares of 1,699 Agilent Technologies, Inc. (NYSE:A)",
         "https://www.etfdailynews.com/2024/03/26/cooper-financial-group-purchases-shares-of-1699-agilent-technologies-inc-nysea/"
        ],
        [
         "Attovia Therapeutics, Inc.",
         "-- Hubert Chen, accomplished drug developer and pharma executive, joins as Chief Medical Officer\r\n-- Industry veterans and leading academic experts joined Attovias Clinical and Scientific Advisory Bo… [+10316 chars]",
         "-- Hubert Chen, accomplished drug developer and pharma executive, joins as Chief Medical Officer        -- Industry veterans and leading academic...",
         "2024-03-26T11:00:00Z",
         "GlobeNewswire",
         "Attovia Enhances Clinical and Development Expertise with Appointment of Chief Medical Officer and Clinical and Scientific Advisory Boards",
         "https://www.globenewswire.com/news-release/2024/03/26/2852217/0/en/Attovia-Enhances-Clinical-and-Development-Expertise-with-Appointment-of-Chief-Medical-Officer-and-Clinical-and-Scientific-Advisory-Boards.html"
        ],
        [
         null,
         "Topline data from the randomized Phase 2b KICKSTART trial of tomivosertib combined with pembrolizumab in non-small cell lung cancer (NSCLC) expected in early April 2024\r\nMedian progression free survi… [+23633 chars]",
         "(marketscreener.com) Topline data from the randomized Phase 2b KICKSTART trial of tomivosertib combined with pembrolizumab in non-small cell lung cancer expected in early April 2024 Median progression free survival of 7.4 months in the ZFA expansion cohort ev…",
         "2024-03-25T20:01:05Z",
         "Marketscreener.com",
         "EFFECTOR Therapeutics Reports Fourth Quarter and Full Year 2023 Financial Results and Provides Corporate Update",
         "https://www.marketscreener.com/quote/stock/EFFECTOR-THERAPEUTICS-INC-127525341/news/EFFECTOR-Therapeutics-Reports-Fourth-Quarter-and-Full-Year-2023-Financial-Results-and-Provides-Corpo-46279233/"
        ],
        [
         "Precedence Research",
         "Ottawa, March 26, 2024 (GLOBE NEWSWIRE) -- The global hemato-oncology testing market size is calculated at USD 3.41 billion in 2024 and is projected to surpass around USD 8.41 billion by 2032, a stud… [+16728 chars]",
         "The global hemato-oncology testing market size was estimated at USD 3.17 billion in 2023 and is expected to reach around USD 9.78 billion by 2033, growing at a CAGR of 12.4% from 2024 to 2033. The global hemato-oncology testing market size was estimated at US…",
         "2024-03-26T15:30:00Z",
         "GlobeNewswire",
         "Hemato-Oncology Testing Market Size Expected to Reach USD 9.78 Bn by 2033",
         "https://www.globenewswire.com/news-release/2024/03/26/2852562/0/en/Hemato-Oncology-Testing-Market-Size-Expected-to-Reach-USD-9-78-Bn-by-2033.html"
        ],
        [
         "eFFECTOR Therapeutics, Inc.",
         "Topline data from the randomized Phase 2b KICKSTART trial of tomivosertib combined with pembrolizumab in non-small cell lung cancer (NSCLC) expected in early April 2024\r\nMedian progression free survi… [+23628 chars]",
         "Topline data from the randomized Phase 2b KICKSTART trial of tomivosertib combined with pembrolizumab in non-small cell lung cancer (NSCLC) expected in early April 2024",
         "2024-03-25T20:01:00Z",
         "GlobeNewswire",
         "eFFECTOR Therapeutics Reports Fourth Quarter and Full Year 2023 Financial Results and Provides Corporate Update",
         "https://www.globenewswire.com/news-release/2024/03/25/2851978/0/en/eFFECTOR-Therapeutics-Reports-Fourth-Quarter-and-Full-Year-2023-Financial-Results-and-Provides-Corporate-Update.html"
        ],
        [
         "Carles Huguet",
         "En su viraje hacia tratamientos para enfermedades raras y neurogenerativas, Ferrer llega a un acuerdo con la firma estadounidense Verge Genomics para adquirir el fármaco VRG50635, una molécula potenc… [+3075 chars]",
         "En su viraje hacia tratamientos para enfermedades raras y neurogenerativas, Ferrer llega a un acuerdo con la firma estadounidense Verge Genomics para adquirir el fármaco VRG50635, una molécula potencialmente inhibidora de la enzima PIKfyve que podría mejorar …",
         "2024-03-24T10:53:14Z",
         "Eleconomista.es",
         "Ferrer compra una licencia a Verge Genomics para combatir la ELA",
         "https://www.eleconomista.es/salud/noticias/12738120/03/24/ferrer-compra-una-licencia-a-verge-genomics-para-combatir-la-ela-.html"
        ],
        [
         "PTI",
         "NEW DELHI: Blue whales, the largest living animals, have recovered from being hunted, only to face the growing challenges from global warming and other human threats like underwater noise, pollution … [+3037 chars]",
         "Blue whales, the largest animals, face challenges like global warming, pollution, and disrupted food sources. Genetic variations exist among populations in different regions. Conservation efforts are crucial for biodiversity. Genomic analysis challenges curre…",
         "2024-03-24T03:29:37Z",
         "The Times of India",
         "Saved from whaling, blue whales now face threat from global warming, human activities: Study",
         "https://economictimes.indiatimes.com/news/environment/flora-fauna/saved-from-whaling-blue-whales-now-face-threat-from-global-warming-human-activities-study/articleshow/108743233.cms"
        ],
        [
         "Phillip W. Barth",
         "In the early 1980s, offices were noisy places, filled with the sound of metal striking inked ribbons to mark characters on paper. IBM Selectric typewriters clacked, daisy wheel printers clattered, an… [+19664 chars]",
         "In the early 1980s, offices were noisy places, filled with the sound of metal striking inked ribbons to mark characters on paper. IBM Selectric typewriters clacked, daisy wheel printers clattered, and dot-matrix printers made loud ripping sounds.\n\nToday, thos…",
         "2024-03-25T18:00:04Z",
         "Ieee.org",
         "Inkjets Are for More Than Just Printing",
         "https://spectrum.ieee.org/inkjet-printer"
        ],
        [
         "Science X",
         "This article has been reviewed according to Science X's \r\neditorial process\r\nand policies.\r\nEditors have highlighted\r\nthe following attributes while ensuring the content's credibility:\r\nfact-checked\r… [+504 chars]",
         "A new study titled \"Widespread inversions shape the genetic and phenotypic diversity in rice\" and published in Science Bulletin has been led by Prof. Lianguang Shang (Agricultural Genomics Institute at Shenzhen, Chinese Academy of Agricultural Sciences), Prof…",
         "2024-03-26T20:55:03Z",
         "Phys.Org",
         "Widespread inversions shape the genetic and phenotypic diversity in rice",
         "https://phys.org/news/2024-03-widespread-inversions-genetic-phenotypic-diversity.html"
        ],
        [
         "Science X",
         "Humans pass on more viruses to domestic and wild animals than we catch from them, according to a major new analysis of viral genomes by UCL researchers.\r\nFor the paper published in Nature Ecology &am… [+4880 chars]",
         "Humans pass on more viruses to domestic and wild animals than we catch from them, according to a major new analysis of viral genomes by UCL researchers.",
         "2024-03-25T11:30:29Z",
         "Phys.Org",
         "Genome study shows humans pass more viruses to animals than we catch from them",
         "https://phys.org/news/2024-03-genome-humans-viruses-animals.html"
        ],
        [
         null,
         "[Removed]",
         "[Removed]",
         "1970-01-01T00:00:00Z",
         "[Removed]",
         "[Removed]",
         "https://removed.com"
        ],
        [
         "UK Health Security Agency",
         "The Pathogen Genomics Department at Porton Down provides a sequencing service for SARS-CoV-2 for customers across the NHS and UKHSA.\r\nThe laboratory at Porton Down sequences the samples and the UKHSA… [+582 chars]",
         "The Pathogen Genomics Department at Porton Down provides a sequencing service for SARS-CoV-2 for customers across the NHS and UKHSA.",
         "2024-03-26T14:55:16Z",
         "Www.gov.uk",
         "Guidance: Pathogen genomics at Porton Down",
         "https://www.gov.uk/government/publications/pathogen-genomics-at-porton-down"
        ],
        [
         "Zoltan Erdos, David J. Studholme, Manmohan D. Sharma, David Chandler, Chris Bass, Ben Raymond",
         "Abstract\r\nChanges in parasite virulence are commonly expected to lead to trade-offs in other life history traits that can affect fitness. Understanding these trade-offs is particularly important if w… [+77795 chars]",
         "Author summary Understanding the ecological forces that shape virulence is a key challenge in evolutionary biology. Here we investigated how competition at different levels of selection (within-hosts, between-hosts, between populations) could alter investment…",
         "2024-03-25T14:00:00Z",
         "Plos.org",
         "Manipulating multi-level selection in a fungal entomopathogen reveals social conflicts and a method for improving biocontrol traits",
         "https://journals.plos.org/plospathogens/article?id=10.1371/journal.ppat.1011775"
        ],
        [
         "Samaresh Malik, Joyanta Biswas, Purandar Sarkar, Subhadeep Nag, Chandrima Gain, Shatadru Ghosh Roy, Bireswar Bhattacharya, Dipanjan Ghosh, Abhik Saha",
         "Citation: Malik S, Biswas J, Sarkar P, Nag S, Gain C, Ghosh Roy S, et al. (2024) Differential carbonic anhydrase activities control EBV-induced B-cell transformation and lytic cycle reactivation. PLo… [+105522 chars]",
         "Author summary Epstein-Barr virus (EBV) is an enveloped double-stranded DNA tumor virus that is associated with numerous human malignancies, including lymphomas originated from B- and T-cells along with epithelial- and endothelial-derived carcinomas. Alike an…",
         "2024-03-26T14:00:00Z",
         "Plos.org",
         "Differential carbonic anhydrase activities control EBV-induced B-cell transformation and lytic cycle reactivation",
         "https://journals.plos.org/plospathogens/article?id=10.1371/journal.ppat.1011998"
        ],
        [
         "merickso",
         "Researchers are realizing that studying the interplay between different cell types, known as the tumor microenvironment, provides critical insight into the biology of tumors. But the rarity of soft t… [+4117 chars]",
         "Soft tissue sarcomas are rare and difficult to treat. Machine-learning tools designed at Stanford Medicine uncover distinct cellular communities that correlate with prognosis, immunotherapy success.",
         "2024-03-26T22:40:10Z",
         "Stanford.edu",
         "Stanford Medicine-designed AI tools tackle soft tissue sarcomas, identify new treatment strategies",
         "https://med.stanford.edu:443/news/all-news/2024/03/soft-tissue-sarcoma.html"
        ],
        [
         "Alexander Raginsky",
         "InstaDeep, founded in 2014, is a pioneering AI company at the forefront of innovation. With strategic offices in major cities worldwide, including London, Paris, Berlin, Tunis, Lagos, Cape Town, Bost… [+5703 chars]",
         "InstaDeep, founded in 2014, is a pioneering AI company at the forefront of innovation. With strategic offices in major cities worldwide, including London, Paris, Berlin, Tunis, Lagos, Cape Town, Boston, and San Francisco, InstaDeep collaborates with giants li…",
         "2024-03-26T00:00:00Z",
         "Nlppeople.com",
         "Machine Learning Engineer in Genomics",
         "https://nlppeople.com/job/machine-learning-engineer-in-genomics-6/"
        ],
        [
         "Marcus Ranum",
         "Classified materials and their handling appears to still be a news story. Back in 2016, I wrote a bit [stderr] about Clinton (Hillary)’s personal email server, which was accurate as far as I could ma… [+31620 chars]",
         "Classified materials and their handling appears to still be a news story. Back in 2016, I wrote a bit [stderr] about Clinton (Hillary)’s personal email server, which was accurate as far as I could make it, but that story has been somewhat shaded by recent mis…",
         "2024-03-23T18:24:39Z",
         "Freethoughtblogs.com",
         "NOFORN//TSI//SCI Unredacted",
         "https://freethoughtblogs.com/stderr/2024/03/23/noforn-tsi-sci-unredacted/"
        ],
        [
         "Health Canada",
         "Amidst a backdrop that saw many Canadians coerced into injecting the novel products through government-imposed mandates, restrictions and intense social shaming, recent investigations have discovered… [+5968 chars]",
         "Despite ongoing independent scientific investigations uncovering quality concerns and regulatory oversight issues related to the novel COVID mRNA injections, regulators such as Health Canada are silent on potentially population-wide implications.",
         "2024-03-25T15:34:18Z",
         "Rebelnews.com",
         "Health Canada’s outdated regulations pose a health threat amid pharmaceutical influence",
         "https://www.rebelnews.com/health_canada_s_outdated_regulations_pose_a_health_threat_amid_pharmaceutical_influence"
        ]
       ],
       "datasetInfos": [],
       "dbfsResultPath": null,
       "isJsonSchema": true,
       "metadata": {},
       "overflow": false,
       "plotOptions": {
        "customPlotOptions": {},
        "displayType": "table",
        "pivotAggregation": null,
        "pivotColumns": null,
        "xColumns": null,
        "yColumns": null
       },
       "removedWidgets": [],
       "schema": [
        {
         "metadata": "{}",
         "name": "author",
         "type": "\"string\""
        },
        {
         "metadata": "{}",
         "name": "content",
         "type": "\"string\""
        },
        {
         "metadata": "{}",
         "name": "description",
         "type": "\"string\""
        },
        {
         "metadata": "{}",
         "name": "publication_date",
         "type": "\"string\""
        },
        {
         "metadata": "{}",
         "name": "publisher",
         "type": "\"string\""
        },
        {
         "metadata": "{}",
         "name": "title",
         "type": "\"string\""
        },
        {
         "metadata": "{}",
         "name": "url",
         "type": "\"string\""
        }
       ],
       "type": "table"
      }
     },
     "output_type": "display_data"
    }
   ],
   "source": [
    "df.display()"
   ]
  },
  {
   "cell_type": "code",
   "execution_count": 0,
   "metadata": {
    "application/vnd.databricks.v1+cell": {
     "cellMetadata": {},
     "inputWidgets": {},
     "nuid": "72b55b7d-c73b-4e88-9dbb-4abfe1d93418",
     "showTitle": false,
     "title": ""
    }
   },
   "outputs": [],
   "source": []
  }
 ],
 "metadata": {
  "application/vnd.databricks.v1+notebook": {
   "dashboards": [],
   "language": "python",
   "notebookMetadata": {
    "pythonIndentUnit": 2
   },
   "notebookName": "PROJETO",
   "widgets": {}
  }
 },
 "nbformat": 4,
 "nbformat_minor": 0
}
