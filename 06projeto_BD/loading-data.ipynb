{
  "nbformat": 4,
  "nbformat_minor": 0,
  "metadata": {
    "colab": {
      "name": "loading-data",
      "cell_execution_strategy": "setup",
      "provenance": []
    },
    "kernelspec": {
      "name": "python3",
      "display_name": "Python 3"
    },
    "language_info": {
      "name": "python"
    }
  },
  "cells": [
    {
      "cell_type": "code",
      "source": [
        "import requests\n",
        "from google.cloud import storage\n",
        "import gcsfs\n",
        "import os\n",
        "import bigframes.pandas as bf\n",
        "from google.cloud import bigquery\n",
        "\n",
        "bf.options.bigquery.location = \"us\" #this variable is set based on the dataset you chose to query\n",
        "bf.options.bigquery.project = \"bigdata-ada2024\" #this variable is set based on the dataset you chose to query\n",
        "\n",
        "\n",
        "client = storage.Client()\n",
        "bucket = client.bucket(\"ambiente-dados\")\n"
      ],
      "metadata": {
        "id": "kE0PpYmYQ6He",
        "colab": {
          "base_uri": "https://localhost:8080/"
        },
        "executionInfo": {
          "status": "ok",
          "timestamp": 1716383846056,
          "user_tz": 240,
          "elapsed": 1885,
          "user": {
            "displayName": "",
            "userId": ""
          }
        },
        "outputId": "8659dec2-5e79-48cd-92af-662c11a7b917"
      },
      "execution_count": 1,
      "outputs": [
        {
          "output_type": "stream",
          "name": "stderr",
          "text": [
            "<ipython-input-1-413966fc8cbb>:7: UnknownLocationWarning: The location 'us' is set to an unknown value.\n",
            "  bf.options.bigquery.location = \"us\" #this variable is set based on the dataset you chose to query\n"
          ]
        }
      ]
    },
    {
      "cell_type": "code",
      "source": [
        "file_url = 'https://dados.agricultura.gov.br/dataset/58bdc09c-9778-42b9-8fce-7d5c2c4fa211/resource/daf8053b-5446-4cd4-986a-f141b4a434ec/download/temas_ambientais.csv'\n",
        "local_directory = '/tmp'\n",
        "os.makedirs(local_directory, exist_ok=True)\n",
        "local_file_path = os.path.join(local_directory, 'temas_ambientais.csv')\n",
        "\n",
        "response = requests.get(file_url)\n",
        "with open(local_file_path, 'wb') as file:\n",
        "    file.write(response.content)\n",
        "\n",
        "print(f\"File downloaded to {local_file_path}\")\n",
        "\n",
        "client = storage.Client()\n",
        "bucket_name = 'ambiente-dados'\n",
        "gcs_file_path = 'temas.csv'\n",
        "\n",
        "bucket = client.get_bucket(bucket_name)\n",
        "blob = bucket.blob(gcs_file_path)\n",
        "blob.upload_from_filename(local_file_path)\n",
        "\n",
        "print(f\"File uploaded to gs://{bucket_name}/{gcs_file_path}\")"
      ],
      "metadata": {
        "colab": {
          "base_uri": "https://localhost:8080/"
        },
        "id": "Ar1PhQEedtJd",
        "executionInfo": {
          "status": "ok",
          "timestamp": 1716384934988,
          "user_tz": 240,
          "elapsed": 1084883,
          "user": {
            "displayName": "",
            "userId": ""
          }
        },
        "outputId": "e6d3bb71-a96a-4deb-83f7-fed41c18c1c7"
      },
      "execution_count": 2,
      "outputs": [
        {
          "output_type": "stream",
          "name": "stdout",
          "text": [
            "File downloaded to /tmp/temas_ambientais.csv\n",
            "File uploaded to gs://ambiente-dados/temas.csv\n"
          ]
        }
      ]
    },
    {
      "cell_type": "code",
      "source": [
        "import pandas as pd\n",
        "\n",
        "# URL do arquivo CSV\n",
        "url = \"gs://ambiente-dados/temas.csv\"\n",
        "\n",
        "# Carrega o arquivo CSV em um DataFrame\n",
        "df = pd.read_csv(url, delimiter=\";\", encoding=\"utf-8\")\n",
        "\n",
        "# Salva o DataFrame em formato Parquet\n",
        "df.to_parquet(\"temas_ambientais.parquet\")"
      ],
      "metadata": {
        "id": "ej_KkxVohMgv",
        "executionInfo": {
          "status": "ok",
          "timestamp": 1716385233185,
          "user_tz": 240,
          "elapsed": 178935,
          "user": {
            "displayName": "",
            "userId": ""
          }
        }
      },
      "execution_count": 3,
      "outputs": []
    },
    {
      "cell_type": "code",
      "source": [
        "df.to_parquet(\"temas_ambientais.parquet\")"
      ],
      "metadata": {
        "id": "38KcsMYLiVeP",
        "executionInfo": {
          "status": "ok",
          "timestamp": 1716385331010,
          "user_tz": 240,
          "elapsed": 22574,
          "user": {
            "displayName": "",
            "userId": ""
          }
        }
      },
      "execution_count": 5,
      "outputs": []
    },
    {
      "cell_type": "code",
      "source": [
        "\n",
        "# Configurações do Google Cloud Storage\n",
        "bucket_name = 'ambiente-dados'\n",
        "destination_blob_name = 'temas_ambientais.parquet'\n",
        "source_file_name = 'temas_ambientais.parquet'\n",
        "\n",
        "# Inicializa o cliente de storage\n",
        "client = storage.Client()\n",
        "\n",
        "# Obtem o bucket\n",
        "bucket = client.bucket(bucket_name)\n",
        "\n",
        "# Cria um blob no bucket\n",
        "blob = bucket.blob(destination_blob_name)\n",
        "\n",
        "# Envia o arquivo para o GCS\n",
        "blob.upload_from_filename(source_file_name)\n",
        "\n",
        "print(f'Arquivo {source_file_name} enviado para {destination_blob_name} no bucket {bucket_name}.')"
      ],
      "metadata": {
        "colab": {
          "base_uri": "https://localhost:8080/"
        },
        "id": "Ht4e2PxmhPAH",
        "executionInfo": {
          "status": "ok",
          "timestamp": 1716385387310,
          "user_tz": 240,
          "elapsed": 5767,
          "user": {
            "displayName": "",
            "userId": ""
          }
        },
        "outputId": "698c89a1-223d-4781-df9f-e75ec1143dbc"
      },
      "execution_count": 6,
      "outputs": [
        {
          "output_type": "stream",
          "name": "stdout",
          "text": [
            "Arquivo temas_ambientais.parquet enviado para temas_ambientais.parquet no bucket ambiente-dados.\n"
          ]
        }
      ]
    },
    {
      "cell_type": "markdown",
      "source": [],
      "metadata": {
        "id": "L86Nl4hRnkYJ"
      }
    },
    {
      "cell_type": "code",
      "source": [],
      "metadata": {
        "id": "xrzTc3a1sgiK"
      },
      "execution_count": null,
      "outputs": []
    }
  ]
}