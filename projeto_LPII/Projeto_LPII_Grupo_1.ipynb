{
  "nbformat": 4,
  "nbformat_minor": 0,
  "metadata": {
    "colab": {
      "private_outputs": true,
      "provenance": []
    },
    "kernelspec": {
      "name": "python3",
      "display_name": "Python 3"
    },
    "language_info": {
      "name": "python"
    }
  },
  "cells": [
    {
      "cell_type": "markdown",
      "source": [
        "# Projeto Final - Sistema de Controle Financeiro"
      ],
      "metadata": {
        "id": "QcN62PrTNuNr"
      }
    },
    {
      "cell_type": "markdown",
      "source": [
        "Deverá ser desenvolvido um sistema para controle financeiro que receba as movimentações e as armazena em um arquivo csv ou json.\n",
        "\n",
        "O sistema deverá ser capaz de realizar as seguintes operações:\n",
        "\n",
        "- **Criar** novos registros e identificar a data que o registro foi feito, qual tipo de movimentação, valor.\n",
        "\n",
        "- Os tipos podem ser despesas, receita ou investimento:\n",
        "  - No caso de receita, o valor deve ser tratado como numerico e armazenado normalmente.\n",
        "  - no caso de despesas o valor deve ser recebido como positivo, mas armazenado como negativo\n",
        "  - No caso de investimento, deve ter uma informação a mais de 'Montante', em que será calculado quanto o dinheiro rendeu desde o dia que foi investido. Para essa finalidade utilize a seguinte formula: $M = C * (1 + i)^t$ ([Saiba mais](https://matematicafinanceira.org/juros-compostos/)), considere tudo em dias.\n",
        "- **Ler** registros: Deverá ser possível consultar os registros por data, tipo ou valor.\n",
        "- **Atualizar** registros: No caso de atualização, pode-se atualizar o valor, o tipo e a data deverá ser a de atualização do registro.\n",
        "- **Deletar**: Deverá ser possível deletar o registro (caso necessário, considere o indice do elemento como ID)\n",
        "- Crie uma função que atualize os valores de rendimento sempre que chamada\n",
        "- Crie uma função exportar_relatorio, que seja possível exportar um relatorio final em csv ou json .\n",
        "- Crie pelo menos uma função de agrupamento, que seja capaz de mostrar o total de valor baseado em alguma informação (mes, tipo...)\n",
        "- Crie valores separados para identificar a data (dia, mes, ano)\n",
        "\n",
        "---\n",
        "\n",
        "Atenção:\n",
        "- Não utilize a biblioteca pandas para resolução desse exercício\n",
        "- Deem um nome criativo para a aplicação de vocês"
      ],
      "metadata": {
        "id": "h-tcXISlOEy_"
      }
    },
    {
      "cell_type": "markdown",
      "source": [
        "# Nome Criativo para a aplicação\n",
        "\n",
        "Descrever como utilizar, e o que cada função faz"
      ],
      "metadata": {
        "id": "royt-_yLzL4s"
      }
    },
    {
      "cell_type": "markdown",
      "source": [
        "## Entendendo o problema\n",
        "\n",
        "### Como será a entrada dos dados?\n",
        "  * O usuário pode entrar com uma lista de depositos?\n",
        "  * Pode ser entradas uma a uma, informando a data, valor, e tipo de operação?\n",
        "  * O programa vai ler um arquivo json ou csv com todas as movimentações feitas em um determindo periodo?\n",
        "\n",
        "## Possibiliades\n",
        "\n",
        "Considerando que, independentemente da forma de entrada dos dados, temos que gerar uma lista de dicionários, em que cada dicionário vai conter obrigatoriamente a informação de \"valor\", \"tipo\" e \"data\", podemos montar a lógica do programa da seguinte forma:\n",
        "\n",
        "### Estrutura dos dados\n",
        "- **Registro**: Cada movimentação será um dicionário com as seguintes chaves:\n",
        "    - **`data`**: Uma tupla (dia, mês, ano), ou string representando a data do registro.\n",
        "    - **`tipo`**: Uma string que pode ser \"despesa\", \"receita\" ou \"investimento\".\n",
        "    - **`valor`**: Um número representando o valor da movimentação.\n",
        "    - **`montante`**: Um número representando o montante acumulado.\n",
        "\n",
        "### Funções principais\n",
        "\n",
        "- **Criar Registro/Movimentação**: Adiciona um novo registro ao arquivo de dados.\n",
        "  * Pode ler de uma lista de dicionarios ou por inputs individuais\n",
        "- **Ler Registros**: Permite a consulta por data, tipo ou valor.\n",
        "- **Atualizar Registro**: Modifica um registro existente.\n",
        "- **Deletar Registro**: Remove um registro.\n",
        "- **Calcula Rendimento**Ç Calcula o montante de um investimento usando a fórmula M=C*(1+i)^t.\n",
        "- **Calcular Montante de Investimento**: Usa a função anterior e calcula o rendimento para cada intervalo de dadas dos registros.\n",
        "- **Exportar Relatório (Extrato bancario?)**: Gera um relatório em formato CSV ou JSON. Ordenado por data de deposito?\n",
        "- **Função de Agrupamento**: Agrega os valores com base em uma categoria específica (mês, tipo, etc.)."
      ],
      "metadata": {
        "id": "NGX9TmpXsVri"
      }
    },
    {
      "cell_type": "markdown",
      "source": [
        "# Importar modulos"
      ],
      "metadata": {
        "id": "OIaLFg77zRMr"
      }
    },
    {
      "cell_type": "code",
      "source": [],
      "metadata": {
        "id": "fmKCmFzyz-fK"
      },
      "execution_count": null,
      "outputs": []
    },
    {
      "cell_type": "markdown",
      "source": [
        "# Funções para organização e leitura dos dados"
      ],
      "metadata": {
        "id": "1ZREfJPU3JO9"
      }
    },
    {
      "cell_type": "markdown",
      "source": [
        "# Funções para input de dados"
      ],
      "metadata": {
        "id": "rsbLdP0WvSIa"
      }
    },
    {
      "cell_type": "markdown",
      "source": [
        "# Testes"
      ],
      "metadata": {
        "id": "oghT8HGZvWWZ"
      }
    },
    {
      "cell_type": "code",
      "source": [],
      "metadata": {
        "id": "MDqScK7BudZK"
      },
      "execution_count": null,
      "outputs": []
    }
  ]
}